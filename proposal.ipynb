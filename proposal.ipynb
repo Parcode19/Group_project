{
 "cells": [
  {
   "cell_type": "markdown",
   "id": "49d40b5e-88cf-4ce5-8f08-20e590eb79ae",
   "metadata": {},
   "source": [
    "## Predicting Heart Failure \n"
   ]
  },
  {
   "cell_type": "markdown",
   "id": "d9f7493d-7a1e-468f-9385-25638d90225e",
   "metadata": {},
   "source": [
    "Heart disease is a leading cause of death among adults.  According to the World Health Organization, nearly 18 million people die each year from heart disease (WHO, 2022).  Heart failure is a common result of heart disease and is identified by a variety of factors influencing the heart’s ability to properly function.  \n",
    "\n",
    "- age: age of the patient (years)\n",
    "- creatinine phosphokinase (CPK): level of the CPK enzyme in the blood (mcg/L)\n",
    "- ejection fraction: percentage of blood leaving the heart at each contraction (percentage)\n",
    "- platelets: platelets in the blood (kiloplatelets/mL)\n",
    "- serum creatinine: level of serum creatinine in the blood (mg/dL)\n",
    "- serum sodium: level of serum sodium in the blood (mEq/L) \n",
    "\n",
    "These are some of the clinical features to consider when predicting if a patient will die from heart failure.  A data set compiled by the University of California, Irvine showcases these factors in patients experiencing heart failure and the outcome of survival.  "
   ]
  },
  {
   "cell_type": "markdown",
   "id": "480ed631-3986-4079-8f9d-560850403ac0",
   "metadata": {},
   "source": [
    "**Question :**\n",
    "Predicting if a patient will die of heart failure based on the clinical features mentioned above. "
   ]
  },
  {
   "cell_type": "code",
   "execution_count": 1,
   "id": "7eeca007-10aa-40e4-a94f-8dd62c939f2c",
   "metadata": {},
   "outputs": [
    {
     "name": "stderr",
     "output_type": "stream",
     "text": [
      "── \u001b[1mAttaching packages\u001b[22m ─────────────────────────────────────── tidyverse 1.3.1 ──\n",
      "\n",
      "\u001b[32m✔\u001b[39m \u001b[34mggplot2\u001b[39m 3.3.6     \u001b[32m✔\u001b[39m \u001b[34mpurrr  \u001b[39m 0.3.4\n",
      "\u001b[32m✔\u001b[39m \u001b[34mtibble \u001b[39m 3.1.7     \u001b[32m✔\u001b[39m \u001b[34mdplyr  \u001b[39m 1.0.9\n",
      "\u001b[32m✔\u001b[39m \u001b[34mtidyr  \u001b[39m 1.2.0     \u001b[32m✔\u001b[39m \u001b[34mstringr\u001b[39m 1.4.0\n",
      "\u001b[32m✔\u001b[39m \u001b[34mreadr  \u001b[39m 2.1.2     \u001b[32m✔\u001b[39m \u001b[34mforcats\u001b[39m 0.5.1\n",
      "\n",
      "── \u001b[1mConflicts\u001b[22m ────────────────────────────────────────── tidyverse_conflicts() ──\n",
      "\u001b[31m✖\u001b[39m \u001b[34mdplyr\u001b[39m::\u001b[32mfilter()\u001b[39m masks \u001b[34mstats\u001b[39m::filter()\n",
      "\u001b[31m✖\u001b[39m \u001b[34mdplyr\u001b[39m::\u001b[32mlag()\u001b[39m    masks \u001b[34mstats\u001b[39m::lag()\n",
      "\n",
      "\n",
      "Attaching package: ‘testthat’\n",
      "\n",
      "\n",
      "The following object is masked from ‘package:dplyr’:\n",
      "\n",
      "    matches\n",
      "\n",
      "\n",
      "The following object is masked from ‘package:purrr’:\n",
      "\n",
      "    is_null\n",
      "\n",
      "\n",
      "The following objects are masked from ‘package:readr’:\n",
      "\n",
      "    edition_get, local_edition\n",
      "\n",
      "\n",
      "The following object is masked from ‘package:tidyr’:\n",
      "\n",
      "    matches\n",
      "\n",
      "\n",
      "── \u001b[1mAttaching packages\u001b[22m ────────────────────────────────────── tidymodels 1.0.0 ──\n",
      "\n",
      "\u001b[32m✔\u001b[39m \u001b[34mbroom       \u001b[39m 1.0.0     \u001b[32m✔\u001b[39m \u001b[34mrsample     \u001b[39m 1.0.0\n",
      "\u001b[32m✔\u001b[39m \u001b[34mdials       \u001b[39m 1.0.0     \u001b[32m✔\u001b[39m \u001b[34mtune        \u001b[39m 1.0.0\n",
      "\u001b[32m✔\u001b[39m \u001b[34minfer       \u001b[39m 1.0.2     \u001b[32m✔\u001b[39m \u001b[34mworkflows   \u001b[39m 1.0.0\n",
      "\u001b[32m✔\u001b[39m \u001b[34mmodeldata   \u001b[39m 1.0.0     \u001b[32m✔\u001b[39m \u001b[34mworkflowsets\u001b[39m 1.0.0\n",
      "\u001b[32m✔\u001b[39m \u001b[34mparsnip     \u001b[39m 1.0.0     \u001b[32m✔\u001b[39m \u001b[34myardstick   \u001b[39m 1.0.0\n",
      "\u001b[32m✔\u001b[39m \u001b[34mrecipes     \u001b[39m 1.0.1     \n",
      "\n",
      "── \u001b[1mConflicts\u001b[22m ───────────────────────────────────────── tidymodels_conflicts() ──\n",
      "\u001b[31m✖\u001b[39m \u001b[34mscales\u001b[39m::\u001b[32mdiscard()\u001b[39m   masks \u001b[34mpurrr\u001b[39m::discard()\n",
      "\u001b[31m✖\u001b[39m \u001b[34mdplyr\u001b[39m::\u001b[32mfilter()\u001b[39m     masks \u001b[34mstats\u001b[39m::filter()\n",
      "\u001b[31m✖\u001b[39m \u001b[34mrecipes\u001b[39m::\u001b[32mfixed()\u001b[39m    masks \u001b[34mstringr\u001b[39m::fixed()\n",
      "\u001b[31m✖\u001b[39m \u001b[34mtestthat\u001b[39m::\u001b[32mis_null()\u001b[39m masks \u001b[34mpurrr\u001b[39m::is_null()\n",
      "\u001b[31m✖\u001b[39m \u001b[34mdplyr\u001b[39m::\u001b[32mlag()\u001b[39m        masks \u001b[34mstats\u001b[39m::lag()\n",
      "\u001b[31m✖\u001b[39m \u001b[34mrsample\u001b[39m::\u001b[32mmatches()\u001b[39m  masks \u001b[34mtestthat\u001b[39m::matches(), \u001b[34mdplyr\u001b[39m::matches(), \u001b[34mtidyr\u001b[39m::matches()\n",
      "\u001b[31m✖\u001b[39m \u001b[34myardstick\u001b[39m::\u001b[32mspec()\u001b[39m   masks \u001b[34mreadr\u001b[39m::spec()\n",
      "\u001b[31m✖\u001b[39m \u001b[34mrecipes\u001b[39m::\u001b[32mstep()\u001b[39m     masks \u001b[34mstats\u001b[39m::step()\n",
      "\u001b[34m•\u001b[39m Dig deeper into tidy modeling with R at \u001b[32mhttps://www.tmwr.org\u001b[39m\n",
      "\n"
     ]
    }
   ],
   "source": [
    "library(tidyverse)\n",
    "library(testthat)\n",
    "library(digest)\n",
    "library(repr)\n",
    "library(tidymodels)\n",
    "options(repr.matrix.max.rows = 6)"
   ]
  },
  {
   "cell_type": "markdown",
   "id": "b37e4dc1-5afe-4278-8bac-614d951eda26",
   "metadata": {},
   "source": [
    "## Reading the dataset"
   ]
  },
  {
   "cell_type": "code",
   "execution_count": 2,
   "id": "cb2e7a36-b178-4bfa-b3f7-c49fd54a1f81",
   "metadata": {},
   "outputs": [
    {
     "name": "stderr",
     "output_type": "stream",
     "text": [
      "\u001b[1mRows: \u001b[22m\u001b[34m299\u001b[39m \u001b[1mColumns: \u001b[22m\u001b[34m13\u001b[39m\n",
      "\u001b[36m──\u001b[39m \u001b[1mColumn specification\u001b[22m \u001b[36m────────────────────────────────────────────────────────\u001b[39m\n",
      "\u001b[1mDelimiter:\u001b[22m \",\"\n",
      "\u001b[32mdbl\u001b[39m (13): age, anaemia, creatinine_phosphokinase, diabetes, ejection_fractio...\n",
      "\n",
      "\u001b[36mℹ\u001b[39m Use `spec()` to retrieve the full column specification for this data.\n",
      "\u001b[36mℹ\u001b[39m Specify the column types or set `show_col_types = FALSE` to quiet this message.\n"
     ]
    },
    {
     "data": {
      "text/html": [
       "<table class=\"dataframe\">\n",
       "<caption>A spec_tbl_df: 299 × 13</caption>\n",
       "<thead>\n",
       "\t<tr><th scope=col>age</th><th scope=col>anaemia</th><th scope=col>creatinine_phosphokinase</th><th scope=col>diabetes</th><th scope=col>ejection_fraction</th><th scope=col>high_blood_pressure</th><th scope=col>platelets</th><th scope=col>serum_creatinine</th><th scope=col>serum_sodium</th><th scope=col>sex</th><th scope=col>smoking</th><th scope=col>time</th><th scope=col>DEATH_EVENT</th></tr>\n",
       "\t<tr><th scope=col>&lt;dbl&gt;</th><th scope=col>&lt;dbl&gt;</th><th scope=col>&lt;dbl&gt;</th><th scope=col>&lt;dbl&gt;</th><th scope=col>&lt;dbl&gt;</th><th scope=col>&lt;dbl&gt;</th><th scope=col>&lt;dbl&gt;</th><th scope=col>&lt;dbl&gt;</th><th scope=col>&lt;dbl&gt;</th><th scope=col>&lt;dbl&gt;</th><th scope=col>&lt;dbl&gt;</th><th scope=col>&lt;dbl&gt;</th><th scope=col>&lt;dbl&gt;</th></tr>\n",
       "</thead>\n",
       "<tbody>\n",
       "\t<tr><td>75</td><td>0</td><td> 582</td><td>0</td><td>20</td><td>1</td><td>265000</td><td>1.9</td><td>130</td><td>1</td><td>0</td><td>4</td><td>1</td></tr>\n",
       "\t<tr><td>55</td><td>0</td><td>7861</td><td>0</td><td>38</td><td>0</td><td>263358</td><td>1.1</td><td>136</td><td>1</td><td>0</td><td>6</td><td>1</td></tr>\n",
       "\t<tr><td>65</td><td>0</td><td> 146</td><td>0</td><td>20</td><td>0</td><td>162000</td><td>1.3</td><td>129</td><td>1</td><td>1</td><td>7</td><td>1</td></tr>\n",
       "\t<tr><td>⋮</td><td>⋮</td><td>⋮</td><td>⋮</td><td>⋮</td><td>⋮</td><td>⋮</td><td>⋮</td><td>⋮</td><td>⋮</td><td>⋮</td><td>⋮</td><td>⋮</td></tr>\n",
       "\t<tr><td>45</td><td>0</td><td>2060</td><td>1</td><td>60</td><td>0</td><td>742000</td><td>0.8</td><td>138</td><td>0</td><td>0</td><td>278</td><td>0</td></tr>\n",
       "\t<tr><td>45</td><td>0</td><td>2413</td><td>0</td><td>38</td><td>0</td><td>140000</td><td>1.4</td><td>140</td><td>1</td><td>1</td><td>280</td><td>0</td></tr>\n",
       "\t<tr><td>50</td><td>0</td><td> 196</td><td>0</td><td>45</td><td>0</td><td>395000</td><td>1.6</td><td>136</td><td>1</td><td>1</td><td>285</td><td>0</td></tr>\n",
       "</tbody>\n",
       "</table>\n"
      ],
      "text/latex": [
       "A spec\\_tbl\\_df: 299 × 13\n",
       "\\begin{tabular}{lllllllllllll}\n",
       " age & anaemia & creatinine\\_phosphokinase & diabetes & ejection\\_fraction & high\\_blood\\_pressure & platelets & serum\\_creatinine & serum\\_sodium & sex & smoking & time & DEATH\\_EVENT\\\\\n",
       " <dbl> & <dbl> & <dbl> & <dbl> & <dbl> & <dbl> & <dbl> & <dbl> & <dbl> & <dbl> & <dbl> & <dbl> & <dbl>\\\\\n",
       "\\hline\n",
       "\t 75 & 0 &  582 & 0 & 20 & 1 & 265000 & 1.9 & 130 & 1 & 0 & 4 & 1\\\\\n",
       "\t 55 & 0 & 7861 & 0 & 38 & 0 & 263358 & 1.1 & 136 & 1 & 0 & 6 & 1\\\\\n",
       "\t 65 & 0 &  146 & 0 & 20 & 0 & 162000 & 1.3 & 129 & 1 & 1 & 7 & 1\\\\\n",
       "\t ⋮ & ⋮ & ⋮ & ⋮ & ⋮ & ⋮ & ⋮ & ⋮ & ⋮ & ⋮ & ⋮ & ⋮ & ⋮\\\\\n",
       "\t 45 & 0 & 2060 & 1 & 60 & 0 & 742000 & 0.8 & 138 & 0 & 0 & 278 & 0\\\\\n",
       "\t 45 & 0 & 2413 & 0 & 38 & 0 & 140000 & 1.4 & 140 & 1 & 1 & 280 & 0\\\\\n",
       "\t 50 & 0 &  196 & 0 & 45 & 0 & 395000 & 1.6 & 136 & 1 & 1 & 285 & 0\\\\\n",
       "\\end{tabular}\n"
      ],
      "text/markdown": [
       "\n",
       "A spec_tbl_df: 299 × 13\n",
       "\n",
       "| age &lt;dbl&gt; | anaemia &lt;dbl&gt; | creatinine_phosphokinase &lt;dbl&gt; | diabetes &lt;dbl&gt; | ejection_fraction &lt;dbl&gt; | high_blood_pressure &lt;dbl&gt; | platelets &lt;dbl&gt; | serum_creatinine &lt;dbl&gt; | serum_sodium &lt;dbl&gt; | sex &lt;dbl&gt; | smoking &lt;dbl&gt; | time &lt;dbl&gt; | DEATH_EVENT &lt;dbl&gt; |\n",
       "|---|---|---|---|---|---|---|---|---|---|---|---|---|\n",
       "| 75 | 0 |  582 | 0 | 20 | 1 | 265000 | 1.9 | 130 | 1 | 0 | 4 | 1 |\n",
       "| 55 | 0 | 7861 | 0 | 38 | 0 | 263358 | 1.1 | 136 | 1 | 0 | 6 | 1 |\n",
       "| 65 | 0 |  146 | 0 | 20 | 0 | 162000 | 1.3 | 129 | 1 | 1 | 7 | 1 |\n",
       "| ⋮ | ⋮ | ⋮ | ⋮ | ⋮ | ⋮ | ⋮ | ⋮ | ⋮ | ⋮ | ⋮ | ⋮ | ⋮ |\n",
       "| 45 | 0 | 2060 | 1 | 60 | 0 | 742000 | 0.8 | 138 | 0 | 0 | 278 | 0 |\n",
       "| 45 | 0 | 2413 | 0 | 38 | 0 | 140000 | 1.4 | 140 | 1 | 1 | 280 | 0 |\n",
       "| 50 | 0 |  196 | 0 | 45 | 0 | 395000 | 1.6 | 136 | 1 | 1 | 285 | 0 |\n",
       "\n"
      ],
      "text/plain": [
       "    age anaemia creatinine_phosphokinase diabetes ejection_fraction\n",
       "1   75  0        582                     0        20               \n",
       "2   55  0       7861                     0        38               \n",
       "3   65  0        146                     0        20               \n",
       "⋮   ⋮   ⋮       ⋮                        ⋮        ⋮                \n",
       "297 45  0       2060                     1        60               \n",
       "298 45  0       2413                     0        38               \n",
       "299 50  0        196                     0        45               \n",
       "    high_blood_pressure platelets serum_creatinine serum_sodium sex smoking\n",
       "1   1                   265000    1.9              130          1   0      \n",
       "2   0                   263358    1.1              136          1   0      \n",
       "3   0                   162000    1.3              129          1   1      \n",
       "⋮   ⋮                   ⋮         ⋮                ⋮            ⋮   ⋮      \n",
       "297 0                   742000    0.8              138          0   0      \n",
       "298 0                   140000    1.4              140          1   1      \n",
       "299 0                   395000    1.6              136          1   1      \n",
       "    time DEATH_EVENT\n",
       "1   4    1          \n",
       "2   6    1          \n",
       "3   7    1          \n",
       "⋮   ⋮    ⋮          \n",
       "297 278  0          \n",
       "298 280  0          \n",
       "299 285  0          "
      ]
     },
     "metadata": {},
     "output_type": "display_data"
    }
   ],
   "source": [
    "heart_failure <- read_csv(\"https://raw.githubusercontent.com/Parcode19/Group_project/main/heart_failure_clinical_records_dataset.csv\")\n",
    "heart_failure"
   ]
  },
  {
   "cell_type": "markdown",
   "id": "9c773b51-e807-4899-aeb6-ad410bc0eb39",
   "metadata": {
    "tags": []
   },
   "source": [
    "## Cleaning and wrangling the data\n"
   ]
  },
  {
   "cell_type": "markdown",
   "id": "f900b8c0-dd67-4b5e-9fdc-9cb7e860b9ec",
   "metadata": {},
   "source": [
    "### Selecting the columns to be used for the data analysis\n",
    "\n",
    "We clean the data and only select the columns which are needed for our analysis and answering our question. We also modify the `DEATH_EVENT` column and change the `1` to `Fatal` and `0` to `Not Fatal`. We then use mutate to change the items in the `DEATH_EVENT` column so that it contains factors since our proposal made us realize that we are working on a classifiction problem which requires the target variable to be in the form of factors."
   ]
  },
  {
   "cell_type": "code",
   "execution_count": 3,
   "id": "6545f4cd-34b3-4ba6-8fbc-517405cee2b3",
   "metadata": {},
   "outputs": [
    {
     "data": {
      "text/html": [
       "<table class=\"dataframe\">\n",
       "<caption>A tibble: 299 × 7</caption>\n",
       "<thead>\n",
       "\t<tr><th scope=col>age</th><th scope=col>creatinine_phosphokinase</th><th scope=col>ejection_fraction</th><th scope=col>platelets</th><th scope=col>serum_creatinine</th><th scope=col>serum_sodium</th><th scope=col>DEATH_EVENT</th></tr>\n",
       "\t<tr><th scope=col>&lt;dbl&gt;</th><th scope=col>&lt;dbl&gt;</th><th scope=col>&lt;dbl&gt;</th><th scope=col>&lt;dbl&gt;</th><th scope=col>&lt;dbl&gt;</th><th scope=col>&lt;dbl&gt;</th><th scope=col>&lt;chr&gt;</th></tr>\n",
       "</thead>\n",
       "<tbody>\n",
       "\t<tr><td>75</td><td> 582</td><td>20</td><td>265000</td><td>1.9</td><td>130</td><td>Fatal</td></tr>\n",
       "\t<tr><td>55</td><td>7861</td><td>38</td><td>263358</td><td>1.1</td><td>136</td><td>Fatal</td></tr>\n",
       "\t<tr><td>65</td><td> 146</td><td>20</td><td>162000</td><td>1.3</td><td>129</td><td>Fatal</td></tr>\n",
       "\t<tr><td>⋮</td><td>⋮</td><td>⋮</td><td>⋮</td><td>⋮</td><td>⋮</td><td>⋮</td></tr>\n",
       "\t<tr><td>45</td><td>2060</td><td>60</td><td>742000</td><td>0.8</td><td>138</td><td>Not Fatal</td></tr>\n",
       "\t<tr><td>45</td><td>2413</td><td>38</td><td>140000</td><td>1.4</td><td>140</td><td>Not Fatal</td></tr>\n",
       "\t<tr><td>50</td><td> 196</td><td>45</td><td>395000</td><td>1.6</td><td>136</td><td>Not Fatal</td></tr>\n",
       "</tbody>\n",
       "</table>\n"
      ],
      "text/latex": [
       "A tibble: 299 × 7\n",
       "\\begin{tabular}{lllllll}\n",
       " age & creatinine\\_phosphokinase & ejection\\_fraction & platelets & serum\\_creatinine & serum\\_sodium & DEATH\\_EVENT\\\\\n",
       " <dbl> & <dbl> & <dbl> & <dbl> & <dbl> & <dbl> & <chr>\\\\\n",
       "\\hline\n",
       "\t 75 &  582 & 20 & 265000 & 1.9 & 130 & Fatal\\\\\n",
       "\t 55 & 7861 & 38 & 263358 & 1.1 & 136 & Fatal\\\\\n",
       "\t 65 &  146 & 20 & 162000 & 1.3 & 129 & Fatal\\\\\n",
       "\t ⋮ & ⋮ & ⋮ & ⋮ & ⋮ & ⋮ & ⋮\\\\\n",
       "\t 45 & 2060 & 60 & 742000 & 0.8 & 138 & Not Fatal\\\\\n",
       "\t 45 & 2413 & 38 & 140000 & 1.4 & 140 & Not Fatal\\\\\n",
       "\t 50 &  196 & 45 & 395000 & 1.6 & 136 & Not Fatal\\\\\n",
       "\\end{tabular}\n"
      ],
      "text/markdown": [
       "\n",
       "A tibble: 299 × 7\n",
       "\n",
       "| age &lt;dbl&gt; | creatinine_phosphokinase &lt;dbl&gt; | ejection_fraction &lt;dbl&gt; | platelets &lt;dbl&gt; | serum_creatinine &lt;dbl&gt; | serum_sodium &lt;dbl&gt; | DEATH_EVENT &lt;chr&gt; |\n",
       "|---|---|---|---|---|---|---|\n",
       "| 75 |  582 | 20 | 265000 | 1.9 | 130 | Fatal |\n",
       "| 55 | 7861 | 38 | 263358 | 1.1 | 136 | Fatal |\n",
       "| 65 |  146 | 20 | 162000 | 1.3 | 129 | Fatal |\n",
       "| ⋮ | ⋮ | ⋮ | ⋮ | ⋮ | ⋮ | ⋮ |\n",
       "| 45 | 2060 | 60 | 742000 | 0.8 | 138 | Not Fatal |\n",
       "| 45 | 2413 | 38 | 140000 | 1.4 | 140 | Not Fatal |\n",
       "| 50 |  196 | 45 | 395000 | 1.6 | 136 | Not Fatal |\n",
       "\n"
      ],
      "text/plain": [
       "    age creatinine_phosphokinase ejection_fraction platelets serum_creatinine\n",
       "1   75   582                     20                265000    1.9             \n",
       "2   55  7861                     38                263358    1.1             \n",
       "3   65   146                     20                162000    1.3             \n",
       "⋮   ⋮   ⋮                        ⋮                 ⋮         ⋮               \n",
       "297 45  2060                     60                742000    0.8             \n",
       "298 45  2413                     38                140000    1.4             \n",
       "299 50   196                     45                395000    1.6             \n",
       "    serum_sodium DEATH_EVENT\n",
       "1   130          Fatal      \n",
       "2   136          Fatal      \n",
       "3   129          Fatal      \n",
       "⋮   ⋮            ⋮          \n",
       "297 138          Not Fatal  \n",
       "298 140          Not Fatal  \n",
       "299 136          Not Fatal  "
      ]
     },
     "metadata": {},
     "output_type": "display_data"
    },
    {
     "data": {
      "text/html": [
       "<table class=\"dataframe\">\n",
       "<caption>A tibble: 299 × 7</caption>\n",
       "<thead>\n",
       "\t<tr><th scope=col>age</th><th scope=col>creatinine_phosphokinase</th><th scope=col>ejection_fraction</th><th scope=col>platelets</th><th scope=col>serum_creatinine</th><th scope=col>serum_sodium</th><th scope=col>DEATH_EVENT</th></tr>\n",
       "\t<tr><th scope=col>&lt;dbl&gt;</th><th scope=col>&lt;dbl&gt;</th><th scope=col>&lt;dbl&gt;</th><th scope=col>&lt;dbl&gt;</th><th scope=col>&lt;dbl&gt;</th><th scope=col>&lt;dbl&gt;</th><th scope=col>&lt;fct&gt;</th></tr>\n",
       "</thead>\n",
       "<tbody>\n",
       "\t<tr><td>75</td><td> 582</td><td>20</td><td>265000</td><td>1.9</td><td>130</td><td>Fatal</td></tr>\n",
       "\t<tr><td>55</td><td>7861</td><td>38</td><td>263358</td><td>1.1</td><td>136</td><td>Fatal</td></tr>\n",
       "\t<tr><td>65</td><td> 146</td><td>20</td><td>162000</td><td>1.3</td><td>129</td><td>Fatal</td></tr>\n",
       "\t<tr><td>⋮</td><td>⋮</td><td>⋮</td><td>⋮</td><td>⋮</td><td>⋮</td><td>⋮</td></tr>\n",
       "\t<tr><td>45</td><td>2060</td><td>60</td><td>742000</td><td>0.8</td><td>138</td><td>Not Fatal</td></tr>\n",
       "\t<tr><td>45</td><td>2413</td><td>38</td><td>140000</td><td>1.4</td><td>140</td><td>Not Fatal</td></tr>\n",
       "\t<tr><td>50</td><td> 196</td><td>45</td><td>395000</td><td>1.6</td><td>136</td><td>Not Fatal</td></tr>\n",
       "</tbody>\n",
       "</table>\n"
      ],
      "text/latex": [
       "A tibble: 299 × 7\n",
       "\\begin{tabular}{lllllll}\n",
       " age & creatinine\\_phosphokinase & ejection\\_fraction & platelets & serum\\_creatinine & serum\\_sodium & DEATH\\_EVENT\\\\\n",
       " <dbl> & <dbl> & <dbl> & <dbl> & <dbl> & <dbl> & <fct>\\\\\n",
       "\\hline\n",
       "\t 75 &  582 & 20 & 265000 & 1.9 & 130 & Fatal\\\\\n",
       "\t 55 & 7861 & 38 & 263358 & 1.1 & 136 & Fatal\\\\\n",
       "\t 65 &  146 & 20 & 162000 & 1.3 & 129 & Fatal\\\\\n",
       "\t ⋮ & ⋮ & ⋮ & ⋮ & ⋮ & ⋮ & ⋮\\\\\n",
       "\t 45 & 2060 & 60 & 742000 & 0.8 & 138 & Not Fatal\\\\\n",
       "\t 45 & 2413 & 38 & 140000 & 1.4 & 140 & Not Fatal\\\\\n",
       "\t 50 &  196 & 45 & 395000 & 1.6 & 136 & Not Fatal\\\\\n",
       "\\end{tabular}\n"
      ],
      "text/markdown": [
       "\n",
       "A tibble: 299 × 7\n",
       "\n",
       "| age &lt;dbl&gt; | creatinine_phosphokinase &lt;dbl&gt; | ejection_fraction &lt;dbl&gt; | platelets &lt;dbl&gt; | serum_creatinine &lt;dbl&gt; | serum_sodium &lt;dbl&gt; | DEATH_EVENT &lt;fct&gt; |\n",
       "|---|---|---|---|---|---|---|\n",
       "| 75 |  582 | 20 | 265000 | 1.9 | 130 | Fatal |\n",
       "| 55 | 7861 | 38 | 263358 | 1.1 | 136 | Fatal |\n",
       "| 65 |  146 | 20 | 162000 | 1.3 | 129 | Fatal |\n",
       "| ⋮ | ⋮ | ⋮ | ⋮ | ⋮ | ⋮ | ⋮ |\n",
       "| 45 | 2060 | 60 | 742000 | 0.8 | 138 | Not Fatal |\n",
       "| 45 | 2413 | 38 | 140000 | 1.4 | 140 | Not Fatal |\n",
       "| 50 |  196 | 45 | 395000 | 1.6 | 136 | Not Fatal |\n",
       "\n"
      ],
      "text/plain": [
       "    age creatinine_phosphokinase ejection_fraction platelets serum_creatinine\n",
       "1   75   582                     20                265000    1.9             \n",
       "2   55  7861                     38                263358    1.1             \n",
       "3   65   146                     20                162000    1.3             \n",
       "⋮   ⋮   ⋮                        ⋮                 ⋮         ⋮               \n",
       "297 45  2060                     60                742000    0.8             \n",
       "298 45  2413                     38                140000    1.4             \n",
       "299 50   196                     45                395000    1.6             \n",
       "    serum_sodium DEATH_EVENT\n",
       "1   130          Fatal      \n",
       "2   136          Fatal      \n",
       "3   129          Fatal      \n",
       "⋮   ⋮            ⋮          \n",
       "297 138          Not Fatal  \n",
       "298 140          Not Fatal  \n",
       "299 136          Not Fatal  "
      ]
     },
     "metadata": {},
     "output_type": "display_data"
    }
   ],
   "source": [
    "heart_data <- heart_failure |>\n",
    "    select(age, \n",
    "           creatinine_phosphokinase, \n",
    "           ejection_fraction, \n",
    "           platelets, \n",
    "           serum_creatinine, \n",
    "           serum_sodium, \n",
    "           DEATH_EVENT) \n",
    "\n",
    "heart_data$DEATH_EVENT <- ifelse(heart_data$DEATH_EVENT == 0, \"Not Fatal\", \"Fatal\") \n",
    "heart_data \n",
    "\n",
    "heart_data <- heart_data  |>\n",
    "      mutate(DEATH_EVENT = as_factor(DEATH_EVENT))\n",
    "heart_data\n"
   ]
  },
  {
   "cell_type": "markdown",
   "id": "bc705478-557e-4882-bf9f-16554f7c39b3",
   "metadata": {
    "tags": []
   },
   "source": [
    "## Optimising the number of predictors"
   ]
  },
  {
   "cell_type": "code",
   "execution_count": 4,
   "id": "aaf5be98-ce97-4706-a15b-1eb8b8d57b78",
   "metadata": {},
   "outputs": [],
   "source": [
    "names <- colnames(heart_data |> select(-DEATH_EVENT))"
   ]
  },
  {
   "cell_type": "code",
   "execution_count": 5,
   "id": "2f0e1b90-a87c-4687-a3cc-a3ecf2e483c2",
   "metadata": {},
   "outputs": [
    {
     "data": {
      "text/html": [
       "<table class=\"dataframe\">\n",
       "<caption>A tibble: 6 × 3</caption>\n",
       "<thead>\n",
       "\t<tr><th scope=col>size</th><th scope=col>model_string</th><th scope=col>accuracy</th></tr>\n",
       "\t<tr><th scope=col>&lt;int&gt;</th><th scope=col>&lt;chr&gt;</th><th scope=col>&lt;dbl&gt;</th></tr>\n",
       "</thead>\n",
       "<tbody>\n",
       "\t<tr><td>1</td><td>DEATH_EVENT ~ ejection_fraction                                                                     </td><td>0.6820571</td></tr>\n",
       "\t<tr><td>2</td><td>DEATH_EVENT ~ ejection_fraction+serum_creatinine                                                    </td><td>0.7662415</td></tr>\n",
       "\t<tr><td>3</td><td>DEATH_EVENT ~ ejection_fraction+serum_creatinine+serum_sodium                                       </td><td>0.7763527</td></tr>\n",
       "\t<tr><td>4</td><td>DEATH_EVENT ~ ejection_fraction+serum_creatinine+serum_sodium+creatinine_phosphokinase              </td><td>0.7699046</td></tr>\n",
       "\t<tr><td>5</td><td>DEATH_EVENT ~ ejection_fraction+serum_creatinine+serum_sodium+creatinine_phosphokinase+platelets    </td><td>0.7562925</td></tr>\n",
       "\t<tr><td>6</td><td>DEATH_EVENT ~ ejection_fraction+serum_creatinine+serum_sodium+creatinine_phosphokinase+platelets+age</td><td>0.7464583</td></tr>\n",
       "</tbody>\n",
       "</table>\n"
      ],
      "text/latex": [
       "A tibble: 6 × 3\n",
       "\\begin{tabular}{lll}\n",
       " size & model\\_string & accuracy\\\\\n",
       " <int> & <chr> & <dbl>\\\\\n",
       "\\hline\n",
       "\t 1 & DEATH\\_EVENT \\textasciitilde{} ejection\\_fraction                                                                      & 0.6820571\\\\\n",
       "\t 2 & DEATH\\_EVENT \\textasciitilde{} ejection\\_fraction+serum\\_creatinine                                                     & 0.7662415\\\\\n",
       "\t 3 & DEATH\\_EVENT \\textasciitilde{} ejection\\_fraction+serum\\_creatinine+serum\\_sodium                                        & 0.7763527\\\\\n",
       "\t 4 & DEATH\\_EVENT \\textasciitilde{} ejection\\_fraction+serum\\_creatinine+serum\\_sodium+creatinine\\_phosphokinase               & 0.7699046\\\\\n",
       "\t 5 & DEATH\\_EVENT \\textasciitilde{} ejection\\_fraction+serum\\_creatinine+serum\\_sodium+creatinine\\_phosphokinase+platelets     & 0.7562925\\\\\n",
       "\t 6 & DEATH\\_EVENT \\textasciitilde{} ejection\\_fraction+serum\\_creatinine+serum\\_sodium+creatinine\\_phosphokinase+platelets+age & 0.7464583\\\\\n",
       "\\end{tabular}\n"
      ],
      "text/markdown": [
       "\n",
       "A tibble: 6 × 3\n",
       "\n",
       "| size &lt;int&gt; | model_string &lt;chr&gt; | accuracy &lt;dbl&gt; |\n",
       "|---|---|---|\n",
       "| 1 | DEATH_EVENT ~ ejection_fraction                                                                      | 0.6820571 |\n",
       "| 2 | DEATH_EVENT ~ ejection_fraction+serum_creatinine                                                     | 0.7662415 |\n",
       "| 3 | DEATH_EVENT ~ ejection_fraction+serum_creatinine+serum_sodium                                        | 0.7763527 |\n",
       "| 4 | DEATH_EVENT ~ ejection_fraction+serum_creatinine+serum_sodium+creatinine_phosphokinase               | 0.7699046 |\n",
       "| 5 | DEATH_EVENT ~ ejection_fraction+serum_creatinine+serum_sodium+creatinine_phosphokinase+platelets     | 0.7562925 |\n",
       "| 6 | DEATH_EVENT ~ ejection_fraction+serum_creatinine+serum_sodium+creatinine_phosphokinase+platelets+age | 0.7464583 |\n",
       "\n"
      ],
      "text/plain": [
       "  size\n",
       "1 1   \n",
       "2 2   \n",
       "3 3   \n",
       "4 4   \n",
       "5 5   \n",
       "6 6   \n",
       "  model_string                                                                                        \n",
       "1 DEATH_EVENT ~ ejection_fraction                                                                     \n",
       "2 DEATH_EVENT ~ ejection_fraction+serum_creatinine                                                    \n",
       "3 DEATH_EVENT ~ ejection_fraction+serum_creatinine+serum_sodium                                       \n",
       "4 DEATH_EVENT ~ ejection_fraction+serum_creatinine+serum_sodium+creatinine_phosphokinase              \n",
       "5 DEATH_EVENT ~ ejection_fraction+serum_creatinine+serum_sodium+creatinine_phosphokinase+platelets    \n",
       "6 DEATH_EVENT ~ ejection_fraction+serum_creatinine+serum_sodium+creatinine_phosphokinase+platelets+age\n",
       "  accuracy \n",
       "1 0.6820571\n",
       "2 0.7662415\n",
       "3 0.7763527\n",
       "4 0.7699046\n",
       "5 0.7562925\n",
       "6 0.7464583"
      ]
     },
     "metadata": {},
     "output_type": "display_data"
    }
   ],
   "source": [
    "# create an empty tibble to store the results\n",
    "accuracies <- tibble(size = integer(), \n",
    "                     model_string = character(), \n",
    "                     accuracy = numeric())\n",
    "\n",
    "# create a model specification\n",
    "knn_spec <- nearest_neighbor(weight_func = \"rectangular\", \n",
    "                             neighbors = tune()) |>\n",
    "     set_engine(\"kknn\") |>\n",
    "     set_mode(\"classification\")\n",
    "\n",
    "# create a 5-fold cross-validation object\n",
    "heart_vfold <- vfold_cv(heart_data, v = 5, strata = DEATH_EVENT)\n",
    "\n",
    "# store the total number of predictors\n",
    "n_total <- length(names)\n",
    "\n",
    "# stores selected predictors\n",
    "selected <- c()\n",
    "\n",
    "# for every size from 1 to the total number of predictors\n",
    "for (i in 1:n_total) {\n",
    "    # for every predictor still not added yet\n",
    "    accs <- list()\n",
    "    models <- list()\n",
    "    for (j in 1:length(names)) {\n",
    "        # create a model string for this combination of predictors\n",
    "        preds_new <- c(selected, names[[j]])\n",
    "        model_string <- paste(\"DEATH_EVENT\", \"~\", paste(preds_new, collapse=\"+\"))\n",
    "\n",
    "        # create a recipe from the model string\n",
    "        heart_recipe <- recipe(as.formula(model_string), \n",
    "                                data = heart_data) |>\n",
    "                          step_scale(all_predictors()) |>\n",
    "                          step_center(all_predictors())\n",
    "\n",
    "        # tune the KNN classifier with these predictors, \n",
    "        # and collect the accuracy for the best K\n",
    "        acc <- workflow() |>\n",
    "          add_recipe(heart_recipe) |>\n",
    "          add_model(knn_spec) |>\n",
    "          tune_grid(resamples = heart_vfold, grid = 10) |>\n",
    "          collect_metrics() |>\n",
    "          filter(.metric == \"accuracy\") |>\n",
    "          summarize(mx = max(mean))\n",
    "        acc <- acc$mx |> unlist()\n",
    "\n",
    "        # add this result to the dataframe\n",
    "        accs[[j]] <- acc\n",
    "        models[[j]] <- model_string\n",
    "    }\n",
    "    jstar <- which.max(unlist(accs))\n",
    "    accuracies <- accuracies |> \n",
    "      add_row(size = i, \n",
    "              model_string = models[[jstar]], \n",
    "              accuracy = accs[[jstar]])\n",
    "    selected <- c(selected, names[[jstar]])\n",
    "    names <- names[-jstar]\n",
    "}\n",
    "accuracies"
   ]
  },
  {
   "cell_type": "markdown",
   "id": "875bd8fd-8950-4241-ab2e-bbe775c42474",
   "metadata": {},
   "source": [
    "!!!!!!!!!!"
   ]
  },
  {
   "cell_type": "code",
   "execution_count": 6,
   "id": "c8ff98ae-595b-4c3e-a6c2-0b1eadf83937",
   "metadata": {},
   "outputs": [
    {
     "data": {
      "text/html": [
       "<table class=\"dataframe\">\n",
       "<caption>A tibble: 299 × 3</caption>\n",
       "<thead>\n",
       "\t<tr><th scope=col>ejection_fraction</th><th scope=col>serum_creatinine</th><th scope=col>DEATH_EVENT</th></tr>\n",
       "\t<tr><th scope=col>&lt;dbl&gt;</th><th scope=col>&lt;dbl&gt;</th><th scope=col>&lt;fct&gt;</th></tr>\n",
       "</thead>\n",
       "<tbody>\n",
       "\t<tr><td>20</td><td>1.9</td><td>Fatal</td></tr>\n",
       "\t<tr><td>38</td><td>1.1</td><td>Fatal</td></tr>\n",
       "\t<tr><td>20</td><td>1.3</td><td>Fatal</td></tr>\n",
       "\t<tr><td>⋮</td><td>⋮</td><td>⋮</td></tr>\n",
       "\t<tr><td>60</td><td>0.8</td><td>Not Fatal</td></tr>\n",
       "\t<tr><td>38</td><td>1.4</td><td>Not Fatal</td></tr>\n",
       "\t<tr><td>45</td><td>1.6</td><td>Not Fatal</td></tr>\n",
       "</tbody>\n",
       "</table>\n"
      ],
      "text/latex": [
       "A tibble: 299 × 3\n",
       "\\begin{tabular}{lll}\n",
       " ejection\\_fraction & serum\\_creatinine & DEATH\\_EVENT\\\\\n",
       " <dbl> & <dbl> & <fct>\\\\\n",
       "\\hline\n",
       "\t 20 & 1.9 & Fatal\\\\\n",
       "\t 38 & 1.1 & Fatal\\\\\n",
       "\t 20 & 1.3 & Fatal\\\\\n",
       "\t ⋮ & ⋮ & ⋮\\\\\n",
       "\t 60 & 0.8 & Not Fatal\\\\\n",
       "\t 38 & 1.4 & Not Fatal\\\\\n",
       "\t 45 & 1.6 & Not Fatal\\\\\n",
       "\\end{tabular}\n"
      ],
      "text/markdown": [
       "\n",
       "A tibble: 299 × 3\n",
       "\n",
       "| ejection_fraction &lt;dbl&gt; | serum_creatinine &lt;dbl&gt; | DEATH_EVENT &lt;fct&gt; |\n",
       "|---|---|---|\n",
       "| 20 | 1.9 | Fatal |\n",
       "| 38 | 1.1 | Fatal |\n",
       "| 20 | 1.3 | Fatal |\n",
       "| ⋮ | ⋮ | ⋮ |\n",
       "| 60 | 0.8 | Not Fatal |\n",
       "| 38 | 1.4 | Not Fatal |\n",
       "| 45 | 1.6 | Not Fatal |\n",
       "\n"
      ],
      "text/plain": [
       "    ejection_fraction serum_creatinine DEATH_EVENT\n",
       "1   20                1.9              Fatal      \n",
       "2   38                1.1              Fatal      \n",
       "3   20                1.3              Fatal      \n",
       "⋮   ⋮                 ⋮                ⋮          \n",
       "297 60                0.8              Not Fatal  \n",
       "298 38                1.4              Not Fatal  \n",
       "299 45                1.6              Not Fatal  "
      ]
     },
     "metadata": {},
     "output_type": "display_data"
    }
   ],
   "source": [
    "heart_new_data <- select (heart_data, ejection_fraction, serum_creatinine, DEATH_EVENT)\n",
    "heart_new_data"
   ]
  },
  {
   "cell_type": "markdown",
   "id": "acedb2e3-57cf-4611-b27d-0b954695d6b8",
   "metadata": {
    "tags": []
   },
   "source": [
    "## Scaling the dataset for equal contributions of each columns"
   ]
  },
  {
   "cell_type": "code",
   "execution_count": 7,
   "id": "20841b12-766e-42b8-8499-3ada4be88ce1",
   "metadata": {},
   "outputs": [
    {
     "data": {
      "text/html": [
       "<table class=\"dataframe\">\n",
       "<caption>A tibble: 299 × 5</caption>\n",
       "<thead>\n",
       "\t<tr><th scope=col>ejection_fraction</th><th scope=col>serum_creatinine</th><th scope=col>DEATH_EVENT</th><th scope=col>scaled_ejection_fraction</th><th scope=col>scaled_serum_creatinine</th></tr>\n",
       "\t<tr><th scope=col>&lt;dbl&gt;</th><th scope=col>&lt;dbl&gt;</th><th scope=col>&lt;fct&gt;</th><th scope=col>&lt;dbl[,1]&gt;</th><th scope=col>&lt;dbl[,1]&gt;</th></tr>\n",
       "</thead>\n",
       "<tbody>\n",
       "\t<tr><td>20</td><td>1.9</td><td>Fatal</td><td>-1.527997920</td><td> 0.48923681</td></tr>\n",
       "\t<tr><td>38</td><td>1.1</td><td>Fatal</td><td>-0.007064906</td><td>-0.28407611</td></tr>\n",
       "\t<tr><td>20</td><td>1.3</td><td>Fatal</td><td>-1.527997920</td><td>-0.09074788</td></tr>\n",
       "\t<tr><td>⋮</td><td>⋮</td><td>⋮</td><td>⋮</td><td>⋮</td></tr>\n",
       "\t<tr><td>60</td><td>0.8</td><td>Not Fatal</td><td> 1.851853222</td><td>-0.574068459</td></tr>\n",
       "\t<tr><td>38</td><td>1.4</td><td>Not Fatal</td><td>-0.007064906</td><td> 0.005916232</td></tr>\n",
       "\t<tr><td>45</td><td>1.6</td><td>Not Fatal</td><td> 0.584409044</td><td> 0.199244462</td></tr>\n",
       "</tbody>\n",
       "</table>\n"
      ],
      "text/latex": [
       "A tibble: 299 × 5\n",
       "\\begin{tabular}{lllll}\n",
       " ejection\\_fraction & serum\\_creatinine & DEATH\\_EVENT & scaled\\_ejection\\_fraction & scaled\\_serum\\_creatinine\\\\\n",
       " <dbl> & <dbl> & <fct> & <dbl{[},1{]}> & <dbl{[},1{]}>\\\\\n",
       "\\hline\n",
       "\t 20 & 1.9 & Fatal & -1.527997920 &  0.48923681\\\\\n",
       "\t 38 & 1.1 & Fatal & -0.007064906 & -0.28407611\\\\\n",
       "\t 20 & 1.3 & Fatal & -1.527997920 & -0.09074788\\\\\n",
       "\t ⋮ & ⋮ & ⋮ & ⋮ & ⋮\\\\\n",
       "\t 60 & 0.8 & Not Fatal &  1.851853222 & -0.574068459\\\\\n",
       "\t 38 & 1.4 & Not Fatal & -0.007064906 &  0.005916232\\\\\n",
       "\t 45 & 1.6 & Not Fatal &  0.584409044 &  0.199244462\\\\\n",
       "\\end{tabular}\n"
      ],
      "text/markdown": [
       "\n",
       "A tibble: 299 × 5\n",
       "\n",
       "| ejection_fraction &lt;dbl&gt; | serum_creatinine &lt;dbl&gt; | DEATH_EVENT &lt;fct&gt; | scaled_ejection_fraction &lt;dbl[,1]&gt; | scaled_serum_creatinine &lt;dbl[,1]&gt; |\n",
       "|---|---|---|---|---|\n",
       "| 20 | 1.9 | Fatal | -1.527997920 |  0.48923681 |\n",
       "| 38 | 1.1 | Fatal | -0.007064906 | -0.28407611 |\n",
       "| 20 | 1.3 | Fatal | -1.527997920 | -0.09074788 |\n",
       "| ⋮ | ⋮ | ⋮ | ⋮ | ⋮ |\n",
       "| 60 | 0.8 | Not Fatal |  1.851853222 | -0.574068459 |\n",
       "| 38 | 1.4 | Not Fatal | -0.007064906 |  0.005916232 |\n",
       "| 45 | 1.6 | Not Fatal |  0.584409044 |  0.199244462 |\n",
       "\n"
      ],
      "text/plain": [
       "    ejection_fraction serum_creatinine DEATH_EVENT scaled_ejection_fraction\n",
       "1   20                1.9              Fatal       -1.527997920            \n",
       "2   38                1.1              Fatal       -0.007064906            \n",
       "3   20                1.3              Fatal       -1.527997920            \n",
       "⋮   ⋮                 ⋮                ⋮           ⋮                       \n",
       "297 60                0.8              Not Fatal    1.851853222            \n",
       "298 38                1.4              Not Fatal   -0.007064906            \n",
       "299 45                1.6              Not Fatal    0.584409044            \n",
       "    scaled_serum_creatinine\n",
       "1    0.48923681            \n",
       "2   -0.28407611            \n",
       "3   -0.09074788            \n",
       "⋮   ⋮                      \n",
       "297 -0.574068459           \n",
       "298  0.005916232           \n",
       "299  0.199244462           "
      ]
     },
     "metadata": {},
     "output_type": "display_data"
    }
   ],
   "source": [
    "heart_subset <- heart_new_data |>\n",
    "    mutate(scaled_ejection_fraction = scale(ejection_fraction, center = TRUE),\n",
    "           scaled_serum_creatinine = scale(serum_creatinine, center = TRUE))\n",
    "heart_subset"
   ]
  },
  {
   "cell_type": "markdown",
   "id": "4e07c50f-1e64-421a-947e-7447bcf14cf0",
   "metadata": {},
   "source": [
    "## Splitting the table into training and testing dataset "
   ]
  },
  {
   "cell_type": "markdown",
   "id": "addb4023-a441-4db9-b0a7-ba321cfe66aa",
   "metadata": {},
   "source": [
    "We split the scaled data into a training set and a testing set. \n",
    "\n",
    "We will only use the training set when building the classifier. Then, we will use the testing data set to evaluate the accuracy of our classifier. We split the data so that 75% of the data ends up in the training set and 25% in the testing set."
   ]
  },
  {
   "cell_type": "code",
   "execution_count": 8,
   "id": "73cdf0b9-5f4c-4df6-aa04-8f79383712c3",
   "metadata": {},
   "outputs": [
    {
     "data": {
      "text/html": [
       "<table class=\"dataframe\">\n",
       "<caption>A tibble: 224 × 5</caption>\n",
       "<thead>\n",
       "\t<tr><th scope=col>ejection_fraction</th><th scope=col>serum_creatinine</th><th scope=col>DEATH_EVENT</th><th scope=col>scaled_ejection_fraction</th><th scope=col>scaled_serum_creatinine</th></tr>\n",
       "\t<tr><th scope=col>&lt;dbl&gt;</th><th scope=col>&lt;dbl&gt;</th><th scope=col>&lt;fct&gt;</th><th scope=col>&lt;dbl[,1]&gt;</th><th scope=col>&lt;dbl[,1]&gt;</th></tr>\n",
       "</thead>\n",
       "<tbody>\n",
       "\t<tr><td>20</td><td>1.9</td><td>Fatal</td><td>-1.527997920</td><td> 0.48923681</td></tr>\n",
       "\t<tr><td>38</td><td>1.1</td><td>Fatal</td><td>-0.007064906</td><td>-0.28407611</td></tr>\n",
       "\t<tr><td>20</td><td>1.3</td><td>Fatal</td><td>-1.527997920</td><td>-0.09074788</td></tr>\n",
       "\t<tr><td>⋮</td><td>⋮</td><td>⋮</td><td>⋮</td><td>⋮</td></tr>\n",
       "\t<tr><td>38</td><td>1.2</td><td>Not Fatal</td><td>-0.007064906</td><td>-0.1874120</td></tr>\n",
       "\t<tr><td>60</td><td>0.8</td><td>Not Fatal</td><td> 1.851853222</td><td>-0.5740685</td></tr>\n",
       "\t<tr><td>45</td><td>1.6</td><td>Not Fatal</td><td> 0.584409044</td><td> 0.1992445</td></tr>\n",
       "</tbody>\n",
       "</table>\n"
      ],
      "text/latex": [
       "A tibble: 224 × 5\n",
       "\\begin{tabular}{lllll}\n",
       " ejection\\_fraction & serum\\_creatinine & DEATH\\_EVENT & scaled\\_ejection\\_fraction & scaled\\_serum\\_creatinine\\\\\n",
       " <dbl> & <dbl> & <fct> & <dbl{[},1{]}> & <dbl{[},1{]}>\\\\\n",
       "\\hline\n",
       "\t 20 & 1.9 & Fatal & -1.527997920 &  0.48923681\\\\\n",
       "\t 38 & 1.1 & Fatal & -0.007064906 & -0.28407611\\\\\n",
       "\t 20 & 1.3 & Fatal & -1.527997920 & -0.09074788\\\\\n",
       "\t ⋮ & ⋮ & ⋮ & ⋮ & ⋮\\\\\n",
       "\t 38 & 1.2 & Not Fatal & -0.007064906 & -0.1874120\\\\\n",
       "\t 60 & 0.8 & Not Fatal &  1.851853222 & -0.5740685\\\\\n",
       "\t 45 & 1.6 & Not Fatal &  0.584409044 &  0.1992445\\\\\n",
       "\\end{tabular}\n"
      ],
      "text/markdown": [
       "\n",
       "A tibble: 224 × 5\n",
       "\n",
       "| ejection_fraction &lt;dbl&gt; | serum_creatinine &lt;dbl&gt; | DEATH_EVENT &lt;fct&gt; | scaled_ejection_fraction &lt;dbl[,1]&gt; | scaled_serum_creatinine &lt;dbl[,1]&gt; |\n",
       "|---|---|---|---|---|\n",
       "| 20 | 1.9 | Fatal | -1.527997920 |  0.48923681 |\n",
       "| 38 | 1.1 | Fatal | -0.007064906 | -0.28407611 |\n",
       "| 20 | 1.3 | Fatal | -1.527997920 | -0.09074788 |\n",
       "| ⋮ | ⋮ | ⋮ | ⋮ | ⋮ |\n",
       "| 38 | 1.2 | Not Fatal | -0.007064906 | -0.1874120 |\n",
       "| 60 | 0.8 | Not Fatal |  1.851853222 | -0.5740685 |\n",
       "| 45 | 1.6 | Not Fatal |  0.584409044 |  0.1992445 |\n",
       "\n"
      ],
      "text/plain": [
       "    ejection_fraction serum_creatinine DEATH_EVENT scaled_ejection_fraction\n",
       "1   20                1.9              Fatal       -1.527997920            \n",
       "2   38                1.1              Fatal       -0.007064906            \n",
       "3   20                1.3              Fatal       -1.527997920            \n",
       "⋮   ⋮                 ⋮                ⋮           ⋮                       \n",
       "222 38                1.2              Not Fatal   -0.007064906            \n",
       "223 60                0.8              Not Fatal    1.851853222            \n",
       "224 45                1.6              Not Fatal    0.584409044            \n",
       "    scaled_serum_creatinine\n",
       "1    0.48923681            \n",
       "2   -0.28407611            \n",
       "3   -0.09074788            \n",
       "⋮   ⋮                      \n",
       "222 -0.1874120             \n",
       "223 -0.5740685             \n",
       "224  0.1992445             "
      ]
     },
     "metadata": {},
     "output_type": "display_data"
    },
    {
     "data": {
      "text/html": [
       "<table class=\"dataframe\">\n",
       "<caption>A tibble: 75 × 5</caption>\n",
       "<thead>\n",
       "\t<tr><th scope=col>ejection_fraction</th><th scope=col>serum_creatinine</th><th scope=col>DEATH_EVENT</th><th scope=col>scaled_ejection_fraction</th><th scope=col>scaled_serum_creatinine</th></tr>\n",
       "\t<tr><th scope=col>&lt;dbl&gt;</th><th scope=col>&lt;dbl&gt;</th><th scope=col>&lt;fct&gt;</th><th scope=col>&lt;dbl[,1]&gt;</th><th scope=col>&lt;dbl[,1]&gt;</th></tr>\n",
       "</thead>\n",
       "<tbody>\n",
       "\t<tr><td>65</td><td>1.5</td><td>Fatal</td><td> 2.274334615</td><td> 0.1025803</td></tr>\n",
       "\t<tr><td>38</td><td>4.0</td><td>Fatal</td><td>-0.007064906</td><td> 2.5191832</td></tr>\n",
       "\t<tr><td>25</td><td>0.9</td><td>Fatal</td><td>-1.105516528</td><td>-0.4774043</td></tr>\n",
       "\t<tr><td>⋮</td><td>⋮</td><td>⋮</td><td>⋮</td><td>⋮</td></tr>\n",
       "\t<tr><td>30</td><td>3.8</td><td>Not Fatal</td><td>-0.683035135</td><td>2.325854996</td></tr>\n",
       "\t<tr><td>35</td><td>1.7</td><td>Not Fatal</td><td>-0.260553742</td><td>0.295908577</td></tr>\n",
       "\t<tr><td>38</td><td>1.4</td><td>Not Fatal</td><td>-0.007064906</td><td>0.005916232</td></tr>\n",
       "</tbody>\n",
       "</table>\n"
      ],
      "text/latex": [
       "A tibble: 75 × 5\n",
       "\\begin{tabular}{lllll}\n",
       " ejection\\_fraction & serum\\_creatinine & DEATH\\_EVENT & scaled\\_ejection\\_fraction & scaled\\_serum\\_creatinine\\\\\n",
       " <dbl> & <dbl> & <fct> & <dbl{[},1{]}> & <dbl{[},1{]}>\\\\\n",
       "\\hline\n",
       "\t 65 & 1.5 & Fatal &  2.274334615 &  0.1025803\\\\\n",
       "\t 38 & 4.0 & Fatal & -0.007064906 &  2.5191832\\\\\n",
       "\t 25 & 0.9 & Fatal & -1.105516528 & -0.4774043\\\\\n",
       "\t ⋮ & ⋮ & ⋮ & ⋮ & ⋮\\\\\n",
       "\t 30 & 3.8 & Not Fatal & -0.683035135 & 2.325854996\\\\\n",
       "\t 35 & 1.7 & Not Fatal & -0.260553742 & 0.295908577\\\\\n",
       "\t 38 & 1.4 & Not Fatal & -0.007064906 & 0.005916232\\\\\n",
       "\\end{tabular}\n"
      ],
      "text/markdown": [
       "\n",
       "A tibble: 75 × 5\n",
       "\n",
       "| ejection_fraction &lt;dbl&gt; | serum_creatinine &lt;dbl&gt; | DEATH_EVENT &lt;fct&gt; | scaled_ejection_fraction &lt;dbl[,1]&gt; | scaled_serum_creatinine &lt;dbl[,1]&gt; |\n",
       "|---|---|---|---|---|\n",
       "| 65 | 1.5 | Fatal |  2.274334615 |  0.1025803 |\n",
       "| 38 | 4.0 | Fatal | -0.007064906 |  2.5191832 |\n",
       "| 25 | 0.9 | Fatal | -1.105516528 | -0.4774043 |\n",
       "| ⋮ | ⋮ | ⋮ | ⋮ | ⋮ |\n",
       "| 30 | 3.8 | Not Fatal | -0.683035135 | 2.325854996 |\n",
       "| 35 | 1.7 | Not Fatal | -0.260553742 | 0.295908577 |\n",
       "| 38 | 1.4 | Not Fatal | -0.007064906 | 0.005916232 |\n",
       "\n"
      ],
      "text/plain": [
       "   ejection_fraction serum_creatinine DEATH_EVENT scaled_ejection_fraction\n",
       "1  65                1.5              Fatal        2.274334615            \n",
       "2  38                4.0              Fatal       -0.007064906            \n",
       "3  25                0.9              Fatal       -1.105516528            \n",
       "⋮  ⋮                 ⋮                ⋮           ⋮                       \n",
       "73 30                3.8              Not Fatal   -0.683035135            \n",
       "74 35                1.7              Not Fatal   -0.260553742            \n",
       "75 38                1.4              Not Fatal   -0.007064906            \n",
       "   scaled_serum_creatinine\n",
       "1   0.1025803             \n",
       "2   2.5191832             \n",
       "3  -0.4774043             \n",
       "⋮  ⋮                      \n",
       "73 2.325854996            \n",
       "74 0.295908577            \n",
       "75 0.005916232            "
      ]
     },
     "metadata": {},
     "output_type": "display_data"
    }
   ],
   "source": [
    "# Set the seed. Don't remove this!\n",
    "set.seed(2020)\n",
    "\n",
    "heart_data_split <- initial_split(heart_subset, prop = 0.75, strata = DEATH_EVENT)  \n",
    "heart_data_train <- training(heart_data_split)   \n",
    "heart_data_test <- testing(heart_data_split)\n",
    "\n",
    "heart_data_train\n",
    "heart_data_test"
   ]
  },
  {
   "cell_type": "code",
   "execution_count": 9,
   "id": "5b70263e-011c-4e22-b215-0c40121f663e",
   "metadata": {},
   "outputs": [
    {
     "data": {
      "text/html": [
       "<table class=\"dataframe\">\n",
       "<caption>A tibble: 2 × 3</caption>\n",
       "<thead>\n",
       "\t<tr><th scope=col>DEATH_EVENT</th><th scope=col>n</th><th scope=col>percent</th></tr>\n",
       "\t<tr><th scope=col>&lt;fct&gt;</th><th scope=col>&lt;int&gt;</th><th scope=col>&lt;dbl&gt;</th></tr>\n",
       "</thead>\n",
       "<tbody>\n",
       "\t<tr><td>Fatal    </td><td> 72</td><td>32.14286</td></tr>\n",
       "\t<tr><td>Not Fatal</td><td>152</td><td>67.85714</td></tr>\n",
       "</tbody>\n",
       "</table>\n"
      ],
      "text/latex": [
       "A tibble: 2 × 3\n",
       "\\begin{tabular}{lll}\n",
       " DEATH\\_EVENT & n & percent\\\\\n",
       " <fct> & <int> & <dbl>\\\\\n",
       "\\hline\n",
       "\t Fatal     &  72 & 32.14286\\\\\n",
       "\t Not Fatal & 152 & 67.85714\\\\\n",
       "\\end{tabular}\n"
      ],
      "text/markdown": [
       "\n",
       "A tibble: 2 × 3\n",
       "\n",
       "| DEATH_EVENT &lt;fct&gt; | n &lt;int&gt; | percent &lt;dbl&gt; |\n",
       "|---|---|---|\n",
       "| Fatal     |  72 | 32.14286 |\n",
       "| Not Fatal | 152 | 67.85714 |\n",
       "\n"
      ],
      "text/plain": [
       "  DEATH_EVENT n   percent \n",
       "1 Fatal        72 32.14286\n",
       "2 Not Fatal   152 67.85714"
      ]
     },
     "metadata": {},
     "output_type": "display_data"
    }
   ],
   "source": [
    "heart_proportions <- heart_data_train |>\n",
    "                      group_by(DEATH_EVENT) |>\n",
    "                      summarize(n = n()) |>\n",
    "                      mutate(percent = 100*n/nrow(heart_data_train))\n",
    "\n",
    "heart_proportions"
   ]
  },
  {
   "cell_type": "markdown",
   "id": "b69e1ed5-06c2-4663-8141-7a5b999cebb5",
   "metadata": {},
   "source": [
    "## Evaluating accuracy of the classifier"
   ]
  },
  {
   "cell_type": "markdown",
   "id": "d272525a-ea1a-46ba-b1d5-1fc3c4c0776e",
   "metadata": {},
   "source": [
    "### Preprocessing the data\n",
    "We preprocess the data to standardize it and create `heart_recipe` using only the training data set. We set our target variable and also the variables which we want to use as predictors."
   ]
  },
  {
   "cell_type": "code",
   "execution_count": 10,
   "id": "c33670f7-8aef-4a4f-a16d-feb8eabe370f",
   "metadata": {},
   "outputs": [
    {
     "data": {
      "text/plain": [
       "Recipe\n",
       "\n",
       "Inputs:\n",
       "\n",
       "      role #variables\n",
       "   outcome          1\n",
       " predictor          2\n",
       "\n",
       "Operations:\n",
       "\n",
       "Scaling for all_predictors()\n",
       "Centering for all_predictors()"
      ]
     },
     "metadata": {},
     "output_type": "display_data"
    }
   ],
   "source": [
    "set.seed(2020) # DO NOT REMOVE\n",
    "\n",
    "heart_recipe <- recipe(DEATH_EVENT ~ scaled_ejection_fraction + scaled_serum_creatinine , data = heart_data_train) |>\n",
    "            step_scale(all_predictors()) |>\n",
    "            step_center(all_predictors())\n",
    "heart_recipe"
   ]
  },
  {
   "cell_type": "markdown",
   "id": "aee3eea6-f04a-4e9d-a328-f78fab73ffea",
   "metadata": {},
   "source": [
    "### Training the classifier\n",
    "\n",
    "We first create a model specification for the knn classification. We then build the classifier by combining the model specification and the recipe into a workflow and fit the model to our training data."
   ]
  },
  {
   "cell_type": "code",
   "execution_count": 11,
   "id": "14b8358d-466b-41ba-9990-3f4c0a45eb3f",
   "metadata": {},
   "outputs": [
    {
     "data": {
      "text/plain": [
       "══ Workflow [trained] ══════════════════════════════════════════════════════════\n",
       "\u001b[3mPreprocessor:\u001b[23m Recipe\n",
       "\u001b[3mModel:\u001b[23m nearest_neighbor()\n",
       "\n",
       "── Preprocessor ────────────────────────────────────────────────────────────────\n",
       "2 Recipe Steps\n",
       "\n",
       "• step_scale()\n",
       "• step_center()\n",
       "\n",
       "── Model ───────────────────────────────────────────────────────────────────────\n",
       "\n",
       "Call:\n",
       "kknn::train.kknn(formula = ..y ~ ., data = data, ks = min_rows(3,     data, 5), kernel = ~\"rectangular\")\n",
       "\n",
       "Type of response variable: nominal\n",
       "Minimal misclassification: 0.2678571\n",
       "Best kernel: rectangular\n",
       "Best k: 3"
      ]
     },
     "metadata": {},
     "output_type": "display_data"
    }
   ],
   "source": [
    "set.seed(2020) # DO NOT REMOVE\n",
    "\n",
    "knn_spec <- nearest_neighbor(weight_func = \"rectangular\", neighbors = 3) |>\n",
    "     set_engine(\"kknn\") |>\n",
    "     set_mode(\"classification\")\n",
    "\n",
    "knn_fit <- workflow() |>\n",
    "  add_recipe(heart_recipe) |>\n",
    "  add_model(knn_spec) |>\n",
    "  fit(data = heart_data_train)\n",
    "\n",
    "knn_fit"
   ]
  },
  {
   "cell_type": "markdown",
   "id": "2e8f019c-3599-437c-9e1a-ef4d0d90372f",
   "metadata": {},
   "source": [
    "### Predicting labels in the test set"
   ]
  },
  {
   "cell_type": "markdown",
   "id": "7054b032-4bc8-45fb-9e24-29b0ebd36d17",
   "metadata": {},
   "source": [
    "We use the classifier which we just created to predict the labels for our test data. The `DEATH_EVENT` column contains the true labels while the `.pred_class` columns contains the predictions."
   ]
  },
  {
   "cell_type": "code",
   "execution_count": 12,
   "id": "c59f580b-86b8-410f-ac65-f7ebf48ce5c9",
   "metadata": {},
   "outputs": [
    {
     "data": {
      "text/html": [
       "<table class=\"dataframe\">\n",
       "<caption>A tibble: 75 × 6</caption>\n",
       "<thead>\n",
       "\t<tr><th scope=col>.pred_class</th><th scope=col>ejection_fraction</th><th scope=col>serum_creatinine</th><th scope=col>DEATH_EVENT</th><th scope=col>scaled_ejection_fraction</th><th scope=col>scaled_serum_creatinine</th></tr>\n",
       "\t<tr><th scope=col>&lt;fct&gt;</th><th scope=col>&lt;dbl&gt;</th><th scope=col>&lt;dbl&gt;</th><th scope=col>&lt;fct&gt;</th><th scope=col>&lt;dbl[,1]&gt;</th><th scope=col>&lt;dbl[,1]&gt;</th></tr>\n",
       "</thead>\n",
       "<tbody>\n",
       "\t<tr><td>Not Fatal</td><td>65</td><td>1.5</td><td>Fatal</td><td> 2.274334615</td><td> 0.1025803</td></tr>\n",
       "\t<tr><td>Fatal    </td><td>38</td><td>4.0</td><td>Fatal</td><td>-0.007064906</td><td> 2.5191832</td></tr>\n",
       "\t<tr><td>Fatal    </td><td>25</td><td>0.9</td><td>Fatal</td><td>-1.105516528</td><td>-0.4774043</td></tr>\n",
       "\t<tr><td>⋮</td><td>⋮</td><td>⋮</td><td>⋮</td><td>⋮</td><td>⋮</td></tr>\n",
       "\t<tr><td>Not Fatal</td><td>30</td><td>3.8</td><td>Not Fatal</td><td>-0.683035135</td><td>2.325854996</td></tr>\n",
       "\t<tr><td>Not Fatal</td><td>35</td><td>1.7</td><td>Not Fatal</td><td>-0.260553742</td><td>0.295908577</td></tr>\n",
       "\t<tr><td>Not Fatal</td><td>38</td><td>1.4</td><td>Not Fatal</td><td>-0.007064906</td><td>0.005916232</td></tr>\n",
       "</tbody>\n",
       "</table>\n"
      ],
      "text/latex": [
       "A tibble: 75 × 6\n",
       "\\begin{tabular}{llllll}\n",
       " .pred\\_class & ejection\\_fraction & serum\\_creatinine & DEATH\\_EVENT & scaled\\_ejection\\_fraction & scaled\\_serum\\_creatinine\\\\\n",
       " <fct> & <dbl> & <dbl> & <fct> & <dbl{[},1{]}> & <dbl{[},1{]}>\\\\\n",
       "\\hline\n",
       "\t Not Fatal & 65 & 1.5 & Fatal &  2.274334615 &  0.1025803\\\\\n",
       "\t Fatal     & 38 & 4.0 & Fatal & -0.007064906 &  2.5191832\\\\\n",
       "\t Fatal     & 25 & 0.9 & Fatal & -1.105516528 & -0.4774043\\\\\n",
       "\t ⋮ & ⋮ & ⋮ & ⋮ & ⋮ & ⋮\\\\\n",
       "\t Not Fatal & 30 & 3.8 & Not Fatal & -0.683035135 & 2.325854996\\\\\n",
       "\t Not Fatal & 35 & 1.7 & Not Fatal & -0.260553742 & 0.295908577\\\\\n",
       "\t Not Fatal & 38 & 1.4 & Not Fatal & -0.007064906 & 0.005916232\\\\\n",
       "\\end{tabular}\n"
      ],
      "text/markdown": [
       "\n",
       "A tibble: 75 × 6\n",
       "\n",
       "| .pred_class &lt;fct&gt; | ejection_fraction &lt;dbl&gt; | serum_creatinine &lt;dbl&gt; | DEATH_EVENT &lt;fct&gt; | scaled_ejection_fraction &lt;dbl[,1]&gt; | scaled_serum_creatinine &lt;dbl[,1]&gt; |\n",
       "|---|---|---|---|---|---|\n",
       "| Not Fatal | 65 | 1.5 | Fatal |  2.274334615 |  0.1025803 |\n",
       "| Fatal     | 38 | 4.0 | Fatal | -0.007064906 |  2.5191832 |\n",
       "| Fatal     | 25 | 0.9 | Fatal | -1.105516528 | -0.4774043 |\n",
       "| ⋮ | ⋮ | ⋮ | ⋮ | ⋮ | ⋮ |\n",
       "| Not Fatal | 30 | 3.8 | Not Fatal | -0.683035135 | 2.325854996 |\n",
       "| Not Fatal | 35 | 1.7 | Not Fatal | -0.260553742 | 0.295908577 |\n",
       "| Not Fatal | 38 | 1.4 | Not Fatal | -0.007064906 | 0.005916232 |\n",
       "\n"
      ],
      "text/plain": [
       "   .pred_class ejection_fraction serum_creatinine DEATH_EVENT\n",
       "1  Not Fatal   65                1.5              Fatal      \n",
       "2  Fatal       38                4.0              Fatal      \n",
       "3  Fatal       25                0.9              Fatal      \n",
       "⋮  ⋮           ⋮                 ⋮                ⋮          \n",
       "73 Not Fatal   30                3.8              Not Fatal  \n",
       "74 Not Fatal   35                1.7              Not Fatal  \n",
       "75 Not Fatal   38                1.4              Not Fatal  \n",
       "   scaled_ejection_fraction scaled_serum_creatinine\n",
       "1   2.274334615              0.1025803             \n",
       "2  -0.007064906              2.5191832             \n",
       "3  -1.105516528             -0.4774043             \n",
       "⋮  ⋮                        ⋮                      \n",
       "73 -0.683035135             2.325854996            \n",
       "74 -0.260553742             0.295908577            \n",
       "75 -0.007064906             0.005916232            "
      ]
     },
     "metadata": {},
     "output_type": "display_data"
    }
   ],
   "source": [
    "set.seed(2020) # DO NOT REMOVE\n",
    "\n",
    "heart_test_predictions <- predict(knn_fit, heart_data_test) |>\n",
    "  bind_cols(heart_data_test)\n",
    "\n",
    "heart_test_predictions"
   ]
  },
  {
   "cell_type": "markdown",
   "id": "ce018883-25e6-41a7-967a-a82ab977ee10",
   "metadata": {},
   "source": [
    "## Compute the accuracy"
   ]
  },
  {
   "cell_type": "markdown",
   "id": "191446cf-9020-4cac-82ca-3c41efc7a368",
   "metadata": {},
   "source": [
    "Finally, we can access the classifiers accuracy using the metrics function.\n",
    "\n",
    "We can also look at the confusion matrix for the classifier which shows the table of predicted lables and true labels."
   ]
  },
  {
   "cell_type": "code",
   "execution_count": 13,
   "id": "ab47d1b6-25aa-454e-b5dd-6b3549445353",
   "metadata": {},
   "outputs": [
    {
     "data": {
      "text/html": [
       "<table class=\"dataframe\">\n",
       "<caption>A tibble: 1 × 3</caption>\n",
       "<thead>\n",
       "\t<tr><th scope=col>.metric</th><th scope=col>.estimator</th><th scope=col>.estimate</th></tr>\n",
       "\t<tr><th scope=col>&lt;chr&gt;</th><th scope=col>&lt;chr&gt;</th><th scope=col>&lt;dbl&gt;</th></tr>\n",
       "</thead>\n",
       "<tbody>\n",
       "\t<tr><td>accuracy</td><td>binary</td><td>0.6933333</td></tr>\n",
       "</tbody>\n",
       "</table>\n"
      ],
      "text/latex": [
       "A tibble: 1 × 3\n",
       "\\begin{tabular}{lll}\n",
       " .metric & .estimator & .estimate\\\\\n",
       " <chr> & <chr> & <dbl>\\\\\n",
       "\\hline\n",
       "\t accuracy & binary & 0.6933333\\\\\n",
       "\\end{tabular}\n"
      ],
      "text/markdown": [
       "\n",
       "A tibble: 1 × 3\n",
       "\n",
       "| .metric &lt;chr&gt; | .estimator &lt;chr&gt; | .estimate &lt;dbl&gt; |\n",
       "|---|---|---|\n",
       "| accuracy | binary | 0.6933333 |\n",
       "\n"
      ],
      "text/plain": [
       "  .metric  .estimator .estimate\n",
       "1 accuracy binary     0.6933333"
      ]
     },
     "metadata": {},
     "output_type": "display_data"
    },
    {
     "data": {
      "text/plain": [
       "           Truth\n",
       "Prediction  Fatal Not Fatal\n",
       "  Fatal        17        16\n",
       "  Not Fatal     7        35"
      ]
     },
     "metadata": {},
     "output_type": "display_data"
    }
   ],
   "source": [
    "set.seed(2020) # DO NOT REMOVE\n",
    "\n",
    "heart_test_predictions |>\n",
    "  metrics(truth = DEATH_EVENT, estimate = .pred_class) |>\n",
    "  filter(.metric == \"accuracy\")\n",
    "\n",
    "confusion <- heart_test_predictions |>\n",
    "             conf_mat(truth = DEATH_EVENT, estimate = .pred_class)\n",
    "confusion"
   ]
  },
  {
   "cell_type": "markdown",
   "id": "58ecaaf9-93ff-4b27-9e77-af40b35776b0",
   "metadata": {},
   "source": [
    "We can see that our classifier has the accuracy of around 69.33% and that it predicted 17 labels corectly as Fatal and 35 labels correctly as Not Fatal."
   ]
  },
  {
   "cell_type": "markdown",
   "id": "61c605ff-c017-47e8-8073-5e2d7e49178b",
   "metadata": {},
   "source": [
    "## Tuning the classifier"
   ]
  },
  {
   "cell_type": "markdown",
   "id": "f972c427-db75-4044-a2b0-4b3772fdbe18",
   "metadata": {},
   "source": [
    "### Cross validation\n",
    "We will now perform a 5 fold cross validation where we split our training dataset into c evenly sized chunks and then iteratively use 1 chunk as the validation set for evaluation and the remaining c-1 chunks as the training sets.\n",
    "\n",
    "Here, we will set c to be 5 and perform a 5 fold cross-validation."
   ]
  },
  {
   "cell_type": "code",
   "execution_count": 14,
   "id": "69f7b7c9-bfa2-47f2-b279-402a0f4af2c7",
   "metadata": {},
   "outputs": [],
   "source": [
    "set.seed(2020) # DO NOT REMOVE\n",
    "\n",
    "heart_vfold <- vfold_cv(heart_data_train, v = 5, strata = DEATH_EVENT)"
   ]
  },
  {
   "cell_type": "markdown",
   "id": "86d0cd73-3032-4fd5-83bd-d3e333298477",
   "metadata": {},
   "source": [
    "Then we will create our data analysis workflow."
   ]
  },
  {
   "cell_type": "code",
   "execution_count": 15,
   "id": "e47bdb25-6511-4e9e-9c4a-9763f938afa1",
   "metadata": {},
   "outputs": [
    {
     "data": {
      "text/html": [
       "<table class=\"dataframe\">\n",
       "<caption>A tibble: 2 × 6</caption>\n",
       "<thead>\n",
       "\t<tr><th scope=col>.metric</th><th scope=col>.estimator</th><th scope=col>mean</th><th scope=col>n</th><th scope=col>std_err</th><th scope=col>.config</th></tr>\n",
       "\t<tr><th scope=col>&lt;chr&gt;</th><th scope=col>&lt;chr&gt;</th><th scope=col>&lt;dbl&gt;</th><th scope=col>&lt;int&gt;</th><th scope=col>&lt;dbl&gt;</th><th scope=col>&lt;chr&gt;</th></tr>\n",
       "</thead>\n",
       "<tbody>\n",
       "\t<tr><td>accuracy</td><td>binary</td><td>0.6697628</td><td>5</td><td>0.01861383</td><td>Preprocessor1_Model1</td></tr>\n",
       "\t<tr><td>roc_auc </td><td>binary</td><td>0.7025883</td><td>5</td><td>0.02036722</td><td>Preprocessor1_Model1</td></tr>\n",
       "</tbody>\n",
       "</table>\n"
      ],
      "text/latex": [
       "A tibble: 2 × 6\n",
       "\\begin{tabular}{llllll}\n",
       " .metric & .estimator & mean & n & std\\_err & .config\\\\\n",
       " <chr> & <chr> & <dbl> & <int> & <dbl> & <chr>\\\\\n",
       "\\hline\n",
       "\t accuracy & binary & 0.6697628 & 5 & 0.01861383 & Preprocessor1\\_Model1\\\\\n",
       "\t roc\\_auc  & binary & 0.7025883 & 5 & 0.02036722 & Preprocessor1\\_Model1\\\\\n",
       "\\end{tabular}\n"
      ],
      "text/markdown": [
       "\n",
       "A tibble: 2 × 6\n",
       "\n",
       "| .metric &lt;chr&gt; | .estimator &lt;chr&gt; | mean &lt;dbl&gt; | n &lt;int&gt; | std_err &lt;dbl&gt; | .config &lt;chr&gt; |\n",
       "|---|---|---|---|---|---|\n",
       "| accuracy | binary | 0.6697628 | 5 | 0.01861383 | Preprocessor1_Model1 |\n",
       "| roc_auc  | binary | 0.7025883 | 5 | 0.02036722 | Preprocessor1_Model1 |\n",
       "\n"
      ],
      "text/plain": [
       "  .metric  .estimator mean      n std_err    .config             \n",
       "1 accuracy binary     0.6697628 5 0.01861383 Preprocessor1_Model1\n",
       "2 roc_auc  binary     0.7025883 5 0.02036722 Preprocessor1_Model1"
      ]
     },
     "metadata": {},
     "output_type": "display_data"
    }
   ],
   "source": [
    "set.seed(2020) # DO NOT REMOVE\n",
    "\n",
    "heart_recipe <- recipe(DEATH_EVENT ~ scaled_ejection_fraction + scaled_serum_creatinine , data = heart_data_train) |>\n",
    "            step_scale(all_predictors()) |>\n",
    "            step_center(all_predictors())\n",
    "\n",
    "\n",
    "# fit the knn model (we can reuse the old knn_spec model from before)\n",
    "knn_fit <- workflow() |>\n",
    "  add_recipe(heart_recipe) |>\n",
    "  add_model(knn_spec) |>\n",
    "  fit_resamples(resamples = heart_vfold)\n",
    "\n",
    "knn_fit |> \n",
    "  collect_metrics() "
   ]
  },
  {
   "cell_type": "markdown",
   "id": "da290f52-bb36-44de-a578-b6afa98ffd4f",
   "metadata": {},
   "source": [
    "The collect_metrics function is used to aggregate the mean and standard error of the classifier’s validation accuracy across the folds. So if your estimated mean is 0.67 and standard error is 0.018, you can expect the true average accuracy of the classifier to be somewhere roughly between 65.2 % and 68.8 % (although it may fall outside this range)."
   ]
  },
  {
   "cell_type": "markdown",
   "id": "7fbf8581-25fc-4715-9eeb-fc1a52488b6b",
   "metadata": {},
   "source": [
    "### Parameter value selection\n",
    "With cross-validation, we have established a prediction accuracy for our classifier. \n",
    "\n",
    "If we had to improve our classifier, we have to change the parameter: number of neighbours, $K$. \n",
    "We can use cross-validation to calculate an accuracy for each value of $K$ in a reasonable range, and then pick the value of $K$ that gives us the best accuracy. \n",
    "\n",
    "Using `tune()`, each parameter in the model can be adjusted rather than given a specific value. \n"
   ]
  },
  {
   "cell_type": "code",
   "execution_count": 16,
   "id": "fa46a2a0-f8fa-4726-bdfd-ea37b4701d5c",
   "metadata": {},
   "outputs": [
    {
     "data": {
      "text/plain": [
       "K-Nearest Neighbor Model Specification (classification)\n",
       "\n",
       "Main Arguments:\n",
       "  neighbors = tune()\n",
       "  weight_func = rectangular\n",
       "\n",
       "Computational engine: kknn \n"
      ]
     },
     "metadata": {},
     "output_type": "display_data"
    }
   ],
   "source": [
    "set.seed(2020) # DO NOT REMOVE\n",
    "\n",
    "knn_tune <- nearest_neighbor(weight_func = \"rectangular\", \n",
    "                             neighbors = tune()) |>\n",
    "      set_engine(\"kknn\") |>\n",
    "      set_mode(\"classification\")\n",
    "knn_tune"
   ]
  },
  {
   "cell_type": "markdown",
   "id": "d1edd29b-8be2-492f-be53-2f6827ff50ea",
   "metadata": {},
   "source": [
    " "
   ]
  },
  {
   "cell_type": "markdown",
   "id": "23cb5263-0ca3-4b35-9ec6-0cca3fad3a2c",
   "metadata": {},
   "source": [
    "We then create a workflow analysis which combines our `heart_recipe` and our new `knn_tune` model specification. \n",
    "\n",
    "We use the `tune_grid` function to fit the model for each value in a range of parameter values.\n",
    "We then aggregate the mean and standard error by using the `collect_metrics` function.\n",
    "\n",
    "Finally, we filter for `accuracy` from the `.metric` column of `knn_results`."
   ]
  },
  {
   "cell_type": "code",
   "execution_count": 17,
   "id": "1535ffbc-7e39-407c-bfb7-63061e167d8e",
   "metadata": {},
   "outputs": [
    {
     "data": {
      "text/html": [
       "<table class=\"dataframe\">\n",
       "<caption>A tibble: 20 × 7</caption>\n",
       "<thead>\n",
       "\t<tr><th scope=col>neighbors</th><th scope=col>.metric</th><th scope=col>.estimator</th><th scope=col>mean</th><th scope=col>n</th><th scope=col>std_err</th><th scope=col>.config</th></tr>\n",
       "\t<tr><th scope=col>&lt;dbl&gt;</th><th scope=col>&lt;chr&gt;</th><th scope=col>&lt;chr&gt;</th><th scope=col>&lt;dbl&gt;</th><th scope=col>&lt;int&gt;</th><th scope=col>&lt;dbl&gt;</th><th scope=col>&lt;chr&gt;</th></tr>\n",
       "</thead>\n",
       "<tbody>\n",
       "\t<tr><td> 1</td><td>accuracy</td><td>binary</td><td>0.6513834</td><td>5</td><td>0.02578540</td><td>Preprocessor1_Model01</td></tr>\n",
       "\t<tr><td> 6</td><td>accuracy</td><td>binary</td><td>0.6788538</td><td>5</td><td>0.01319087</td><td>Preprocessor1_Model02</td></tr>\n",
       "\t<tr><td>11</td><td>accuracy</td><td>binary</td><td>0.7063241</td><td>5</td><td>0.03448942</td><td>Preprocessor1_Model03</td></tr>\n",
       "\t<tr><td>⋮</td><td>⋮</td><td>⋮</td><td>⋮</td><td>⋮</td><td>⋮</td><td>⋮</td></tr>\n",
       "\t<tr><td>86</td><td>accuracy</td><td>binary</td><td>0.6786561</td><td>5</td><td>0.001936356</td><td>Preprocessor1_Model18</td></tr>\n",
       "\t<tr><td>91</td><td>accuracy</td><td>binary</td><td>0.6786561</td><td>5</td><td>0.001936356</td><td>Preprocessor1_Model19</td></tr>\n",
       "\t<tr><td>96</td><td>accuracy</td><td>binary</td><td>0.6786561</td><td>5</td><td>0.001936356</td><td>Preprocessor1_Model20</td></tr>\n",
       "</tbody>\n",
       "</table>\n"
      ],
      "text/latex": [
       "A tibble: 20 × 7\n",
       "\\begin{tabular}{lllllll}\n",
       " neighbors & .metric & .estimator & mean & n & std\\_err & .config\\\\\n",
       " <dbl> & <chr> & <chr> & <dbl> & <int> & <dbl> & <chr>\\\\\n",
       "\\hline\n",
       "\t  1 & accuracy & binary & 0.6513834 & 5 & 0.02578540 & Preprocessor1\\_Model01\\\\\n",
       "\t  6 & accuracy & binary & 0.6788538 & 5 & 0.01319087 & Preprocessor1\\_Model02\\\\\n",
       "\t 11 & accuracy & binary & 0.7063241 & 5 & 0.03448942 & Preprocessor1\\_Model03\\\\\n",
       "\t ⋮ & ⋮ & ⋮ & ⋮ & ⋮ & ⋮ & ⋮\\\\\n",
       "\t 86 & accuracy & binary & 0.6786561 & 5 & 0.001936356 & Preprocessor1\\_Model18\\\\\n",
       "\t 91 & accuracy & binary & 0.6786561 & 5 & 0.001936356 & Preprocessor1\\_Model19\\\\\n",
       "\t 96 & accuracy & binary & 0.6786561 & 5 & 0.001936356 & Preprocessor1\\_Model20\\\\\n",
       "\\end{tabular}\n"
      ],
      "text/markdown": [
       "\n",
       "A tibble: 20 × 7\n",
       "\n",
       "| neighbors &lt;dbl&gt; | .metric &lt;chr&gt; | .estimator &lt;chr&gt; | mean &lt;dbl&gt; | n &lt;int&gt; | std_err &lt;dbl&gt; | .config &lt;chr&gt; |\n",
       "|---|---|---|---|---|---|---|\n",
       "|  1 | accuracy | binary | 0.6513834 | 5 | 0.02578540 | Preprocessor1_Model01 |\n",
       "|  6 | accuracy | binary | 0.6788538 | 5 | 0.01319087 | Preprocessor1_Model02 |\n",
       "| 11 | accuracy | binary | 0.7063241 | 5 | 0.03448942 | Preprocessor1_Model03 |\n",
       "| ⋮ | ⋮ | ⋮ | ⋮ | ⋮ | ⋮ | ⋮ |\n",
       "| 86 | accuracy | binary | 0.6786561 | 5 | 0.001936356 | Preprocessor1_Model18 |\n",
       "| 91 | accuracy | binary | 0.6786561 | 5 | 0.001936356 | Preprocessor1_Model19 |\n",
       "| 96 | accuracy | binary | 0.6786561 | 5 | 0.001936356 | Preprocessor1_Model20 |\n",
       "\n"
      ],
      "text/plain": [
       "   neighbors .metric  .estimator mean      n std_err     .config              \n",
       "1   1        accuracy binary     0.6513834 5 0.02578540  Preprocessor1_Model01\n",
       "2   6        accuracy binary     0.6788538 5 0.01319087  Preprocessor1_Model02\n",
       "3  11        accuracy binary     0.7063241 5 0.03448942  Preprocessor1_Model03\n",
       "⋮  ⋮         ⋮        ⋮          ⋮         ⋮ ⋮           ⋮                    \n",
       "18 86        accuracy binary     0.6786561 5 0.001936356 Preprocessor1_Model18\n",
       "19 91        accuracy binary     0.6786561 5 0.001936356 Preprocessor1_Model19\n",
       "20 96        accuracy binary     0.6786561 5 0.001936356 Preprocessor1_Model20"
      ]
     },
     "metadata": {},
     "output_type": "display_data"
    },
    {
     "data": {
      "text/html": [
       "<table class=\"dataframe\">\n",
       "<caption>A tibble: 1 × 7</caption>\n",
       "<thead>\n",
       "\t<tr><th scope=col>neighbors</th><th scope=col>.metric</th><th scope=col>.estimator</th><th scope=col>mean</th><th scope=col>n</th><th scope=col>std_err</th><th scope=col>.config</th></tr>\n",
       "\t<tr><th scope=col>&lt;dbl&gt;</th><th scope=col>&lt;chr&gt;</th><th scope=col>&lt;chr&gt;</th><th scope=col>&lt;dbl&gt;</th><th scope=col>&lt;int&gt;</th><th scope=col>&lt;dbl&gt;</th><th scope=col>&lt;chr&gt;</th></tr>\n",
       "</thead>\n",
       "<tbody>\n",
       "\t<tr><td>21</td><td>accuracy</td><td>binary</td><td>0.7328063</td><td>5</td><td>0.02593492</td><td>Preprocessor1_Model05</td></tr>\n",
       "</tbody>\n",
       "</table>\n"
      ],
      "text/latex": [
       "A tibble: 1 × 7\n",
       "\\begin{tabular}{lllllll}\n",
       " neighbors & .metric & .estimator & mean & n & std\\_err & .config\\\\\n",
       " <dbl> & <chr> & <chr> & <dbl> & <int> & <dbl> & <chr>\\\\\n",
       "\\hline\n",
       "\t 21 & accuracy & binary & 0.7328063 & 5 & 0.02593492 & Preprocessor1\\_Model05\\\\\n",
       "\\end{tabular}\n"
      ],
      "text/markdown": [
       "\n",
       "A tibble: 1 × 7\n",
       "\n",
       "| neighbors &lt;dbl&gt; | .metric &lt;chr&gt; | .estimator &lt;chr&gt; | mean &lt;dbl&gt; | n &lt;int&gt; | std_err &lt;dbl&gt; | .config &lt;chr&gt; |\n",
       "|---|---|---|---|---|---|---|\n",
       "| 21 | accuracy | binary | 0.7328063 | 5 | 0.02593492 | Preprocessor1_Model05 |\n",
       "\n"
      ],
      "text/plain": [
       "  neighbors .metric  .estimator mean      n std_err    .config              \n",
       "1 21        accuracy binary     0.7328063 5 0.02593492 Preprocessor1_Model05"
      ]
     },
     "metadata": {},
     "output_type": "display_data"
    }
   ],
   "source": [
    "set.seed(2020) # DO NOT REMOVE\n",
    "\n",
    "k_vals <- tibble(neighbors = seq(from = 1, to = 100, by = 5))\n",
    "\n",
    "knn_results <- workflow() |>\n",
    "  add_recipe(heart_recipe) |>\n",
    "  add_model(knn_tune) |>\n",
    "  tune_grid(resamples = heart_vfold, grid = k_vals) |>\n",
    "  collect_metrics() \n",
    "\n",
    "accuracies <- knn_results |>\n",
    "  filter(.metric == \"accuracy\")\n",
    "accuracies\n",
    "\n",
    "k_best <- accuracies |>\n",
    "    filter(mean==max(mean))\n",
    "k_best"
   ]
  },
  {
   "cell_type": "markdown",
   "id": "2334c7c2-0a74-48c0-82cb-6945fe1df487",
   "metadata": {},
   "source": [
    "To find the best value of the number of neighboors, \n",
    "\n",
    "we create a line plot using the `accuracies` dataset with `neighbors` on the x-axis and the `mean` on the y-axis. "
   ]
  },
  {
   "cell_type": "code",
   "execution_count": 18,
   "id": "29ffece2-bc17-4b0c-856d-e78892de7632",
   "metadata": {},
   "outputs": [
    {
     "data": {
      "image/png": "[encoded data removed]",
      "text/plain": [
       "plot without title"
      ]
     },
     "metadata": {
      "image/png": {
       "height": 420,
       "width": 420
      }
     },
     "output_type": "display_data"
    }
   ],
   "source": [
    "accuracy_vs_k <- ggplot(accuracies, aes(x = neighbors, y = mean)) +\n",
    "  geom_point() +\n",
    "  geom_line() +\n",
    "  labs(x = \"Neighbors\", y = \"Accuracy Estimate\") + \n",
    "  theme(text = element_text(size = 12)) \n",
    "\n",
    "accuracy_vs_k"
   ]
  },
  {
   "cell_type": "markdown",
   "id": "64c93c25-c60c-4e59-8afc-8ea7a564fb12",
   "metadata": {},
   "source": [
    "From the plot above, we can see that $K = 21$ provides the highest accuracy. $K$ values that are smaller or larger than this result in a reduced accuracy estimate.\n",
    "\n"
   ]
  },
  {
   "cell_type": "markdown",
   "id": "ef7772d7-f651-4df1-b43d-20eb60fb64d4",
   "metadata": {},
   "source": [
    "## Building the classifier using the best K "
   ]
  },
  {
   "cell_type": "code",
   "execution_count": 19,
   "id": "c8440192-7088-413d-9090-9fbb80301854",
   "metadata": {},
   "outputs": [
    {
     "data": {
      "text/plain": [
       "══ Workflow [trained] ══════════════════════════════════════════════════════════\n",
       "\u001b[3mPreprocessor:\u001b[23m Recipe\n",
       "\u001b[3mModel:\u001b[23m nearest_neighbor()\n",
       "\n",
       "── Preprocessor ────────────────────────────────────────────────────────────────\n",
       "2 Recipe Steps\n",
       "\n",
       "• step_scale()\n",
       "• step_center()\n",
       "\n",
       "── Model ───────────────────────────────────────────────────────────────────────\n",
       "\n",
       "Call:\n",
       "kknn::train.kknn(formula = ..y ~ ., data = data, ks = min_rows(21,     data, 5), kernel = ~\"rectangular\")\n",
       "\n",
       "Type of response variable: nominal\n",
       "Minimal misclassification: 0.2633929\n",
       "Best kernel: rectangular\n",
       "Best k: 21"
      ]
     },
     "metadata": {},
     "output_type": "display_data"
    }
   ],
   "source": [
    "set.seed(2020) # DO NOT REMOVE\n",
    "\n",
    "knn_spec <- nearest_neighbor(weight_func = \"rectangular\", neighbors = 21) |>\n",
    "     set_engine(\"kknn\") |>\n",
    "     set_mode(\"classification\")\n",
    "\n",
    "knn_fit <- workflow() |>\n",
    "  add_recipe(heart_recipe) |>\n",
    "  add_model(knn_spec) |>\n",
    "  fit(data = heart_data_train)\n",
    "\n",
    "knn_fit"
   ]
  },
  {
   "cell_type": "markdown",
   "id": "ad74e0d4-6dcd-4d64-8352-7dc9241f2be0",
   "metadata": {},
   "source": [
    "## Predicting new observations using the classifier"
   ]
  },
  {
   "cell_type": "code",
   "execution_count": 20,
   "id": "6d4bc5e8-405e-4729-9572-46ec5a6ac13a",
   "metadata": {},
   "outputs": [
    {
     "data": {
      "image/png": "[encoded data removed]",
      "text/plain": [
       "plot without title"
      ]
     },
     "metadata": {
      "image/png": {
       "height": 480,
       "width": 600
      }
     },
     "output_type": "display_data"
    }
   ],
   "source": [
    "options(repr.plot.height = 8, repr.plot.width = 10)\n",
    "\n",
    "plot_1 <- heart_subset |>\n",
    "    ggplot(aes(x = scaled_ejection_fraction, y = scaled_serum_creatinine, col = as_factor(DEATH_EVENT))) +\n",
    "        geom_point() +\n",
    "        labs(x = \"Ejection Fraction (Standardized)\", y = \"Serum Creatinine (Standardized)\", color = \"Fatality\")+\n",
    "        theme(text = element_text(size = 20)) \n",
    "\n",
    "        \n",
    "plot_1"
   ]
  },
  {
   "cell_type": "code",
   "execution_count": 43,
   "id": "e1f29ae6-0004-42de-813d-6828c0f4640b",
   "metadata": {},
   "outputs": [
    {
     "data": {
      "image/png": "[encoded data removed]",
      "text/plain": [
       "plot without title"
      ]
     },
     "metadata": {
      "image/png": {
       "height": 480,
       "width": 600
      }
     },
     "output_type": "display_data"
    }
   ],
   "source": [
    "point1 <- c(2, 0)\n",
    "point2 <- c(0, 1)\n",
    "point3 <- c(-1.25, 0)\n",
    "\n",
    "options(repr.plot.height = 8, repr.plot.width = 10)\n",
    "plot_1 <- heart_subset |>\n",
    "    ggplot(aes(x = scaled_ejection_fraction, y = scaled_serum_creatinine, col = as_factor(DEATH_EVENT))) +\n",
    "        geom_point() +\n",
    "        labs(x = \"Ejection Fraction (Standardized)\", y = \"Serum Creatinine (Standardized)\", color = \"Fatality\")+\n",
    "        annotate(\"path\", \n",
    "                 x=point1[1] + 5*cos(seq(0,2*pi,length.out=100)),\n",
    "                 y=point1[2] + 0.1*sin(seq(0,2*pi,length.out=100))) +\n",
    "        annotate(\"text\", x = 2, y =  0, label = \"1\") +\n",
    "        annotate(\"path\",\n",
    "                 x=point2[1] + 5*cos(seq(0,2*pi,length.out=10)),\n",
    "                 y=point2[2] + 0.1*sin(seq(0,2*pi,length.out=10))) +\n",
    "        annotate(\"text\", x = 0, y =  1, label = \"2\") +\n",
    "        annotate(\"path\",\n",
    "                 x=point3[1] + 5*cos(seq(0,2*pi,length.out=10)),\n",
    "                 y=point3[2]+0.1*sin(seq(0,2*pi,length.out=10))) +\n",
    "        annotate(\"text\", x = -1.25, y =  0, label = \"3\") +\n",
    "        theme(text = element_text(size = 20)) \n",
    "\n",
    "        \n",
    "plot_1"
   ]
  },
  {
   "cell_type": "markdown",
   "id": "322a0ccb-bc87-4b04-8991-ba110c9383fb",
   "metadata": {},
   "source": [
    "Let's select an observation for predicting the fatality for it. \n",
    "\n",
    "Let the:\n",
    "- ejection fraction be 2 \n",
    "- serum creatinine be 0"
   ]
  },
  {
   "cell_type": "code",
   "execution_count": 27,
   "id": "03fa6df6-bddc-4c5c-b33a-b08bb528233a",
   "metadata": {
    "tags": []
   },
   "outputs": [],
   "source": [
    "observation_1 <- tibble(scaled_ejection_fraction = 2, scaled_serum_creatinine = 0)"
   ]
  },
  {
   "cell_type": "markdown",
   "id": "3d946ab7-8ec2-41f4-a3a7-40e665a061d6",
   "metadata": {},
   "source": [
    "Just by looking at the plot, we can say that fatality for (2,0) will be \"Not fatal\" because the points closer to it are mostly not fatal."
   ]
  },
  {
   "cell_type": "code",
   "execution_count": 28,
   "id": "7cb22538-4ac5-4495-983b-e7ee9812c06a",
   "metadata": {},
   "outputs": [
    {
     "data": {
      "text/html": [
       "<table class=\"dataframe\">\n",
       "<caption>A tibble: 1 × 1</caption>\n",
       "<thead>\n",
       "\t<tr><th scope=col>.pred_class</th></tr>\n",
       "\t<tr><th scope=col>&lt;fct&gt;</th></tr>\n",
       "</thead>\n",
       "<tbody>\n",
       "\t<tr><td>Not Fatal</td></tr>\n",
       "</tbody>\n",
       "</table>\n"
      ],
      "text/latex": [
       "A tibble: 1 × 1\n",
       "\\begin{tabular}{l}\n",
       " .pred\\_class\\\\\n",
       " <fct>\\\\\n",
       "\\hline\n",
       "\t Not Fatal\\\\\n",
       "\\end{tabular}\n"
      ],
      "text/markdown": [
       "\n",
       "A tibble: 1 × 1\n",
       "\n",
       "| .pred_class &lt;fct&gt; |\n",
       "|---|\n",
       "| Not Fatal |\n",
       "\n"
      ],
      "text/plain": [
       "  .pred_class\n",
       "1 Not Fatal  "
      ]
     },
     "metadata": {},
     "output_type": "display_data"
    }
   ],
   "source": [
    "prediction <- predict(knn_fit, observation_1)\n",
    "\n",
    "prediction"
   ]
  },
  {
   "cell_type": "markdown",
   "id": "3d64e763-027e-46af-815f-db11e3e315cf",
   "metadata": {},
   "source": [
    "YAYY! It matches our prediction."
   ]
  },
  {
   "cell_type": "markdown",
   "id": "ffc3c3c9-efd8-4fbe-b991-b4c6414c8181",
   "metadata": {},
   "source": [
    "Let's try a new observation for predicting the fatality for it. \n",
    "\n",
    "Let the:\n",
    "- ejection fraction be 0 \n",
    "- serum creatinine be 2"
   ]
  },
  {
   "cell_type": "code",
   "execution_count": 29,
   "id": "c1454af3-e9cb-4a34-880d-c1c4f28fe05a",
   "metadata": {},
   "outputs": [],
   "source": [
    "observation_2 <- tibble(scaled_ejection_fraction = 0, scaled_serum_creatinine = 1)"
   ]
  },
  {
   "cell_type": "markdown",
   "id": "34e2f0b0-6c0e-4efb-a5e1-abe945fe1c2a",
   "metadata": {},
   "source": [
    "Looking at the plot, we can say that fatality for (0,1) will be \"Fatal\" because the points closer to it are mostly fatal."
   ]
  },
  {
   "cell_type": "code",
   "execution_count": 30,
   "id": "e89319dd-31ee-4f94-a8f7-e6b484eea8da",
   "metadata": {},
   "outputs": [
    {
     "data": {
      "text/html": [
       "<table class=\"dataframe\">\n",
       "<caption>A tibble: 1 × 1</caption>\n",
       "<thead>\n",
       "\t<tr><th scope=col>.pred_class</th></tr>\n",
       "\t<tr><th scope=col>&lt;fct&gt;</th></tr>\n",
       "</thead>\n",
       "<tbody>\n",
       "\t<tr><td>Fatal</td></tr>\n",
       "</tbody>\n",
       "</table>\n"
      ],
      "text/latex": [
       "A tibble: 1 × 1\n",
       "\\begin{tabular}{l}\n",
       " .pred\\_class\\\\\n",
       " <fct>\\\\\n",
       "\\hline\n",
       "\t Fatal\\\\\n",
       "\\end{tabular}\n"
      ],
      "text/markdown": [
       "\n",
       "A tibble: 1 × 1\n",
       "\n",
       "| .pred_class &lt;fct&gt; |\n",
       "|---|\n",
       "| Fatal |\n",
       "\n"
      ],
      "text/plain": [
       "  .pred_class\n",
       "1 Fatal      "
      ]
     },
     "metadata": {},
     "output_type": "display_data"
    }
   ],
   "source": [
    "prediction <- predict(knn_fit, observation_2)\n",
    "\n",
    "prediction"
   ]
  },
  {
   "cell_type": "markdown",
   "id": "1fe03fa1-3783-409f-9760-5d0d84279383",
   "metadata": {},
   "source": [
    "YAYY! It matches our prediction."
   ]
  },
  {
   "cell_type": "markdown",
   "id": "d802d1b3-91c9-4ae5-b8aa-0c10569965de",
   "metadata": {},
   "source": [
    "Let's try a new observation for predicting the fatality for it. \n",
    "\n",
    "Let the:\n",
    "- ejection fraction be -1.25\n",
    "- serum creatinine be 0"
   ]
  },
  {
   "cell_type": "code",
   "execution_count": 31,
   "id": "13cc06ff-8b2e-4f8d-8270-281f86c05c93",
   "metadata": {},
   "outputs": [],
   "source": [
    "observation_3 <- tibble(scaled_ejection_fraction = -1.25, scaled_serum_creatinine = 0)"
   ]
  },
  {
   "cell_type": "markdown",
   "id": "70f8ff79-fd14-44ff-a441-c8e2c5a72bc6",
   "metadata": {},
   "source": [
    "Looking at the plot, we can say that fatality for (0,1) will be \"Fatal\" because the points closer to it are mostly fatal."
   ]
  },
  {
   "cell_type": "code",
   "execution_count": 26,
   "id": "dbc6bfc6-676a-4e67-b52a-bf9519d29f04",
   "metadata": {},
   "outputs": [
    {
     "data": {
      "text/html": [
       "<table class=\"dataframe\">\n",
       "<caption>A tibble: 1 × 1</caption>\n",
       "<thead>\n",
       "\t<tr><th scope=col>.pred_class</th></tr>\n",
       "\t<tr><th scope=col>&lt;fct&gt;</th></tr>\n",
       "</thead>\n",
       "<tbody>\n",
       "\t<tr><td>Fatal</td></tr>\n",
       "</tbody>\n",
       "</table>\n"
      ],
      "text/latex": [
       "A tibble: 1 × 1\n",
       "\\begin{tabular}{l}\n",
       " .pred\\_class\\\\\n",
       " <fct>\\\\\n",
       "\\hline\n",
       "\t Fatal\\\\\n",
       "\\end{tabular}\n"
      ],
      "text/markdown": [
       "\n",
       "A tibble: 1 × 1\n",
       "\n",
       "| .pred_class &lt;fct&gt; |\n",
       "|---|\n",
       "| Fatal |\n",
       "\n"
      ],
      "text/plain": [
       "  .pred_class\n",
       "1 Fatal      "
      ]
     },
     "metadata": {},
     "output_type": "display_data"
    }
   ],
   "source": [
    "prediction <- predict(knn_fit, observation_3)\n",
    "\n",
    "prediction"
   ]
  },
  {
   "cell_type": "markdown",
   "id": "7f61b74d-c1a4-4dda-972d-48c1ab5379f8",
   "metadata": {},
   "source": [
    "YAYY! It matches our prediction."
   ]
  },
  {
   "cell_type": "markdown",
   "id": "ebd94d5c-005e-41f2-8e72-bdf6a2720331",
   "metadata": {},
   "source": [
    "## Methods"
   ]
  },
  {
   "cell_type": "markdown",
   "id": "5b88d178-901e-4554-992d-0fb1e36757f3",
   "metadata": {},
   "source": [
    "- We chose to remove all of the columns which had boolean observations and were not relevant except the death event which was the column to be predicted. We then scaled the data so that each column had equal contribution in the scatter plot.\n",
    "\n",
    "- We used the scatter plot because it was the only visualization that would give us a logical relationship . The bar was very congested and the histogram didn’t show an accurate relationship. However, going forward, we might choose to further analyze the data and try using other forms of visualizations for the final project. "
   ]
  },
  {
   "cell_type": "markdown",
   "id": "dd17d208-e593-4100-b707-6b4ae663913a",
   "metadata": {},
   "source": [
    "## Expected outcomes and significance:"
   ]
  },
  {
   "cell_type": "markdown",
   "id": "8ba14672-8d21-4f10-a3ef-96fc1ec58d80",
   "metadata": {},
   "source": [
    "- **What do you expect to find?**\n",
    "    \n",
    "    We are expected to find if our model works well enough and is successful in predicting the relationship between different factors and how they\n",
    "    affect death in the case of heart failure. For example, if a person with a high amount of ejection fraction is more or less likely to encounter \n",
    "    death upon undergoing heart failure. \n",
    "   \n",
    "- **What impact could such findings have?**\n",
    "    \n",
    "    Finding the answer to such questions will allow us to control the variables which result in death in the case of heart failure, and minimize deaths\n",
    "    which occur as a result of heart failure. This will have a huge impact as it can save numerous lives because heart failure is a leading cause of \n",
    "    death amongst adults.\n",
    "    \n",
    "- **What future questions could this lead to?**\n",
    "    \n",
    "    Some future questions which might potentially arise from this analysis are:\n",
    "     \n",
    "    1. How accurate is the analysis performed and how can the model be improved and refined in the future for results which are more \n",
    "          precise?\n",
    "    2. Can such analysis and models be applied to different diseases across the medical field and help reduce the percentage of deaths \n",
    "          occuring overall? "
   ]
  }
 ],
 "metadata": {
  "kernelspec": {
   "display_name": "R",
   "language": "R",
   "name": "ir"
  },
  "language_info": {
   "codemirror_mode": "r",
   "file_extension": ".r",
   "mimetype": "text/x-r-source",
   "name": "R",
   "pygments_lexer": "r",
   "version": "4.1.3"
  }
 },
 "nbformat": 4,
 "nbformat_minor": 5
}
