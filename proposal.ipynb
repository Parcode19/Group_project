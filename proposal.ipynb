{
 "cells": [
  {
   "cell_type": "markdown",
   "id": "49d40b5e-88cf-4ce5-8f08-20e590eb79ae",
   "metadata": {},
   "source": [
    "## Predicting Heart Failure \n"
   ]
  },
  {
   "cell_type": "markdown",
   "id": "d9f7493d-7a1e-468f-9385-25638d90225e",
   "metadata": {},
   "source": [
    "Heart disease is a leading cause of death among adults.  According to the World Health Organization, nearly 18 million people die each year from heart disease (WHO, 2022).  Heart failure is a common result of heart disease and is identified by a variety of factors influencing the heart’s ability to properly function.  \n",
    "\n",
    "- age: age of the patient (years)\n",
    "- creatinine phosphokinase (CPK): level of the CPK enzyme in the blood (mcg/L)\n",
    "- ejection fraction: percentage of blood leaving the heart at each contraction (percentage)\n",
    "- platelets: platelets in the blood (kiloplatelets/mL)\n",
    "- serum creatinine: level of serum creatinine in the blood (mg/dL)\n",
    "- serum sodium: level of serum sodium in the blood (mEq/L) \n",
    "\n",
    "These are some of the clinical features to consider when predicting if a patient will die from heart failure.  A data set compiled by the University of California, Irvine showcases these factors in patients experiencing heart failure and the outcome of survival.  "
   ]
  },
  {
   "cell_type": "markdown",
   "id": "480ed631-3986-4079-8f9d-560850403ac0",
   "metadata": {},
   "source": [
    "**Question :**\n",
    "Predicting if a patient will die of heart failure based on the clinical features mentioned above. "
   ]
  },
  {
   "cell_type": "code",
   "execution_count": 1,
   "id": "7eeca007-10aa-40e4-a94f-8dd62c939f2c",
   "metadata": {},
   "outputs": [
    {
     "name": "stderr",
     "output_type": "stream",
     "text": [
      "── \u001b[1mAttaching packages\u001b[22m ─────────────────────────────────────── tidyverse 1.3.1 ──\n",
      "\n",
      "\u001b[32m✔\u001b[39m \u001b[34mggplot2\u001b[39m 3.3.6     \u001b[32m✔\u001b[39m \u001b[34mpurrr  \u001b[39m 0.3.4\n",
      "\u001b[32m✔\u001b[39m \u001b[34mtibble \u001b[39m 3.1.7     \u001b[32m✔\u001b[39m \u001b[34mdplyr  \u001b[39m 1.0.9\n",
      "\u001b[32m✔\u001b[39m \u001b[34mtidyr  \u001b[39m 1.2.0     \u001b[32m✔\u001b[39m \u001b[34mstringr\u001b[39m 1.4.0\n",
      "\u001b[32m✔\u001b[39m \u001b[34mreadr  \u001b[39m 2.1.2     \u001b[32m✔\u001b[39m \u001b[34mforcats\u001b[39m 0.5.1\n",
      "\n",
      "── \u001b[1mConflicts\u001b[22m ────────────────────────────────────────── tidyverse_conflicts() ──\n",
      "\u001b[31m✖\u001b[39m \u001b[34mdplyr\u001b[39m::\u001b[32mfilter()\u001b[39m masks \u001b[34mstats\u001b[39m::filter()\n",
      "\u001b[31m✖\u001b[39m \u001b[34mdplyr\u001b[39m::\u001b[32mlag()\u001b[39m    masks \u001b[34mstats\u001b[39m::lag()\n",
      "\n",
      "\n",
      "Attaching package: ‘testthat’\n",
      "\n",
      "\n",
      "The following object is masked from ‘package:dplyr’:\n",
      "\n",
      "    matches\n",
      "\n",
      "\n",
      "The following object is masked from ‘package:purrr’:\n",
      "\n",
      "    is_null\n",
      "\n",
      "\n",
      "The following objects are masked from ‘package:readr’:\n",
      "\n",
      "    edition_get, local_edition\n",
      "\n",
      "\n",
      "The following object is masked from ‘package:tidyr’:\n",
      "\n",
      "    matches\n",
      "\n",
      "\n",
      "── \u001b[1mAttaching packages\u001b[22m ────────────────────────────────────── tidymodels 1.0.0 ──\n",
      "\n",
      "\u001b[32m✔\u001b[39m \u001b[34mbroom       \u001b[39m 1.0.0     \u001b[32m✔\u001b[39m \u001b[34mrsample     \u001b[39m 1.0.0\n",
      "\u001b[32m✔\u001b[39m \u001b[34mdials       \u001b[39m 1.0.0     \u001b[32m✔\u001b[39m \u001b[34mtune        \u001b[39m 1.0.0\n",
      "\u001b[32m✔\u001b[39m \u001b[34minfer       \u001b[39m 1.0.2     \u001b[32m✔\u001b[39m \u001b[34mworkflows   \u001b[39m 1.0.0\n",
      "\u001b[32m✔\u001b[39m \u001b[34mmodeldata   \u001b[39m 1.0.0     \u001b[32m✔\u001b[39m \u001b[34mworkflowsets\u001b[39m 1.0.0\n",
      "\u001b[32m✔\u001b[39m \u001b[34mparsnip     \u001b[39m 1.0.0     \u001b[32m✔\u001b[39m \u001b[34myardstick   \u001b[39m 1.0.0\n",
      "\u001b[32m✔\u001b[39m \u001b[34mrecipes     \u001b[39m 1.0.1     \n",
      "\n",
      "── \u001b[1mConflicts\u001b[22m ───────────────────────────────────────── tidymodels_conflicts() ──\n",
      "\u001b[31m✖\u001b[39m \u001b[34mscales\u001b[39m::\u001b[32mdiscard()\u001b[39m   masks \u001b[34mpurrr\u001b[39m::discard()\n",
      "\u001b[31m✖\u001b[39m \u001b[34mdplyr\u001b[39m::\u001b[32mfilter()\u001b[39m     masks \u001b[34mstats\u001b[39m::filter()\n",
      "\u001b[31m✖\u001b[39m \u001b[34mrecipes\u001b[39m::\u001b[32mfixed()\u001b[39m    masks \u001b[34mstringr\u001b[39m::fixed()\n",
      "\u001b[31m✖\u001b[39m \u001b[34mtestthat\u001b[39m::\u001b[32mis_null()\u001b[39m masks \u001b[34mpurrr\u001b[39m::is_null()\n",
      "\u001b[31m✖\u001b[39m \u001b[34mdplyr\u001b[39m::\u001b[32mlag()\u001b[39m        masks \u001b[34mstats\u001b[39m::lag()\n",
      "\u001b[31m✖\u001b[39m \u001b[34mrsample\u001b[39m::\u001b[32mmatches()\u001b[39m  masks \u001b[34mtestthat\u001b[39m::matches(), \u001b[34mdplyr\u001b[39m::matches(), \u001b[34mtidyr\u001b[39m::matches()\n",
      "\u001b[31m✖\u001b[39m \u001b[34myardstick\u001b[39m::\u001b[32mspec()\u001b[39m   masks \u001b[34mreadr\u001b[39m::spec()\n",
      "\u001b[31m✖\u001b[39m \u001b[34mrecipes\u001b[39m::\u001b[32mstep()\u001b[39m     masks \u001b[34mstats\u001b[39m::step()\n",
      "\u001b[34m•\u001b[39m Search for functions across packages at \u001b[32mhttps://www.tidymodels.org/find/\u001b[39m\n",
      "\n"
     ]
    }
   ],
   "source": [
    "library(tidyverse)\n",
    "library(testthat)\n",
    "library(digest)\n",
    "library(repr)\n",
    "library(tidymodels)\n",
    "options(repr.matrix.max.rows = 6)"
   ]
  },
  {
   "cell_type": "markdown",
   "id": "b37e4dc1-5afe-4278-8bac-614d951eda26",
   "metadata": {},
   "source": [
    "## Reading the dataset"
   ]
  },
  {
   "cell_type": "code",
   "execution_count": 2,
   "id": "cb2e7a36-b178-4bfa-b3f7-c49fd54a1f81",
   "metadata": {},
   "outputs": [
    {
     "name": "stderr",
     "output_type": "stream",
     "text": [
      "\u001b[1mRows: \u001b[22m\u001b[34m299\u001b[39m \u001b[1mColumns: \u001b[22m\u001b[34m13\u001b[39m\n",
      "\u001b[36m──\u001b[39m \u001b[1mColumn specification\u001b[22m \u001b[36m────────────────────────────────────────────────────────\u001b[39m\n",
      "\u001b[1mDelimiter:\u001b[22m \",\"\n",
      "\u001b[32mdbl\u001b[39m (13): age, anaemia, creatinine_phosphokinase, diabetes, ejection_fractio...\n",
      "\n",
      "\u001b[36mℹ\u001b[39m Use `spec()` to retrieve the full column specification for this data.\n",
      "\u001b[36mℹ\u001b[39m Specify the column types or set `show_col_types = FALSE` to quiet this message.\n"
     ]
    },
    {
     "data": {
      "text/html": [
       "<table class=\"dataframe\">\n",
       "<caption>A spec_tbl_df: 299 × 13</caption>\n",
       "<thead>\n",
       "\t<tr><th scope=col>age</th><th scope=col>anaemia</th><th scope=col>creatinine_phosphokinase</th><th scope=col>diabetes</th><th scope=col>ejection_fraction</th><th scope=col>high_blood_pressure</th><th scope=col>platelets</th><th scope=col>serum_creatinine</th><th scope=col>serum_sodium</th><th scope=col>sex</th><th scope=col>smoking</th><th scope=col>time</th><th scope=col>DEATH_EVENT</th></tr>\n",
       "\t<tr><th scope=col>&lt;dbl&gt;</th><th scope=col>&lt;dbl&gt;</th><th scope=col>&lt;dbl&gt;</th><th scope=col>&lt;dbl&gt;</th><th scope=col>&lt;dbl&gt;</th><th scope=col>&lt;dbl&gt;</th><th scope=col>&lt;dbl&gt;</th><th scope=col>&lt;dbl&gt;</th><th scope=col>&lt;dbl&gt;</th><th scope=col>&lt;dbl&gt;</th><th scope=col>&lt;dbl&gt;</th><th scope=col>&lt;dbl&gt;</th><th scope=col>&lt;dbl&gt;</th></tr>\n",
       "</thead>\n",
       "<tbody>\n",
       "\t<tr><td>75</td><td>0</td><td> 582</td><td>0</td><td>20</td><td>1</td><td>265000</td><td>1.9</td><td>130</td><td>1</td><td>0</td><td>4</td><td>1</td></tr>\n",
       "\t<tr><td>55</td><td>0</td><td>7861</td><td>0</td><td>38</td><td>0</td><td>263358</td><td>1.1</td><td>136</td><td>1</td><td>0</td><td>6</td><td>1</td></tr>\n",
       "\t<tr><td>65</td><td>0</td><td> 146</td><td>0</td><td>20</td><td>0</td><td>162000</td><td>1.3</td><td>129</td><td>1</td><td>1</td><td>7</td><td>1</td></tr>\n",
       "\t<tr><td>⋮</td><td>⋮</td><td>⋮</td><td>⋮</td><td>⋮</td><td>⋮</td><td>⋮</td><td>⋮</td><td>⋮</td><td>⋮</td><td>⋮</td><td>⋮</td><td>⋮</td></tr>\n",
       "\t<tr><td>45</td><td>0</td><td>2060</td><td>1</td><td>60</td><td>0</td><td>742000</td><td>0.8</td><td>138</td><td>0</td><td>0</td><td>278</td><td>0</td></tr>\n",
       "\t<tr><td>45</td><td>0</td><td>2413</td><td>0</td><td>38</td><td>0</td><td>140000</td><td>1.4</td><td>140</td><td>1</td><td>1</td><td>280</td><td>0</td></tr>\n",
       "\t<tr><td>50</td><td>0</td><td> 196</td><td>0</td><td>45</td><td>0</td><td>395000</td><td>1.6</td><td>136</td><td>1</td><td>1</td><td>285</td><td>0</td></tr>\n",
       "</tbody>\n",
       "</table>\n"
      ],
      "text/latex": [
       "A spec\\_tbl\\_df: 299 × 13\n",
       "\\begin{tabular}{lllllllllllll}\n",
       " age & anaemia & creatinine\\_phosphokinase & diabetes & ejection\\_fraction & high\\_blood\\_pressure & platelets & serum\\_creatinine & serum\\_sodium & sex & smoking & time & DEATH\\_EVENT\\\\\n",
       " <dbl> & <dbl> & <dbl> & <dbl> & <dbl> & <dbl> & <dbl> & <dbl> & <dbl> & <dbl> & <dbl> & <dbl> & <dbl>\\\\\n",
       "\\hline\n",
       "\t 75 & 0 &  582 & 0 & 20 & 1 & 265000 & 1.9 & 130 & 1 & 0 & 4 & 1\\\\\n",
       "\t 55 & 0 & 7861 & 0 & 38 & 0 & 263358 & 1.1 & 136 & 1 & 0 & 6 & 1\\\\\n",
       "\t 65 & 0 &  146 & 0 & 20 & 0 & 162000 & 1.3 & 129 & 1 & 1 & 7 & 1\\\\\n",
       "\t ⋮ & ⋮ & ⋮ & ⋮ & ⋮ & ⋮ & ⋮ & ⋮ & ⋮ & ⋮ & ⋮ & ⋮ & ⋮\\\\\n",
       "\t 45 & 0 & 2060 & 1 & 60 & 0 & 742000 & 0.8 & 138 & 0 & 0 & 278 & 0\\\\\n",
       "\t 45 & 0 & 2413 & 0 & 38 & 0 & 140000 & 1.4 & 140 & 1 & 1 & 280 & 0\\\\\n",
       "\t 50 & 0 &  196 & 0 & 45 & 0 & 395000 & 1.6 & 136 & 1 & 1 & 285 & 0\\\\\n",
       "\\end{tabular}\n"
      ],
      "text/markdown": [
       "\n",
       "A spec_tbl_df: 299 × 13\n",
       "\n",
       "| age &lt;dbl&gt; | anaemia &lt;dbl&gt; | creatinine_phosphokinase &lt;dbl&gt; | diabetes &lt;dbl&gt; | ejection_fraction &lt;dbl&gt; | high_blood_pressure &lt;dbl&gt; | platelets &lt;dbl&gt; | serum_creatinine &lt;dbl&gt; | serum_sodium &lt;dbl&gt; | sex &lt;dbl&gt; | smoking &lt;dbl&gt; | time &lt;dbl&gt; | DEATH_EVENT &lt;dbl&gt; |\n",
       "|---|---|---|---|---|---|---|---|---|---|---|---|---|\n",
       "| 75 | 0 |  582 | 0 | 20 | 1 | 265000 | 1.9 | 130 | 1 | 0 | 4 | 1 |\n",
       "| 55 | 0 | 7861 | 0 | 38 | 0 | 263358 | 1.1 | 136 | 1 | 0 | 6 | 1 |\n",
       "| 65 | 0 |  146 | 0 | 20 | 0 | 162000 | 1.3 | 129 | 1 | 1 | 7 | 1 |\n",
       "| ⋮ | ⋮ | ⋮ | ⋮ | ⋮ | ⋮ | ⋮ | ⋮ | ⋮ | ⋮ | ⋮ | ⋮ | ⋮ |\n",
       "| 45 | 0 | 2060 | 1 | 60 | 0 | 742000 | 0.8 | 138 | 0 | 0 | 278 | 0 |\n",
       "| 45 | 0 | 2413 | 0 | 38 | 0 | 140000 | 1.4 | 140 | 1 | 1 | 280 | 0 |\n",
       "| 50 | 0 |  196 | 0 | 45 | 0 | 395000 | 1.6 | 136 | 1 | 1 | 285 | 0 |\n",
       "\n"
      ],
      "text/plain": [
       "    age anaemia creatinine_phosphokinase diabetes ejection_fraction\n",
       "1   75  0        582                     0        20               \n",
       "2   55  0       7861                     0        38               \n",
       "3   65  0        146                     0        20               \n",
       "⋮   ⋮   ⋮       ⋮                        ⋮        ⋮                \n",
       "297 45  0       2060                     1        60               \n",
       "298 45  0       2413                     0        38               \n",
       "299 50  0        196                     0        45               \n",
       "    high_blood_pressure platelets serum_creatinine serum_sodium sex smoking\n",
       "1   1                   265000    1.9              130          1   0      \n",
       "2   0                   263358    1.1              136          1   0      \n",
       "3   0                   162000    1.3              129          1   1      \n",
       "⋮   ⋮                   ⋮         ⋮                ⋮            ⋮   ⋮      \n",
       "297 0                   742000    0.8              138          0   0      \n",
       "298 0                   140000    1.4              140          1   1      \n",
       "299 0                   395000    1.6              136          1   1      \n",
       "    time DEATH_EVENT\n",
       "1   4    1          \n",
       "2   6    1          \n",
       "3   7    1          \n",
       "⋮   ⋮    ⋮          \n",
       "297 278  0          \n",
       "298 280  0          \n",
       "299 285  0          "
      ]
     },
     "metadata": {},
     "output_type": "display_data"
    }
   ],
   "source": [
    "heart_failure <- read_csv(\"https://raw.githubusercontent.com/Parcode19/Group_project/main/heart_failure_clinical_records_dataset.csv\")\n",
    "heart_failure"
   ]
  },
  {
   "cell_type": "markdown",
   "id": "9c773b51-e807-4899-aeb6-ad410bc0eb39",
   "metadata": {},
   "source": [
    "## Cleaning and wrangling the data\n"
   ]
  },
  {
   "cell_type": "markdown",
   "id": "f900b8c0-dd67-4b5e-9fdc-9cb7e860b9ec",
   "metadata": {},
   "source": [
    "### Selecting the columns to be used for the data analysis\n",
    "\n",
    "We clean the data and only select the columns which are needed for our analysis and answering our question. We also modify the `DEATH_EVENT` column and change the `1` to `Fatal` and `0` to `Not Fatal`. We then use mutate to change the items in the `DEATH_EVENT` column so that it contains factors since our proposal made us realize that we are working on a classifiction problem which requires the target variable to be in the form of factors."
   ]
  },
  {
   "cell_type": "code",
   "execution_count": 3,
   "id": "6545f4cd-34b3-4ba6-8fbc-517405cee2b3",
   "metadata": {},
   "outputs": [
    {
     "data": {
      "text/html": [
       "<table class=\"dataframe\">\n",
       "<caption>A tibble: 299 × 7</caption>\n",
       "<thead>\n",
       "\t<tr><th scope=col>age</th><th scope=col>creatinine_phosphokinase</th><th scope=col>ejection_fraction</th><th scope=col>platelets</th><th scope=col>serum_creatinine</th><th scope=col>serum_sodium</th><th scope=col>DEATH_EVENT</th></tr>\n",
       "\t<tr><th scope=col>&lt;dbl&gt;</th><th scope=col>&lt;dbl&gt;</th><th scope=col>&lt;dbl&gt;</th><th scope=col>&lt;dbl&gt;</th><th scope=col>&lt;dbl&gt;</th><th scope=col>&lt;dbl&gt;</th><th scope=col>&lt;chr&gt;</th></tr>\n",
       "</thead>\n",
       "<tbody>\n",
       "\t<tr><td>75</td><td> 582</td><td>20</td><td>265000</td><td>1.9</td><td>130</td><td>Fatal</td></tr>\n",
       "\t<tr><td>55</td><td>7861</td><td>38</td><td>263358</td><td>1.1</td><td>136</td><td>Fatal</td></tr>\n",
       "\t<tr><td>65</td><td> 146</td><td>20</td><td>162000</td><td>1.3</td><td>129</td><td>Fatal</td></tr>\n",
       "\t<tr><td>⋮</td><td>⋮</td><td>⋮</td><td>⋮</td><td>⋮</td><td>⋮</td><td>⋮</td></tr>\n",
       "\t<tr><td>45</td><td>2060</td><td>60</td><td>742000</td><td>0.8</td><td>138</td><td>Not Fatal</td></tr>\n",
       "\t<tr><td>45</td><td>2413</td><td>38</td><td>140000</td><td>1.4</td><td>140</td><td>Not Fatal</td></tr>\n",
       "\t<tr><td>50</td><td> 196</td><td>45</td><td>395000</td><td>1.6</td><td>136</td><td>Not Fatal</td></tr>\n",
       "</tbody>\n",
       "</table>\n"
      ],
      "text/latex": [
       "A tibble: 299 × 7\n",
       "\\begin{tabular}{lllllll}\n",
       " age & creatinine\\_phosphokinase & ejection\\_fraction & platelets & serum\\_creatinine & serum\\_sodium & DEATH\\_EVENT\\\\\n",
       " <dbl> & <dbl> & <dbl> & <dbl> & <dbl> & <dbl> & <chr>\\\\\n",
       "\\hline\n",
       "\t 75 &  582 & 20 & 265000 & 1.9 & 130 & Fatal\\\\\n",
       "\t 55 & 7861 & 38 & 263358 & 1.1 & 136 & Fatal\\\\\n",
       "\t 65 &  146 & 20 & 162000 & 1.3 & 129 & Fatal\\\\\n",
       "\t ⋮ & ⋮ & ⋮ & ⋮ & ⋮ & ⋮ & ⋮\\\\\n",
       "\t 45 & 2060 & 60 & 742000 & 0.8 & 138 & Not Fatal\\\\\n",
       "\t 45 & 2413 & 38 & 140000 & 1.4 & 140 & Not Fatal\\\\\n",
       "\t 50 &  196 & 45 & 395000 & 1.6 & 136 & Not Fatal\\\\\n",
       "\\end{tabular}\n"
      ],
      "text/markdown": [
       "\n",
       "A tibble: 299 × 7\n",
       "\n",
       "| age &lt;dbl&gt; | creatinine_phosphokinase &lt;dbl&gt; | ejection_fraction &lt;dbl&gt; | platelets &lt;dbl&gt; | serum_creatinine &lt;dbl&gt; | serum_sodium &lt;dbl&gt; | DEATH_EVENT &lt;chr&gt; |\n",
       "|---|---|---|---|---|---|---|\n",
       "| 75 |  582 | 20 | 265000 | 1.9 | 130 | Fatal |\n",
       "| 55 | 7861 | 38 | 263358 | 1.1 | 136 | Fatal |\n",
       "| 65 |  146 | 20 | 162000 | 1.3 | 129 | Fatal |\n",
       "| ⋮ | ⋮ | ⋮ | ⋮ | ⋮ | ⋮ | ⋮ |\n",
       "| 45 | 2060 | 60 | 742000 | 0.8 | 138 | Not Fatal |\n",
       "| 45 | 2413 | 38 | 140000 | 1.4 | 140 | Not Fatal |\n",
       "| 50 |  196 | 45 | 395000 | 1.6 | 136 | Not Fatal |\n",
       "\n"
      ],
      "text/plain": [
       "    age creatinine_phosphokinase ejection_fraction platelets serum_creatinine\n",
       "1   75   582                     20                265000    1.9             \n",
       "2   55  7861                     38                263358    1.1             \n",
       "3   65   146                     20                162000    1.3             \n",
       "⋮   ⋮   ⋮                        ⋮                 ⋮         ⋮               \n",
       "297 45  2060                     60                742000    0.8             \n",
       "298 45  2413                     38                140000    1.4             \n",
       "299 50   196                     45                395000    1.6             \n",
       "    serum_sodium DEATH_EVENT\n",
       "1   130          Fatal      \n",
       "2   136          Fatal      \n",
       "3   129          Fatal      \n",
       "⋮   ⋮            ⋮          \n",
       "297 138          Not Fatal  \n",
       "298 140          Not Fatal  \n",
       "299 136          Not Fatal  "
      ]
     },
     "metadata": {},
     "output_type": "display_data"
    },
    {
     "data": {
      "text/html": [
       "<table class=\"dataframe\">\n",
       "<caption>A tibble: 299 × 7</caption>\n",
       "<thead>\n",
       "\t<tr><th scope=col>age</th><th scope=col>creatinine_phosphokinase</th><th scope=col>ejection_fraction</th><th scope=col>platelets</th><th scope=col>serum_creatinine</th><th scope=col>serum_sodium</th><th scope=col>DEATH_EVENT</th></tr>\n",
       "\t<tr><th scope=col>&lt;dbl&gt;</th><th scope=col>&lt;dbl&gt;</th><th scope=col>&lt;dbl&gt;</th><th scope=col>&lt;dbl&gt;</th><th scope=col>&lt;dbl&gt;</th><th scope=col>&lt;dbl&gt;</th><th scope=col>&lt;fct&gt;</th></tr>\n",
       "</thead>\n",
       "<tbody>\n",
       "\t<tr><td>75</td><td> 582</td><td>20</td><td>265000</td><td>1.9</td><td>130</td><td>Fatal</td></tr>\n",
       "\t<tr><td>55</td><td>7861</td><td>38</td><td>263358</td><td>1.1</td><td>136</td><td>Fatal</td></tr>\n",
       "\t<tr><td>65</td><td> 146</td><td>20</td><td>162000</td><td>1.3</td><td>129</td><td>Fatal</td></tr>\n",
       "\t<tr><td>⋮</td><td>⋮</td><td>⋮</td><td>⋮</td><td>⋮</td><td>⋮</td><td>⋮</td></tr>\n",
       "\t<tr><td>45</td><td>2060</td><td>60</td><td>742000</td><td>0.8</td><td>138</td><td>Not Fatal</td></tr>\n",
       "\t<tr><td>45</td><td>2413</td><td>38</td><td>140000</td><td>1.4</td><td>140</td><td>Not Fatal</td></tr>\n",
       "\t<tr><td>50</td><td> 196</td><td>45</td><td>395000</td><td>1.6</td><td>136</td><td>Not Fatal</td></tr>\n",
       "</tbody>\n",
       "</table>\n"
      ],
      "text/latex": [
       "A tibble: 299 × 7\n",
       "\\begin{tabular}{lllllll}\n",
       " age & creatinine\\_phosphokinase & ejection\\_fraction & platelets & serum\\_creatinine & serum\\_sodium & DEATH\\_EVENT\\\\\n",
       " <dbl> & <dbl> & <dbl> & <dbl> & <dbl> & <dbl> & <fct>\\\\\n",
       "\\hline\n",
       "\t 75 &  582 & 20 & 265000 & 1.9 & 130 & Fatal\\\\\n",
       "\t 55 & 7861 & 38 & 263358 & 1.1 & 136 & Fatal\\\\\n",
       "\t 65 &  146 & 20 & 162000 & 1.3 & 129 & Fatal\\\\\n",
       "\t ⋮ & ⋮ & ⋮ & ⋮ & ⋮ & ⋮ & ⋮\\\\\n",
       "\t 45 & 2060 & 60 & 742000 & 0.8 & 138 & Not Fatal\\\\\n",
       "\t 45 & 2413 & 38 & 140000 & 1.4 & 140 & Not Fatal\\\\\n",
       "\t 50 &  196 & 45 & 395000 & 1.6 & 136 & Not Fatal\\\\\n",
       "\\end{tabular}\n"
      ],
      "text/markdown": [
       "\n",
       "A tibble: 299 × 7\n",
       "\n",
       "| age &lt;dbl&gt; | creatinine_phosphokinase &lt;dbl&gt; | ejection_fraction &lt;dbl&gt; | platelets &lt;dbl&gt; | serum_creatinine &lt;dbl&gt; | serum_sodium &lt;dbl&gt; | DEATH_EVENT &lt;fct&gt; |\n",
       "|---|---|---|---|---|---|---|\n",
       "| 75 |  582 | 20 | 265000 | 1.9 | 130 | Fatal |\n",
       "| 55 | 7861 | 38 | 263358 | 1.1 | 136 | Fatal |\n",
       "| 65 |  146 | 20 | 162000 | 1.3 | 129 | Fatal |\n",
       "| ⋮ | ⋮ | ⋮ | ⋮ | ⋮ | ⋮ | ⋮ |\n",
       "| 45 | 2060 | 60 | 742000 | 0.8 | 138 | Not Fatal |\n",
       "| 45 | 2413 | 38 | 140000 | 1.4 | 140 | Not Fatal |\n",
       "| 50 |  196 | 45 | 395000 | 1.6 | 136 | Not Fatal |\n",
       "\n"
      ],
      "text/plain": [
       "    age creatinine_phosphokinase ejection_fraction platelets serum_creatinine\n",
       "1   75   582                     20                265000    1.9             \n",
       "2   55  7861                     38                263358    1.1             \n",
       "3   65   146                     20                162000    1.3             \n",
       "⋮   ⋮   ⋮                        ⋮                 ⋮         ⋮               \n",
       "297 45  2060                     60                742000    0.8             \n",
       "298 45  2413                     38                140000    1.4             \n",
       "299 50   196                     45                395000    1.6             \n",
       "    serum_sodium DEATH_EVENT\n",
       "1   130          Fatal      \n",
       "2   136          Fatal      \n",
       "3   129          Fatal      \n",
       "⋮   ⋮            ⋮          \n",
       "297 138          Not Fatal  \n",
       "298 140          Not Fatal  \n",
       "299 136          Not Fatal  "
      ]
     },
     "metadata": {},
     "output_type": "display_data"
    }
   ],
   "source": [
    "heart_data <- heart_failure |>\n",
    "    select(age, \n",
    "           creatinine_phosphokinase, \n",
    "           ejection_fraction, \n",
    "           platelets, \n",
    "           serum_creatinine, \n",
    "           serum_sodium, \n",
    "           DEATH_EVENT) \n",
    "\n",
    "heart_data$DEATH_EVENT <- ifelse(heart_data$DEATH_EVENT == 0, \"Not Fatal\", \"Fatal\") \n",
    "heart_data \n",
    "\n",
    "heart_data <- heart_data  |>\n",
    "      mutate(DEATH_EVENT = as_factor(DEATH_EVENT))\n",
    "heart_data\n"
   ]
  },
  {
   "cell_type": "markdown",
   "id": "acedb2e3-57cf-4611-b27d-0b954695d6b8",
   "metadata": {},
   "source": [
    "## Scaling the dataset for equal contributions of each columns"
   ]
  },
  {
   "cell_type": "code",
   "execution_count": 4,
   "id": "97f0c827-d2dc-4c43-a933-7236a67c0037",
   "metadata": {},
   "outputs": [
    {
     "data": {
      "text/html": [
       "<table class=\"dataframe\">\n",
       "<caption>A tibble: 299 × 13</caption>\n",
       "<thead>\n",
       "\t<tr><th scope=col>age</th><th scope=col>creatinine_phosphokinase</th><th scope=col>ejection_fraction</th><th scope=col>platelets</th><th scope=col>serum_creatinine</th><th scope=col>serum_sodium</th><th scope=col>DEATH_EVENT</th><th scope=col>scaled_age</th><th scope=col>scaled_creatinine_phosphokinase</th><th scope=col>scaled_ejection_fraction</th><th scope=col>scaled_platelets</th><th scope=col>scaled_serum_creatinine</th><th scope=col>scaled_serum_sodium</th></tr>\n",
       "\t<tr><th scope=col>&lt;dbl&gt;</th><th scope=col>&lt;dbl&gt;</th><th scope=col>&lt;dbl&gt;</th><th scope=col>&lt;dbl&gt;</th><th scope=col>&lt;dbl&gt;</th><th scope=col>&lt;dbl&gt;</th><th scope=col>&lt;fct&gt;</th><th scope=col>&lt;dbl[,1]&gt;</th><th scope=col>&lt;dbl[,1]&gt;</th><th scope=col>&lt;dbl[,1]&gt;</th><th scope=col>&lt;dbl[,1]&gt;</th><th scope=col>&lt;dbl[,1]&gt;</th><th scope=col>&lt;dbl[,1]&gt;</th></tr>\n",
       "</thead>\n",
       "<tbody>\n",
       "\t<tr><td>75</td><td> 582</td><td>20</td><td>265000</td><td>1.9</td><td>130</td><td>Fatal</td><td> 1.1909487</td><td> 0.000165451</td><td>-1.527997920</td><td> 1.678834e-02</td><td> 0.48923681</td><td>-1.5015189</td></tr>\n",
       "\t<tr><td>55</td><td>7861</td><td>38</td><td>263358</td><td>1.1</td><td>136</td><td>Fatal</td><td>-0.4904571</td><td> 7.502062717</td><td>-0.007064906</td><td> 7.523048e-09</td><td>-0.28407611</td><td>-0.1417385</td></tr>\n",
       "\t<tr><td>65</td><td> 146</td><td>20</td><td>162000</td><td>1.3</td><td>129</td><td>Fatal</td><td> 0.3502458</td><td>-0.449185725</td><td>-1.527997920</td><td>-1.036336e+00</td><td>-0.09074788</td><td>-1.7281490</td></tr>\n",
       "\t<tr><td>⋮</td><td>⋮</td><td>⋮</td><td>⋮</td><td>⋮</td><td>⋮</td><td>⋮</td><td>⋮</td><td>⋮</td><td>⋮</td><td>⋮</td><td>⋮</td><td>⋮</td></tr>\n",
       "\t<tr><td>45</td><td>2060</td><td>60</td><td>742000</td><td>0.8</td><td>138</td><td>Not Fatal</td><td>-1.3311599</td><td> 1.5234247</td><td> 1.851853222</td><td> 4.893878</td><td>-0.574068459</td><td> 0.3115216</td></tr>\n",
       "\t<tr><td>45</td><td>2413</td><td>38</td><td>140000</td><td>1.4</td><td>140</td><td>Not Fatal</td><td>-1.3311599</td><td> 1.8872343</td><td>-0.007064906</td><td>-1.261275</td><td> 0.005916232</td><td> 0.7647817</td></tr>\n",
       "\t<tr><td>50</td><td> 196</td><td>45</td><td>395000</td><td>1.6</td><td>136</td><td>Not Fatal</td><td>-0.9108085</td><td>-0.3976546</td><td> 0.584409044</td><td> 1.345974</td><td> 0.199244462</td><td>-0.1417385</td></tr>\n",
       "</tbody>\n",
       "</table>\n"
      ],
      "text/latex": [
       "A tibble: 299 × 13\n",
       "\\begin{tabular}{lllllllllllll}\n",
       " age & creatinine\\_phosphokinase & ejection\\_fraction & platelets & serum\\_creatinine & serum\\_sodium & DEATH\\_EVENT & scaled\\_age & scaled\\_creatinine\\_phosphokinase & scaled\\_ejection\\_fraction & scaled\\_platelets & scaled\\_serum\\_creatinine & scaled\\_serum\\_sodium\\\\\n",
       " <dbl> & <dbl> & <dbl> & <dbl> & <dbl> & <dbl> & <fct> & <dbl{[},1{]}> & <dbl{[},1{]}> & <dbl{[},1{]}> & <dbl{[},1{]}> & <dbl{[},1{]}> & <dbl{[},1{]}>\\\\\n",
       "\\hline\n",
       "\t 75 &  582 & 20 & 265000 & 1.9 & 130 & Fatal &  1.1909487 &  0.000165451 & -1.527997920 &  1.678834e-02 &  0.48923681 & -1.5015189\\\\\n",
       "\t 55 & 7861 & 38 & 263358 & 1.1 & 136 & Fatal & -0.4904571 &  7.502062717 & -0.007064906 &  7.523048e-09 & -0.28407611 & -0.1417385\\\\\n",
       "\t 65 &  146 & 20 & 162000 & 1.3 & 129 & Fatal &  0.3502458 & -0.449185725 & -1.527997920 & -1.036336e+00 & -0.09074788 & -1.7281490\\\\\n",
       "\t ⋮ & ⋮ & ⋮ & ⋮ & ⋮ & ⋮ & ⋮ & ⋮ & ⋮ & ⋮ & ⋮ & ⋮ & ⋮\\\\\n",
       "\t 45 & 2060 & 60 & 742000 & 0.8 & 138 & Not Fatal & -1.3311599 &  1.5234247 &  1.851853222 &  4.893878 & -0.574068459 &  0.3115216\\\\\n",
       "\t 45 & 2413 & 38 & 140000 & 1.4 & 140 & Not Fatal & -1.3311599 &  1.8872343 & -0.007064906 & -1.261275 &  0.005916232 &  0.7647817\\\\\n",
       "\t 50 &  196 & 45 & 395000 & 1.6 & 136 & Not Fatal & -0.9108085 & -0.3976546 &  0.584409044 &  1.345974 &  0.199244462 & -0.1417385\\\\\n",
       "\\end{tabular}\n"
      ],
      "text/markdown": [
       "\n",
       "A tibble: 299 × 13\n",
       "\n",
       "| age &lt;dbl&gt; | creatinine_phosphokinase &lt;dbl&gt; | ejection_fraction &lt;dbl&gt; | platelets &lt;dbl&gt; | serum_creatinine &lt;dbl&gt; | serum_sodium &lt;dbl&gt; | DEATH_EVENT &lt;fct&gt; | scaled_age &lt;dbl[,1]&gt; | scaled_creatinine_phosphokinase &lt;dbl[,1]&gt; | scaled_ejection_fraction &lt;dbl[,1]&gt; | scaled_platelets &lt;dbl[,1]&gt; | scaled_serum_creatinine &lt;dbl[,1]&gt; | scaled_serum_sodium &lt;dbl[,1]&gt; |\n",
       "|---|---|---|---|---|---|---|---|---|---|---|---|---|\n",
       "| 75 |  582 | 20 | 265000 | 1.9 | 130 | Fatal |  1.1909487 |  0.000165451 | -1.527997920 |  1.678834e-02 |  0.48923681 | -1.5015189 |\n",
       "| 55 | 7861 | 38 | 263358 | 1.1 | 136 | Fatal | -0.4904571 |  7.502062717 | -0.007064906 |  7.523048e-09 | -0.28407611 | -0.1417385 |\n",
       "| 65 |  146 | 20 | 162000 | 1.3 | 129 | Fatal |  0.3502458 | -0.449185725 | -1.527997920 | -1.036336e+00 | -0.09074788 | -1.7281490 |\n",
       "| ⋮ | ⋮ | ⋮ | ⋮ | ⋮ | ⋮ | ⋮ | ⋮ | ⋮ | ⋮ | ⋮ | ⋮ | ⋮ |\n",
       "| 45 | 2060 | 60 | 742000 | 0.8 | 138 | Not Fatal | -1.3311599 |  1.5234247 |  1.851853222 |  4.893878 | -0.574068459 |  0.3115216 |\n",
       "| 45 | 2413 | 38 | 140000 | 1.4 | 140 | Not Fatal | -1.3311599 |  1.8872343 | -0.007064906 | -1.261275 |  0.005916232 |  0.7647817 |\n",
       "| 50 |  196 | 45 | 395000 | 1.6 | 136 | Not Fatal | -0.9108085 | -0.3976546 |  0.584409044 |  1.345974 |  0.199244462 | -0.1417385 |\n",
       "\n"
      ],
      "text/plain": [
       "    age creatinine_phosphokinase ejection_fraction platelets serum_creatinine\n",
       "1   75   582                     20                265000    1.9             \n",
       "2   55  7861                     38                263358    1.1             \n",
       "3   65   146                     20                162000    1.3             \n",
       "⋮   ⋮   ⋮                        ⋮                 ⋮         ⋮               \n",
       "297 45  2060                     60                742000    0.8             \n",
       "298 45  2413                     38                140000    1.4             \n",
       "299 50   196                     45                395000    1.6             \n",
       "    serum_sodium DEATH_EVENT scaled_age scaled_creatinine_phosphokinase\n",
       "1   130          Fatal        1.1909487  0.000165451                   \n",
       "2   136          Fatal       -0.4904571  7.502062717                   \n",
       "3   129          Fatal        0.3502458 -0.449185725                   \n",
       "⋮   ⋮            ⋮           ⋮          ⋮                              \n",
       "297 138          Not Fatal   -1.3311599  1.5234247                     \n",
       "298 140          Not Fatal   -1.3311599  1.8872343                     \n",
       "299 136          Not Fatal   -0.9108085 -0.3976546                     \n",
       "    scaled_ejection_fraction scaled_platelets scaled_serum_creatinine\n",
       "1   -1.527997920              1.678834e-02     0.48923681            \n",
       "2   -0.007064906              7.523048e-09    -0.28407611            \n",
       "3   -1.527997920             -1.036336e+00    -0.09074788            \n",
       "⋮   ⋮                        ⋮                ⋮                      \n",
       "297  1.851853222              4.893878        -0.574068459           \n",
       "298 -0.007064906             -1.261275         0.005916232           \n",
       "299  0.584409044              1.345974         0.199244462           \n",
       "    scaled_serum_sodium\n",
       "1   -1.5015189         \n",
       "2   -0.1417385         \n",
       "3   -1.7281490         \n",
       "⋮   ⋮                  \n",
       "297  0.3115216         \n",
       "298  0.7647817         \n",
       "299 -0.1417385         "
      ]
     },
     "metadata": {},
     "output_type": "display_data"
    }
   ],
   "source": [
    "heart_data_scaled <- heart_data |>\n",
    "    mutate(scaled_age = scale(age, center = TRUE),\n",
    "           scaled_creatinine_phosphokinase = scale(creatinine_phosphokinase, center = TRUE),\n",
    "           scaled_ejection_fraction = scale(ejection_fraction, center = TRUE),\n",
    "           scaled_platelets = scale(platelets, center = TRUE),\n",
    "           scaled_serum_creatinine = scale(serum_creatinine, center = TRUE),\n",
    "           scaled_serum_sodium = scale(serum_sodium, center = TRUE))\n",
    "heart_data_scaled"
   ]
  },
  {
   "cell_type": "markdown",
   "id": "4e07c50f-1e64-421a-947e-7447bcf14cf0",
   "metadata": {},
   "source": [
    "## Splitting the table into training and testing dataset "
   ]
  },
  {
   "cell_type": "markdown",
   "id": "addb4023-a441-4db9-b0a7-ba321cfe66aa",
   "metadata": {},
   "source": [
    "We split the scaled data into a training set and a testing set. \n",
    "\n",
    "We will only use the training set when building the classifier. Then, we will use the testing data set to evaluate the accuracy of our classifier. We split the data so that 75% of the data ends up in the training set and 25% in the testing set."
   ]
  },
  {
   "cell_type": "code",
   "execution_count": 5,
   "id": "73cdf0b9-5f4c-4df6-aa04-8f79383712c3",
   "metadata": {},
   "outputs": [
    {
     "data": {
      "text/html": [
       "<table class=\"dataframe\">\n",
       "<caption>A tibble: 224 × 7</caption>\n",
       "<thead>\n",
       "\t<tr><th scope=col>age</th><th scope=col>creatinine_phosphokinase</th><th scope=col>ejection_fraction</th><th scope=col>platelets</th><th scope=col>serum_creatinine</th><th scope=col>serum_sodium</th><th scope=col>DEATH_EVENT</th></tr>\n",
       "\t<tr><th scope=col>&lt;dbl&gt;</th><th scope=col>&lt;dbl&gt;</th><th scope=col>&lt;dbl&gt;</th><th scope=col>&lt;dbl&gt;</th><th scope=col>&lt;dbl&gt;</th><th scope=col>&lt;dbl&gt;</th><th scope=col>&lt;fct&gt;</th></tr>\n",
       "</thead>\n",
       "<tbody>\n",
       "\t<tr><td>75</td><td> 582</td><td>20</td><td>265000</td><td>1.9</td><td>130</td><td>Fatal</td></tr>\n",
       "\t<tr><td>55</td><td>7861</td><td>38</td><td>263358</td><td>1.1</td><td>136</td><td>Fatal</td></tr>\n",
       "\t<tr><td>50</td><td> 111</td><td>20</td><td>210000</td><td>1.9</td><td>137</td><td>Fatal</td></tr>\n",
       "\t<tr><td>⋮</td><td>⋮</td><td>⋮</td><td>⋮</td><td>⋮</td><td>⋮</td><td>⋮</td></tr>\n",
       "\t<tr><td>55</td><td>1820</td><td>38</td><td>270000</td><td>1.2</td><td>139</td><td>Not Fatal</td></tr>\n",
       "\t<tr><td>45</td><td>2413</td><td>38</td><td>140000</td><td>1.4</td><td>140</td><td>Not Fatal</td></tr>\n",
       "\t<tr><td>50</td><td> 196</td><td>45</td><td>395000</td><td>1.6</td><td>136</td><td>Not Fatal</td></tr>\n",
       "</tbody>\n",
       "</table>\n"
      ],
      "text/latex": [
       "A tibble: 224 × 7\n",
       "\\begin{tabular}{lllllll}\n",
       " age & creatinine\\_phosphokinase & ejection\\_fraction & platelets & serum\\_creatinine & serum\\_sodium & DEATH\\_EVENT\\\\\n",
       " <dbl> & <dbl> & <dbl> & <dbl> & <dbl> & <dbl> & <fct>\\\\\n",
       "\\hline\n",
       "\t 75 &  582 & 20 & 265000 & 1.9 & 130 & Fatal\\\\\n",
       "\t 55 & 7861 & 38 & 263358 & 1.1 & 136 & Fatal\\\\\n",
       "\t 50 &  111 & 20 & 210000 & 1.9 & 137 & Fatal\\\\\n",
       "\t ⋮ & ⋮ & ⋮ & ⋮ & ⋮ & ⋮ & ⋮\\\\\n",
       "\t 55 & 1820 & 38 & 270000 & 1.2 & 139 & Not Fatal\\\\\n",
       "\t 45 & 2413 & 38 & 140000 & 1.4 & 140 & Not Fatal\\\\\n",
       "\t 50 &  196 & 45 & 395000 & 1.6 & 136 & Not Fatal\\\\\n",
       "\\end{tabular}\n"
      ],
      "text/markdown": [
       "\n",
       "A tibble: 224 × 7\n",
       "\n",
       "| age &lt;dbl&gt; | creatinine_phosphokinase &lt;dbl&gt; | ejection_fraction &lt;dbl&gt; | platelets &lt;dbl&gt; | serum_creatinine &lt;dbl&gt; | serum_sodium &lt;dbl&gt; | DEATH_EVENT &lt;fct&gt; |\n",
       "|---|---|---|---|---|---|---|\n",
       "| 75 |  582 | 20 | 265000 | 1.9 | 130 | Fatal |\n",
       "| 55 | 7861 | 38 | 263358 | 1.1 | 136 | Fatal |\n",
       "| 50 |  111 | 20 | 210000 | 1.9 | 137 | Fatal |\n",
       "| ⋮ | ⋮ | ⋮ | ⋮ | ⋮ | ⋮ | ⋮ |\n",
       "| 55 | 1820 | 38 | 270000 | 1.2 | 139 | Not Fatal |\n",
       "| 45 | 2413 | 38 | 140000 | 1.4 | 140 | Not Fatal |\n",
       "| 50 |  196 | 45 | 395000 | 1.6 | 136 | Not Fatal |\n",
       "\n"
      ],
      "text/plain": [
       "    age creatinine_phosphokinase ejection_fraction platelets serum_creatinine\n",
       "1   75   582                     20                265000    1.9             \n",
       "2   55  7861                     38                263358    1.1             \n",
       "3   50   111                     20                210000    1.9             \n",
       "⋮   ⋮   ⋮                        ⋮                 ⋮         ⋮               \n",
       "222 55  1820                     38                270000    1.2             \n",
       "223 45  2413                     38                140000    1.4             \n",
       "224 50   196                     45                395000    1.6             \n",
       "    serum_sodium DEATH_EVENT\n",
       "1   130          Fatal      \n",
       "2   136          Fatal      \n",
       "3   137          Fatal      \n",
       "⋮   ⋮            ⋮          \n",
       "222 139          Not Fatal  \n",
       "223 140          Not Fatal  \n",
       "224 136          Not Fatal  "
      ]
     },
     "metadata": {},
     "output_type": "display_data"
    },
    {
     "data": {
      "text/html": [
       "<table class=\"dataframe\">\n",
       "<caption>A tibble: 75 × 7</caption>\n",
       "<thead>\n",
       "\t<tr><th scope=col>age</th><th scope=col>creatinine_phosphokinase</th><th scope=col>ejection_fraction</th><th scope=col>platelets</th><th scope=col>serum_creatinine</th><th scope=col>serum_sodium</th><th scope=col>DEATH_EVENT</th></tr>\n",
       "\t<tr><th scope=col>&lt;dbl&gt;</th><th scope=col>&lt;dbl&gt;</th><th scope=col>&lt;dbl&gt;</th><th scope=col>&lt;dbl&gt;</th><th scope=col>&lt;dbl&gt;</th><th scope=col>&lt;dbl&gt;</th><th scope=col>&lt;fct&gt;</th></tr>\n",
       "</thead>\n",
       "<tbody>\n",
       "\t<tr><td>65</td><td>146</td><td>20</td><td>162000</td><td>1.3</td><td>129</td><td>Fatal    </td></tr>\n",
       "\t<tr><td>75</td><td> 81</td><td>38</td><td>368000</td><td>4.0</td><td>131</td><td>Fatal    </td></tr>\n",
       "\t<tr><td>49</td><td> 80</td><td>30</td><td>427000</td><td>1.0</td><td>138</td><td>Not Fatal</td></tr>\n",
       "\t<tr><td>⋮</td><td>⋮</td><td>⋮</td><td>⋮</td><td>⋮</td><td>⋮</td><td>⋮</td></tr>\n",
       "\t<tr><td>60</td><td> 320</td><td>35</td><td>133000</td><td>1.4</td><td>139</td><td>Not Fatal</td></tr>\n",
       "\t<tr><td>63</td><td> 103</td><td>35</td><td>179000</td><td>0.9</td><td>136</td><td>Not Fatal</td></tr>\n",
       "\t<tr><td>45</td><td>2060</td><td>60</td><td>742000</td><td>0.8</td><td>138</td><td>Not Fatal</td></tr>\n",
       "</tbody>\n",
       "</table>\n"
      ],
      "text/latex": [
       "A tibble: 75 × 7\n",
       "\\begin{tabular}{lllllll}\n",
       " age & creatinine\\_phosphokinase & ejection\\_fraction & platelets & serum\\_creatinine & serum\\_sodium & DEATH\\_EVENT\\\\\n",
       " <dbl> & <dbl> & <dbl> & <dbl> & <dbl> & <dbl> & <fct>\\\\\n",
       "\\hline\n",
       "\t 65 & 146 & 20 & 162000 & 1.3 & 129 & Fatal    \\\\\n",
       "\t 75 &  81 & 38 & 368000 & 4.0 & 131 & Fatal    \\\\\n",
       "\t 49 &  80 & 30 & 427000 & 1.0 & 138 & Not Fatal\\\\\n",
       "\t ⋮ & ⋮ & ⋮ & ⋮ & ⋮ & ⋮ & ⋮\\\\\n",
       "\t 60 &  320 & 35 & 133000 & 1.4 & 139 & Not Fatal\\\\\n",
       "\t 63 &  103 & 35 & 179000 & 0.9 & 136 & Not Fatal\\\\\n",
       "\t 45 & 2060 & 60 & 742000 & 0.8 & 138 & Not Fatal\\\\\n",
       "\\end{tabular}\n"
      ],
      "text/markdown": [
       "\n",
       "A tibble: 75 × 7\n",
       "\n",
       "| age &lt;dbl&gt; | creatinine_phosphokinase &lt;dbl&gt; | ejection_fraction &lt;dbl&gt; | platelets &lt;dbl&gt; | serum_creatinine &lt;dbl&gt; | serum_sodium &lt;dbl&gt; | DEATH_EVENT &lt;fct&gt; |\n",
       "|---|---|---|---|---|---|---|\n",
       "| 65 | 146 | 20 | 162000 | 1.3 | 129 | Fatal     |\n",
       "| 75 |  81 | 38 | 368000 | 4.0 | 131 | Fatal     |\n",
       "| 49 |  80 | 30 | 427000 | 1.0 | 138 | Not Fatal |\n",
       "| ⋮ | ⋮ | ⋮ | ⋮ | ⋮ | ⋮ | ⋮ |\n",
       "| 60 |  320 | 35 | 133000 | 1.4 | 139 | Not Fatal |\n",
       "| 63 |  103 | 35 | 179000 | 0.9 | 136 | Not Fatal |\n",
       "| 45 | 2060 | 60 | 742000 | 0.8 | 138 | Not Fatal |\n",
       "\n"
      ],
      "text/plain": [
       "   age creatinine_phosphokinase ejection_fraction platelets serum_creatinine\n",
       "1  65  146                      20                162000    1.3             \n",
       "2  75   81                      38                368000    4.0             \n",
       "3  49   80                      30                427000    1.0             \n",
       "⋮  ⋮   ⋮                        ⋮                 ⋮         ⋮               \n",
       "73 60   320                     35                133000    1.4             \n",
       "74 63   103                     35                179000    0.9             \n",
       "75 45  2060                     60                742000    0.8             \n",
       "   serum_sodium DEATH_EVENT\n",
       "1  129          Fatal      \n",
       "2  131          Fatal      \n",
       "3  138          Not Fatal  \n",
       "⋮  ⋮            ⋮          \n",
       "73 139          Not Fatal  \n",
       "74 136          Not Fatal  \n",
       "75 138          Not Fatal  "
      ]
     },
     "metadata": {},
     "output_type": "display_data"
    }
   ],
   "source": [
    "# Set the seed. Don't remove this!\n",
    "set.seed(3456)\n",
    "\n",
    "heart_data_split <- initial_split(heart_data, prop = 0.75, strata = DEATH_EVENT)  \n",
    "heart_data_train <- training(heart_data_split)   \n",
    "heart_data_test <- testing(heart_data_split)\n",
    "\n",
    "heart_data_train\n",
    "heart_data_test"
   ]
  },
  {
   "cell_type": "code",
   "execution_count": 6,
   "id": "5b70263e-011c-4e22-b215-0c40121f663e",
   "metadata": {},
   "outputs": [
    {
     "data": {
      "text/html": [
       "<table class=\"dataframe\">\n",
       "<caption>A tibble: 2 × 3</caption>\n",
       "<thead>\n",
       "\t<tr><th scope=col>DEATH_EVENT</th><th scope=col>n</th><th scope=col>percent</th></tr>\n",
       "\t<tr><th scope=col>&lt;fct&gt;</th><th scope=col>&lt;int&gt;</th><th scope=col>&lt;dbl&gt;</th></tr>\n",
       "</thead>\n",
       "<tbody>\n",
       "\t<tr><td>Fatal    </td><td> 72</td><td>32.14286</td></tr>\n",
       "\t<tr><td>Not Fatal</td><td>152</td><td>67.85714</td></tr>\n",
       "</tbody>\n",
       "</table>\n"
      ],
      "text/latex": [
       "A tibble: 2 × 3\n",
       "\\begin{tabular}{lll}\n",
       " DEATH\\_EVENT & n & percent\\\\\n",
       " <fct> & <int> & <dbl>\\\\\n",
       "\\hline\n",
       "\t Fatal     &  72 & 32.14286\\\\\n",
       "\t Not Fatal & 152 & 67.85714\\\\\n",
       "\\end{tabular}\n"
      ],
      "text/markdown": [
       "\n",
       "A tibble: 2 × 3\n",
       "\n",
       "| DEATH_EVENT &lt;fct&gt; | n &lt;int&gt; | percent &lt;dbl&gt; |\n",
       "|---|---|---|\n",
       "| Fatal     |  72 | 32.14286 |\n",
       "| Not Fatal | 152 | 67.85714 |\n",
       "\n"
      ],
      "text/plain": [
       "  DEATH_EVENT n   percent \n",
       "1 Fatal        72 32.14286\n",
       "2 Not Fatal   152 67.85714"
      ]
     },
     "metadata": {},
     "output_type": "display_data"
    }
   ],
   "source": [
    "heart_proportions <- heart_data_train |>\n",
    "                      group_by(DEATH_EVENT) |>\n",
    "                      summarize(n = n()) |>\n",
    "                      mutate(percent = 100*n/nrow(heart_data_train))\n",
    "\n",
    "heart_proportions"
   ]
  },
  {
   "cell_type": "markdown",
   "id": "b69e1ed5-06c2-4663-8141-7a5b999cebb5",
   "metadata": {},
   "source": [
    "## Evaluating accuracy of the classifier"
   ]
  },
  {
   "cell_type": "markdown",
   "id": "d272525a-ea1a-46ba-b1d5-1fc3c4c0776e",
   "metadata": {},
   "source": [
    "### Preprocessing the data\n",
    "We preprocess the data to standardize it and create `heart_recipe` using only the training data set. We set our target variable and also the variables which we want to use as predictors."
   ]
  },
  {
   "cell_type": "code",
   "execution_count": 7,
   "id": "c33670f7-8aef-4a4f-a16d-feb8eabe370f",
   "metadata": {},
   "outputs": [
    {
     "data": {
      "text/plain": [
       "Recipe\n",
       "\n",
       "Inputs:\n",
       "\n",
       "      role #variables\n",
       "   outcome          1\n",
       " predictor          2\n",
       "\n",
       "Operations:\n",
       "\n",
       "Scaling for all_predictors()\n",
       "Centering for all_predictors()"
      ]
     },
     "metadata": {},
     "output_type": "display_data"
    }
   ],
   "source": [
    "set.seed(2020) # DO NOT REMOVE\n",
    "\n",
    "heart_recipe <- recipe(DEATH_EVENT ~ ejection_fraction + age , data = heart_data_train) |>\n",
    "            step_scale(all_predictors()) |>\n",
    "            step_center(all_predictors())\n",
    "heart_recipe"
   ]
  },
  {
   "cell_type": "markdown",
   "id": "aee3eea6-f04a-4e9d-a328-f78fab73ffea",
   "metadata": {},
   "source": [
    "### Training the classifier\n",
    "\n",
    "We first create a model specification for the knn classification. We then build the classifier by combining the model specification and the recipe into a workflow and fit the model to our training data."
   ]
  },
  {
   "cell_type": "code",
   "execution_count": 8,
   "id": "14b8358d-466b-41ba-9990-3f4c0a45eb3f",
   "metadata": {},
   "outputs": [
    {
     "data": {
      "text/plain": [
       "══ Workflow [trained] ══════════════════════════════════════════════════════════\n",
       "\u001b[3mPreprocessor:\u001b[23m Recipe\n",
       "\u001b[3mModel:\u001b[23m nearest_neighbor()\n",
       "\n",
       "── Preprocessor ────────────────────────────────────────────────────────────────\n",
       "2 Recipe Steps\n",
       "\n",
       "• step_scale()\n",
       "• step_center()\n",
       "\n",
       "── Model ───────────────────────────────────────────────────────────────────────\n",
       "\n",
       "Call:\n",
       "kknn::train.kknn(formula = ..y ~ ., data = data, ks = min_rows(3,     data, 5), kernel = ~\"rectangular\")\n",
       "\n",
       "Type of response variable: nominal\n",
       "Minimal misclassification: 0.2633929\n",
       "Best kernel: rectangular\n",
       "Best k: 3"
      ]
     },
     "metadata": {},
     "output_type": "display_data"
    }
   ],
   "source": [
    "set.seed(2020) # DO NOT REMOVE\n",
    "\n",
    "knn_spec <- nearest_neighbor(weight_func = \"rectangular\", neighbors = 3) |>\n",
    "     set_engine(\"kknn\") |>\n",
    "     set_mode(\"classification\")\n",
    "\n",
    "knn_fit <- workflow() |>\n",
    "  add_recipe(heart_recipe) |>\n",
    "  add_model(knn_spec) |>\n",
    "  fit(data = heart_data_train)\n",
    "\n",
    "knn_fit"
   ]
  },
  {
   "cell_type": "markdown",
   "id": "2e8f019c-3599-437c-9e1a-ef4d0d90372f",
   "metadata": {},
   "source": [
    "### Predicting labels in the test set"
   ]
  },
  {
   "cell_type": "markdown",
   "id": "7054b032-4bc8-45fb-9e24-29b0ebd36d17",
   "metadata": {},
   "source": [
    "We use the classifier which we just created to predict the lables for our test data. The `DEATH_EVENT` column contains the true lables while the `.pred_class` columns contains the predictions."
   ]
  },
  {
   "cell_type": "code",
   "execution_count": 9,
   "id": "c59f580b-86b8-410f-ac65-f7ebf48ce5c9",
   "metadata": {},
   "outputs": [
    {
     "data": {
      "text/html": [
       "<table class=\"dataframe\">\n",
       "<caption>A tibble: 75 × 8</caption>\n",
       "<thead>\n",
       "\t<tr><th scope=col>.pred_class</th><th scope=col>age</th><th scope=col>creatinine_phosphokinase</th><th scope=col>ejection_fraction</th><th scope=col>platelets</th><th scope=col>serum_creatinine</th><th scope=col>serum_sodium</th><th scope=col>DEATH_EVENT</th></tr>\n",
       "\t<tr><th scope=col>&lt;fct&gt;</th><th scope=col>&lt;dbl&gt;</th><th scope=col>&lt;dbl&gt;</th><th scope=col>&lt;dbl&gt;</th><th scope=col>&lt;dbl&gt;</th><th scope=col>&lt;dbl&gt;</th><th scope=col>&lt;dbl&gt;</th><th scope=col>&lt;fct&gt;</th></tr>\n",
       "</thead>\n",
       "<tbody>\n",
       "\t<tr><td>Fatal    </td><td>65</td><td>146</td><td>20</td><td>162000</td><td>1.3</td><td>129</td><td>Fatal    </td></tr>\n",
       "\t<tr><td>Not Fatal</td><td>75</td><td> 81</td><td>38</td><td>368000</td><td>4.0</td><td>131</td><td>Fatal    </td></tr>\n",
       "\t<tr><td>Not Fatal</td><td>49</td><td> 80</td><td>30</td><td>427000</td><td>1.0</td><td>138</td><td>Not Fatal</td></tr>\n",
       "\t<tr><td>⋮</td><td>⋮</td><td>⋮</td><td>⋮</td><td>⋮</td><td>⋮</td><td>⋮</td><td>⋮</td></tr>\n",
       "\t<tr><td>Not Fatal</td><td>60</td><td> 320</td><td>35</td><td>133000</td><td>1.4</td><td>139</td><td>Not Fatal</td></tr>\n",
       "\t<tr><td>Not Fatal</td><td>63</td><td> 103</td><td>35</td><td>179000</td><td>0.9</td><td>136</td><td>Not Fatal</td></tr>\n",
       "\t<tr><td>Not Fatal</td><td>45</td><td>2060</td><td>60</td><td>742000</td><td>0.8</td><td>138</td><td>Not Fatal</td></tr>\n",
       "</tbody>\n",
       "</table>\n"
      ],
      "text/latex": [
       "A tibble: 75 × 8\n",
       "\\begin{tabular}{llllllll}\n",
       " .pred\\_class & age & creatinine\\_phosphokinase & ejection\\_fraction & platelets & serum\\_creatinine & serum\\_sodium & DEATH\\_EVENT\\\\\n",
       " <fct> & <dbl> & <dbl> & <dbl> & <dbl> & <dbl> & <dbl> & <fct>\\\\\n",
       "\\hline\n",
       "\t Fatal     & 65 & 146 & 20 & 162000 & 1.3 & 129 & Fatal    \\\\\n",
       "\t Not Fatal & 75 &  81 & 38 & 368000 & 4.0 & 131 & Fatal    \\\\\n",
       "\t Not Fatal & 49 &  80 & 30 & 427000 & 1.0 & 138 & Not Fatal\\\\\n",
       "\t ⋮ & ⋮ & ⋮ & ⋮ & ⋮ & ⋮ & ⋮ & ⋮\\\\\n",
       "\t Not Fatal & 60 &  320 & 35 & 133000 & 1.4 & 139 & Not Fatal\\\\\n",
       "\t Not Fatal & 63 &  103 & 35 & 179000 & 0.9 & 136 & Not Fatal\\\\\n",
       "\t Not Fatal & 45 & 2060 & 60 & 742000 & 0.8 & 138 & Not Fatal\\\\\n",
       "\\end{tabular}\n"
      ],
      "text/markdown": [
       "\n",
       "A tibble: 75 × 8\n",
       "\n",
       "| .pred_class &lt;fct&gt; | age &lt;dbl&gt; | creatinine_phosphokinase &lt;dbl&gt; | ejection_fraction &lt;dbl&gt; | platelets &lt;dbl&gt; | serum_creatinine &lt;dbl&gt; | serum_sodium &lt;dbl&gt; | DEATH_EVENT &lt;fct&gt; |\n",
       "|---|---|---|---|---|---|---|---|\n",
       "| Fatal     | 65 | 146 | 20 | 162000 | 1.3 | 129 | Fatal     |\n",
       "| Not Fatal | 75 |  81 | 38 | 368000 | 4.0 | 131 | Fatal     |\n",
       "| Not Fatal | 49 |  80 | 30 | 427000 | 1.0 | 138 | Not Fatal |\n",
       "| ⋮ | ⋮ | ⋮ | ⋮ | ⋮ | ⋮ | ⋮ | ⋮ |\n",
       "| Not Fatal | 60 |  320 | 35 | 133000 | 1.4 | 139 | Not Fatal |\n",
       "| Not Fatal | 63 |  103 | 35 | 179000 | 0.9 | 136 | Not Fatal |\n",
       "| Not Fatal | 45 | 2060 | 60 | 742000 | 0.8 | 138 | Not Fatal |\n",
       "\n"
      ],
      "text/plain": [
       "   .pred_class age creatinine_phosphokinase ejection_fraction platelets\n",
       "1  Fatal       65  146                      20                162000   \n",
       "2  Not Fatal   75   81                      38                368000   \n",
       "3  Not Fatal   49   80                      30                427000   \n",
       "⋮  ⋮           ⋮   ⋮                        ⋮                 ⋮        \n",
       "73 Not Fatal   60   320                     35                133000   \n",
       "74 Not Fatal   63   103                     35                179000   \n",
       "75 Not Fatal   45  2060                     60                742000   \n",
       "   serum_creatinine serum_sodium DEATH_EVENT\n",
       "1  1.3              129          Fatal      \n",
       "2  4.0              131          Fatal      \n",
       "3  1.0              138          Not Fatal  \n",
       "⋮  ⋮                ⋮            ⋮          \n",
       "73 1.4              139          Not Fatal  \n",
       "74 0.9              136          Not Fatal  \n",
       "75 0.8              138          Not Fatal  "
      ]
     },
     "metadata": {},
     "output_type": "display_data"
    }
   ],
   "source": [
    "set.seed(2020) # DO NOT REMOVE\n",
    "\n",
    "heart_test_predictions <- predict(knn_fit, heart_data_test) |>\n",
    "  bind_cols(heart_data_test)\n",
    "\n",
    "heart_test_predictions\n"
   ]
  },
  {
   "cell_type": "markdown",
   "id": "ce018883-25e6-41a7-967a-a82ab977ee10",
   "metadata": {},
   "source": [
    "## Compute the accuracy"
   ]
  },
  {
   "cell_type": "markdown",
   "id": "191446cf-9020-4cac-82ca-3c41efc7a368",
   "metadata": {},
   "source": [
    "Finally, we can access the classifiers accuracy using the metrics function.\n",
    "\n",
    "We can also look at the confusion matrix for the classifier which shows the table of predicted lables and true lables."
   ]
  },
  {
   "cell_type": "code",
   "execution_count": 10,
   "id": "ab47d1b6-25aa-454e-b5dd-6b3549445353",
   "metadata": {},
   "outputs": [
    {
     "data": {
      "text/html": [
       "<table class=\"dataframe\">\n",
       "<caption>A tibble: 1 × 3</caption>\n",
       "<thead>\n",
       "\t<tr><th scope=col>.metric</th><th scope=col>.estimator</th><th scope=col>.estimate</th></tr>\n",
       "\t<tr><th scope=col>&lt;chr&gt;</th><th scope=col>&lt;chr&gt;</th><th scope=col>&lt;dbl&gt;</th></tr>\n",
       "</thead>\n",
       "<tbody>\n",
       "\t<tr><td>accuracy</td><td>binary</td><td>0.7333333</td></tr>\n",
       "</tbody>\n",
       "</table>\n"
      ],
      "text/latex": [
       "A tibble: 1 × 3\n",
       "\\begin{tabular}{lll}\n",
       " .metric & .estimator & .estimate\\\\\n",
       " <chr> & <chr> & <dbl>\\\\\n",
       "\\hline\n",
       "\t accuracy & binary & 0.7333333\\\\\n",
       "\\end{tabular}\n"
      ],
      "text/markdown": [
       "\n",
       "A tibble: 1 × 3\n",
       "\n",
       "| .metric &lt;chr&gt; | .estimator &lt;chr&gt; | .estimate &lt;dbl&gt; |\n",
       "|---|---|---|\n",
       "| accuracy | binary | 0.7333333 |\n",
       "\n"
      ],
      "text/plain": [
       "  .metric  .estimator .estimate\n",
       "1 accuracy binary     0.7333333"
      ]
     },
     "metadata": {},
     "output_type": "display_data"
    },
    {
     "data": {
      "text/plain": [
       "           Truth\n",
       "Prediction  Fatal Not Fatal\n",
       "  Fatal        12         8\n",
       "  Not Fatal    12        43"
      ]
     },
     "metadata": {},
     "output_type": "display_data"
    }
   ],
   "source": [
    "set.seed(2020) # DO NOT REMOVE\n",
    "\n",
    "heart_test_predictions |>\n",
    "  metrics(truth = DEATH_EVENT, estimate = .pred_class) |>\n",
    "  filter(.metric == \"accuracy\")\n",
    "\n",
    "confusion <- heart_test_predictions |>\n",
    "             conf_mat(truth = DEATH_EVENT, estimate = .pred_class)\n",
    "confusion"
   ]
  },
  {
   "cell_type": "markdown",
   "id": "58ecaaf9-93ff-4b27-9e77-af40b35776b0",
   "metadata": {},
   "source": [
    "We can see that our classifier has the accuracy of around 73% and that it predicted 12 lables corectly as Fatal and 43 lables correctly as Not Fatal."
   ]
  },
  {
   "cell_type": "markdown",
   "id": "61c605ff-c017-47e8-8073-5e2d7e49178b",
   "metadata": {},
   "source": [
    "## Tuning the classifier"
   ]
  },
  {
   "cell_type": "markdown",
   "id": "f972c427-db75-4044-a2b0-4b3772fdbe18",
   "metadata": {},
   "source": [
    "### Cross validation\n",
    "We will now perform a 5 fold cross validation where we split our training dataset into c evenly sized chunks and then iteratively use 1 chunk as the validation set for evaluation and the remaining c-1 chunks as the training sets.\n",
    "\n",
    "Here, we will set c to be 5 and perform a 5 fold cross-validation."
   ]
  },
  {
   "cell_type": "code",
   "execution_count": 11,
   "id": "69f7b7c9-bfa2-47f2-b279-402a0f4af2c7",
   "metadata": {},
   "outputs": [],
   "source": [
    "set.seed(2020) # DO NOT REMOVE\n",
    "\n",
    "heart_vfold <- vfold_cv(heart_data_train, v = 5, strata = DEATH_EVENT)\n"
   ]
  },
  {
   "cell_type": "markdown",
   "id": "86d0cd73-3032-4fd5-83bd-d3e333298477",
   "metadata": {},
   "source": [
    "Then we will create our data analysis workflow."
   ]
  },
  {
   "cell_type": "code",
   "execution_count": 12,
   "id": "e47bdb25-6511-4e9e-9c4a-9763f938afa1",
   "metadata": {},
   "outputs": [
    {
     "data": {
      "text/html": [
       "<table class=\"dataframe\">\n",
       "<caption>A tibble: 2 × 6</caption>\n",
       "<thead>\n",
       "\t<tr><th scope=col>.metric</th><th scope=col>.estimator</th><th scope=col>mean</th><th scope=col>n</th><th scope=col>std_err</th><th scope=col>.config</th></tr>\n",
       "\t<tr><th scope=col>&lt;chr&gt;</th><th scope=col>&lt;chr&gt;</th><th scope=col>&lt;dbl&gt;</th><th scope=col>&lt;int&gt;</th><th scope=col>&lt;dbl&gt;</th><th scope=col>&lt;chr&gt;</th></tr>\n",
       "</thead>\n",
       "<tbody>\n",
       "\t<tr><td>accuracy</td><td>binary</td><td>0.6881423</td><td>5</td><td>0.01958068</td><td>Preprocessor1_Model1</td></tr>\n",
       "\t<tr><td>roc_auc </td><td>binary</td><td>0.6680184</td><td>5</td><td>0.04778481</td><td>Preprocessor1_Model1</td></tr>\n",
       "</tbody>\n",
       "</table>\n"
      ],
      "text/latex": [
       "A tibble: 2 × 6\n",
       "\\begin{tabular}{llllll}\n",
       " .metric & .estimator & mean & n & std\\_err & .config\\\\\n",
       " <chr> & <chr> & <dbl> & <int> & <dbl> & <chr>\\\\\n",
       "\\hline\n",
       "\t accuracy & binary & 0.6881423 & 5 & 0.01958068 & Preprocessor1\\_Model1\\\\\n",
       "\t roc\\_auc  & binary & 0.6680184 & 5 & 0.04778481 & Preprocessor1\\_Model1\\\\\n",
       "\\end{tabular}\n"
      ],
      "text/markdown": [
       "\n",
       "A tibble: 2 × 6\n",
       "\n",
       "| .metric &lt;chr&gt; | .estimator &lt;chr&gt; | mean &lt;dbl&gt; | n &lt;int&gt; | std_err &lt;dbl&gt; | .config &lt;chr&gt; |\n",
       "|---|---|---|---|---|---|\n",
       "| accuracy | binary | 0.6881423 | 5 | 0.01958068 | Preprocessor1_Model1 |\n",
       "| roc_auc  | binary | 0.6680184 | 5 | 0.04778481 | Preprocessor1_Model1 |\n",
       "\n"
      ],
      "text/plain": [
       "  .metric  .estimator mean      n std_err    .config             \n",
       "1 accuracy binary     0.6881423 5 0.01958068 Preprocessor1_Model1\n",
       "2 roc_auc  binary     0.6680184 5 0.04778481 Preprocessor1_Model1"
      ]
     },
     "metadata": {},
     "output_type": "display_data"
    }
   ],
   "source": [
    "set.seed(2020) # DO NOT REMOVE\n",
    "\n",
    "heart_recipe <- recipe(DEATH_EVENT ~ ejection_fraction + serum_creatinine + \n",
    "                       serum_sodium + age , data = heart_data_train) |>\n",
    "            step_scale(all_predictors()) |>\n",
    "            step_center(all_predictors())\n",
    "\n",
    "\n",
    "# fit the knn model (we can reuse the old knn_spec model from before)\n",
    "knn_fit <- workflow() |>\n",
    "  add_recipe(heart_recipe) |>\n",
    "  add_model(knn_spec) |>\n",
    "  fit_resamples(resamples = heart_vfold)\n",
    "\n",
    "knn_fit |> \n",
    "  collect_metrics() "
   ]
  },
  {
   "cell_type": "markdown",
   "id": "7fbf8581-25fc-4715-9eeb-fc1a52488b6b",
   "metadata": {},
   "source": [
    "### Paramter value selection\n",
    "With cross-validation, we have established a prediction accuracy for our classifier. \n",
    "\n",
    "If we had to improve our classifier, we have to change the parameter: number of neighbours, $K$. \n",
    "We can use cross-validation to calculate an accuracy for each value of $K$ in a reasonable range, and then pick the value of $K$ that gives us the best accuracy. \n",
    "\n",
    "Using `tune()`, each parameter in the model can be adjusted rather than given a specific value. \n"
   ]
  },
  {
   "cell_type": "code",
   "execution_count": 13,
   "id": "fa46a2a0-f8fa-4726-bdfd-ea37b4701d5c",
   "metadata": {},
   "outputs": [
    {
     "data": {
      "text/plain": [
       "K-Nearest Neighbor Model Specification (classification)\n",
       "\n",
       "Main Arguments:\n",
       "  neighbors = tune()\n",
       "  weight_func = rectangular\n",
       "\n",
       "Computational engine: kknn \n"
      ]
     },
     "metadata": {},
     "output_type": "display_data"
    }
   ],
   "source": [
    "set.seed(2020) # DO NOT REMOVE\n",
    "\n",
    "knn_tune <- nearest_neighbor(weight_func = \"rectangular\", \n",
    "                             neighbors = tune()) |>\n",
    "      set_engine(\"kknn\") |>\n",
    "      set_mode(\"classification\")\n",
    "knn_tune"
   ]
  },
  {
   "cell_type": "markdown",
   "id": "d1edd29b-8be2-492f-be53-2f6827ff50ea",
   "metadata": {},
   "source": [
    " "
   ]
  },
  {
   "cell_type": "markdown",
   "id": "23cb5263-0ca3-4b35-9ec6-0cca3fad3a2c",
   "metadata": {},
   "source": [
    "We then create a workflow analysis which combines our `heart_recipe` and our new `knn_tune` model specification. \n",
    "\n",
    "We use the `tune_grid` function to fit the model for each value in a range of parameter values.\n",
    "We then aggregate the mean and standard error by using the `collect_metrics` function.\n",
    "\n",
    "Finally, we filter for `accuracy` from the `.metric` column of `knn_results`."
   ]
  },
  {
   "cell_type": "code",
   "execution_count": 14,
   "id": "1535ffbc-7e39-407c-bfb7-63061e167d8e",
   "metadata": {},
   "outputs": [
    {
     "data": {
      "text/html": [
       "<table class=\"dataframe\">\n",
       "<caption>A tibble: 20 × 7</caption>\n",
       "<thead>\n",
       "\t<tr><th scope=col>neighbors</th><th scope=col>.metric</th><th scope=col>.estimator</th><th scope=col>mean</th><th scope=col>n</th><th scope=col>std_err</th><th scope=col>.config</th></tr>\n",
       "\t<tr><th scope=col>&lt;dbl&gt;</th><th scope=col>&lt;chr&gt;</th><th scope=col>&lt;chr&gt;</th><th scope=col>&lt;dbl&gt;</th><th scope=col>&lt;int&gt;</th><th scope=col>&lt;dbl&gt;</th><th scope=col>&lt;chr&gt;</th></tr>\n",
       "</thead>\n",
       "<tbody>\n",
       "\t<tr><td> 1</td><td>accuracy</td><td>binary</td><td>0.6440711</td><td>5</td><td>0.04032105</td><td>Preprocessor1_Model01</td></tr>\n",
       "\t<tr><td> 6</td><td>accuracy</td><td>binary</td><td>0.6924901</td><td>5</td><td>0.02137998</td><td>Preprocessor1_Model02</td></tr>\n",
       "\t<tr><td>11</td><td>accuracy</td><td>binary</td><td>0.7411067</td><td>5</td><td>0.01761279</td><td>Preprocessor1_Model03</td></tr>\n",
       "\t<tr><td>⋮</td><td>⋮</td><td>⋮</td><td>⋮</td><td>⋮</td><td>⋮</td><td>⋮</td></tr>\n",
       "\t<tr><td>86</td><td>accuracy</td><td>binary</td><td>0.6786561</td><td>5</td><td>0.001936356</td><td>Preprocessor1_Model18</td></tr>\n",
       "\t<tr><td>91</td><td>accuracy</td><td>binary</td><td>0.6786561</td><td>5</td><td>0.001936356</td><td>Preprocessor1_Model19</td></tr>\n",
       "\t<tr><td>96</td><td>accuracy</td><td>binary</td><td>0.6786561</td><td>5</td><td>0.001936356</td><td>Preprocessor1_Model20</td></tr>\n",
       "</tbody>\n",
       "</table>\n"
      ],
      "text/latex": [
       "A tibble: 20 × 7\n",
       "\\begin{tabular}{lllllll}\n",
       " neighbors & .metric & .estimator & mean & n & std\\_err & .config\\\\\n",
       " <dbl> & <chr> & <chr> & <dbl> & <int> & <dbl> & <chr>\\\\\n",
       "\\hline\n",
       "\t  1 & accuracy & binary & 0.6440711 & 5 & 0.04032105 & Preprocessor1\\_Model01\\\\\n",
       "\t  6 & accuracy & binary & 0.6924901 & 5 & 0.02137998 & Preprocessor1\\_Model02\\\\\n",
       "\t 11 & accuracy & binary & 0.7411067 & 5 & 0.01761279 & Preprocessor1\\_Model03\\\\\n",
       "\t ⋮ & ⋮ & ⋮ & ⋮ & ⋮ & ⋮ & ⋮\\\\\n",
       "\t 86 & accuracy & binary & 0.6786561 & 5 & 0.001936356 & Preprocessor1\\_Model18\\\\\n",
       "\t 91 & accuracy & binary & 0.6786561 & 5 & 0.001936356 & Preprocessor1\\_Model19\\\\\n",
       "\t 96 & accuracy & binary & 0.6786561 & 5 & 0.001936356 & Preprocessor1\\_Model20\\\\\n",
       "\\end{tabular}\n"
      ],
      "text/markdown": [
       "\n",
       "A tibble: 20 × 7\n",
       "\n",
       "| neighbors &lt;dbl&gt; | .metric &lt;chr&gt; | .estimator &lt;chr&gt; | mean &lt;dbl&gt; | n &lt;int&gt; | std_err &lt;dbl&gt; | .config &lt;chr&gt; |\n",
       "|---|---|---|---|---|---|---|\n",
       "|  1 | accuracy | binary | 0.6440711 | 5 | 0.04032105 | Preprocessor1_Model01 |\n",
       "|  6 | accuracy | binary | 0.6924901 | 5 | 0.02137998 | Preprocessor1_Model02 |\n",
       "| 11 | accuracy | binary | 0.7411067 | 5 | 0.01761279 | Preprocessor1_Model03 |\n",
       "| ⋮ | ⋮ | ⋮ | ⋮ | ⋮ | ⋮ | ⋮ |\n",
       "| 86 | accuracy | binary | 0.6786561 | 5 | 0.001936356 | Preprocessor1_Model18 |\n",
       "| 91 | accuracy | binary | 0.6786561 | 5 | 0.001936356 | Preprocessor1_Model19 |\n",
       "| 96 | accuracy | binary | 0.6786561 | 5 | 0.001936356 | Preprocessor1_Model20 |\n",
       "\n"
      ],
      "text/plain": [
       "   neighbors .metric  .estimator mean      n std_err     .config              \n",
       "1   1        accuracy binary     0.6440711 5 0.04032105  Preprocessor1_Model01\n",
       "2   6        accuracy binary     0.6924901 5 0.02137998  Preprocessor1_Model02\n",
       "3  11        accuracy binary     0.7411067 5 0.01761279  Preprocessor1_Model03\n",
       "⋮  ⋮         ⋮        ⋮          ⋮         ⋮ ⋮           ⋮                    \n",
       "18 86        accuracy binary     0.6786561 5 0.001936356 Preprocessor1_Model18\n",
       "19 91        accuracy binary     0.6786561 5 0.001936356 Preprocessor1_Model19\n",
       "20 96        accuracy binary     0.6786561 5 0.001936356 Preprocessor1_Model20"
      ]
     },
     "metadata": {},
     "output_type": "display_data"
    }
   ],
   "source": [
    "set.seed(2020) # DO NOT REMOVE\n",
    "\n",
    "k_vals <- tibble(neighbors = seq(from = 1, to = 100, by = 5))\n",
    "\n",
    "knn_results <- workflow() |>\n",
    "  add_recipe(heart_recipe) |>\n",
    "  add_model(knn_tune) |>\n",
    "  tune_grid(resamples = heart_vfold, grid = k_vals) |>\n",
    "  collect_metrics() \n",
    "\n",
    "accuracies <- knn_results |>\n",
    "  filter(.metric == \"accuracy\") \n",
    "    #filter(mean==max(mean))\n",
    "\n",
    "accuracies"
   ]
  },
  {
   "cell_type": "markdown",
   "id": "2334c7c2-0a74-48c0-82cb-6945fe1df487",
   "metadata": {},
   "source": [
    "To find the best value of the number of neighboors, \n",
    "\n",
    "we create a line plot using the `accuracies` dataset with `neighbors` on the x-axis and the `mean` on the y-axis. "
   ]
  },
  {
   "cell_type": "code",
   "execution_count": 15,
   "id": "29ffece2-bc17-4b0c-856d-e78892de7632",
   "metadata": {},
   "outputs": [
    {
     "data": {
      "image/png": "[encoded data removed]",
      "text/plain": [
       "plot without title"
      ]
     },
     "metadata": {
      "image/png": {
       "height": 420,
       "width": 420
      }
     },
     "output_type": "display_data"
    }
   ],
   "source": [
    "accuracy_vs_k <- ggplot(accuracies, aes(x = neighbors, y = mean)) +\n",
    "  geom_point() +\n",
    "  geom_line() +\n",
    "  labs(x = \"Neighbors\", y = \"Accuracy Estimate\") + \n",
    "  theme(text = element_text(size = 12))\n",
    "\n",
    "accuracy_vs_k"
   ]
  },
  {
   "cell_type": "markdown",
   "id": "64c93c25-c60c-4e59-8afc-8ea7a564fb12",
   "metadata": {},
   "source": [
    "From the plot above, we can see that $K = 21$ provides the highest accuracy. Larger $K$ values result in a reduced accuracy estimate. \n",
    "\n",
    "Remember: the values you see on this plot are estimates of the true accuracy of our classifier. Although the $K = 2$, $3$ or $4$ value is higher than the others on this plot, that doesn’t mean the classifier is necessarily more accurate with this parameter value! "
   ]
  },
  {
   "cell_type": "code",
   "execution_count": 16,
   "id": "deab864f-3646-4d4e-81e2-7bf4464b4197",
   "metadata": {},
   "outputs": [
    {
     "data": {
      "text/html": [
       "<table class=\"dataframe\">\n",
       "<caption>A tibble: 168 × 7</caption>\n",
       "<thead>\n",
       "\t<tr><th scope=col>age</th><th scope=col>creatinine_phosphokinase</th><th scope=col>ejection_fraction</th><th scope=col>platelets</th><th scope=col>serum_creatinine</th><th scope=col>serum_sodium</th><th scope=col>DEATH_EVENT</th></tr>\n",
       "\t<tr><th scope=col>&lt;dbl&gt;</th><th scope=col>&lt;dbl&gt;</th><th scope=col>&lt;dbl&gt;</th><th scope=col>&lt;dbl&gt;</th><th scope=col>&lt;dbl&gt;</th><th scope=col>&lt;dbl&gt;</th><th scope=col>&lt;fct&gt;</th></tr>\n",
       "</thead>\n",
       "<tbody>\n",
       "\t<tr><td>75</td><td> 582</td><td>20</td><td>265000</td><td>1.9</td><td>130</td><td>Fatal</td></tr>\n",
       "\t<tr><td>55</td><td>7861</td><td>38</td><td>263358</td><td>1.1</td><td>136</td><td>Fatal</td></tr>\n",
       "\t<tr><td>50</td><td> 111</td><td>20</td><td>210000</td><td>1.9</td><td>137</td><td>Fatal</td></tr>\n",
       "\t<tr><td>⋮</td><td>⋮</td><td>⋮</td><td>⋮</td><td>⋮</td><td>⋮</td><td>⋮</td></tr>\n",
       "\t<tr><td>62</td><td>  61</td><td>38</td><td>155000</td><td>1.1</td><td>143</td><td>Not Fatal</td></tr>\n",
       "\t<tr><td>45</td><td>2413</td><td>38</td><td>140000</td><td>1.4</td><td>140</td><td>Not Fatal</td></tr>\n",
       "\t<tr><td>50</td><td> 196</td><td>45</td><td>395000</td><td>1.6</td><td>136</td><td>Not Fatal</td></tr>\n",
       "</tbody>\n",
       "</table>\n"
      ],
      "text/latex": [
       "A tibble: 168 × 7\n",
       "\\begin{tabular}{lllllll}\n",
       " age & creatinine\\_phosphokinase & ejection\\_fraction & platelets & serum\\_creatinine & serum\\_sodium & DEATH\\_EVENT\\\\\n",
       " <dbl> & <dbl> & <dbl> & <dbl> & <dbl> & <dbl> & <fct>\\\\\n",
       "\\hline\n",
       "\t 75 &  582 & 20 & 265000 & 1.9 & 130 & Fatal\\\\\n",
       "\t 55 & 7861 & 38 & 263358 & 1.1 & 136 & Fatal\\\\\n",
       "\t 50 &  111 & 20 & 210000 & 1.9 & 137 & Fatal\\\\\n",
       "\t ⋮ & ⋮ & ⋮ & ⋮ & ⋮ & ⋮ & ⋮\\\\\n",
       "\t 62 &   61 & 38 & 155000 & 1.1 & 143 & Not Fatal\\\\\n",
       "\t 45 & 2413 & 38 & 140000 & 1.4 & 140 & Not Fatal\\\\\n",
       "\t 50 &  196 & 45 & 395000 & 1.6 & 136 & Not Fatal\\\\\n",
       "\\end{tabular}\n"
      ],
      "text/markdown": [
       "\n",
       "A tibble: 168 × 7\n",
       "\n",
       "| age &lt;dbl&gt; | creatinine_phosphokinase &lt;dbl&gt; | ejection_fraction &lt;dbl&gt; | platelets &lt;dbl&gt; | serum_creatinine &lt;dbl&gt; | serum_sodium &lt;dbl&gt; | DEATH_EVENT &lt;fct&gt; |\n",
       "|---|---|---|---|---|---|---|\n",
       "| 75 |  582 | 20 | 265000 | 1.9 | 130 | Fatal |\n",
       "| 55 | 7861 | 38 | 263358 | 1.1 | 136 | Fatal |\n",
       "| 50 |  111 | 20 | 210000 | 1.9 | 137 | Fatal |\n",
       "| ⋮ | ⋮ | ⋮ | ⋮ | ⋮ | ⋮ | ⋮ |\n",
       "| 62 |   61 | 38 | 155000 | 1.1 | 143 | Not Fatal |\n",
       "| 45 | 2413 | 38 | 140000 | 1.4 | 140 | Not Fatal |\n",
       "| 50 |  196 | 45 | 395000 | 1.6 | 136 | Not Fatal |\n",
       "\n"
      ],
      "text/plain": [
       "    age creatinine_phosphokinase ejection_fraction platelets serum_creatinine\n",
       "1   75   582                     20                265000    1.9             \n",
       "2   55  7861                     38                263358    1.1             \n",
       "3   50   111                     20                210000    1.9             \n",
       "⋮   ⋮   ⋮                        ⋮                 ⋮         ⋮               \n",
       "166 62    61                     38                155000    1.1             \n",
       "167 45  2413                     38                140000    1.4             \n",
       "168 50   196                     45                395000    1.6             \n",
       "    serum_sodium DEATH_EVENT\n",
       "1   130          Fatal      \n",
       "2   136          Fatal      \n",
       "3   137          Fatal      \n",
       "⋮   ⋮            ⋮          \n",
       "166 143          Not Fatal  \n",
       "167 140          Not Fatal  \n",
       "168 136          Not Fatal  "
      ]
     },
     "metadata": {},
     "output_type": "display_data"
    },
    {
     "data": {
      "text/html": [
       "<table class=\"dataframe\">\n",
       "<caption>A tibble: 56 × 7</caption>\n",
       "<thead>\n",
       "\t<tr><th scope=col>age</th><th scope=col>creatinine_phosphokinase</th><th scope=col>ejection_fraction</th><th scope=col>platelets</th><th scope=col>serum_creatinine</th><th scope=col>serum_sodium</th><th scope=col>DEATH_EVENT</th></tr>\n",
       "\t<tr><th scope=col>&lt;dbl&gt;</th><th scope=col>&lt;dbl&gt;</th><th scope=col>&lt;dbl&gt;</th><th scope=col>&lt;dbl&gt;</th><th scope=col>&lt;dbl&gt;</th><th scope=col>&lt;dbl&gt;</th><th scope=col>&lt;fct&gt;</th></tr>\n",
       "</thead>\n",
       "<tbody>\n",
       "\t<tr><td>80</td><td>123</td><td>35</td><td>388000</td><td>9.4</td><td>133</td><td>Fatal</td></tr>\n",
       "\t<tr><td>50</td><td>168</td><td>38</td><td>276000</td><td>1.1</td><td>137</td><td>Fatal</td></tr>\n",
       "\t<tr><td>45</td><td>582</td><td>14</td><td>166000</td><td>0.8</td><td>127</td><td>Fatal</td></tr>\n",
       "\t<tr><td>⋮</td><td>⋮</td><td>⋮</td><td>⋮</td><td>⋮</td><td>⋮</td><td>⋮</td></tr>\n",
       "\t<tr><td>70</td><td> 582</td><td>40</td><td> 51000</td><td>2.7</td><td>136</td><td>Not Fatal</td></tr>\n",
       "\t<tr><td>45</td><td> 615</td><td>55</td><td>222000</td><td>0.8</td><td>141</td><td>Not Fatal</td></tr>\n",
       "\t<tr><td>55</td><td>1820</td><td>38</td><td>270000</td><td>1.2</td><td>139</td><td>Not Fatal</td></tr>\n",
       "</tbody>\n",
       "</table>\n"
      ],
      "text/latex": [
       "A tibble: 56 × 7\n",
       "\\begin{tabular}{lllllll}\n",
       " age & creatinine\\_phosphokinase & ejection\\_fraction & platelets & serum\\_creatinine & serum\\_sodium & DEATH\\_EVENT\\\\\n",
       " <dbl> & <dbl> & <dbl> & <dbl> & <dbl> & <dbl> & <fct>\\\\\n",
       "\\hline\n",
       "\t 80 & 123 & 35 & 388000 & 9.4 & 133 & Fatal\\\\\n",
       "\t 50 & 168 & 38 & 276000 & 1.1 & 137 & Fatal\\\\\n",
       "\t 45 & 582 & 14 & 166000 & 0.8 & 127 & Fatal\\\\\n",
       "\t ⋮ & ⋮ & ⋮ & ⋮ & ⋮ & ⋮ & ⋮\\\\\n",
       "\t 70 &  582 & 40 &  51000 & 2.7 & 136 & Not Fatal\\\\\n",
       "\t 45 &  615 & 55 & 222000 & 0.8 & 141 & Not Fatal\\\\\n",
       "\t 55 & 1820 & 38 & 270000 & 1.2 & 139 & Not Fatal\\\\\n",
       "\\end{tabular}\n"
      ],
      "text/markdown": [
       "\n",
       "A tibble: 56 × 7\n",
       "\n",
       "| age &lt;dbl&gt; | creatinine_phosphokinase &lt;dbl&gt; | ejection_fraction &lt;dbl&gt; | platelets &lt;dbl&gt; | serum_creatinine &lt;dbl&gt; | serum_sodium &lt;dbl&gt; | DEATH_EVENT &lt;fct&gt; |\n",
       "|---|---|---|---|---|---|---|\n",
       "| 80 | 123 | 35 | 388000 | 9.4 | 133 | Fatal |\n",
       "| 50 | 168 | 38 | 276000 | 1.1 | 137 | Fatal |\n",
       "| 45 | 582 | 14 | 166000 | 0.8 | 127 | Fatal |\n",
       "| ⋮ | ⋮ | ⋮ | ⋮ | ⋮ | ⋮ | ⋮ |\n",
       "| 70 |  582 | 40 |  51000 | 2.7 | 136 | Not Fatal |\n",
       "| 45 |  615 | 55 | 222000 | 0.8 | 141 | Not Fatal |\n",
       "| 55 | 1820 | 38 | 270000 | 1.2 | 139 | Not Fatal |\n",
       "\n"
      ],
      "text/plain": [
       "   age creatinine_phosphokinase ejection_fraction platelets serum_creatinine\n",
       "1  80  123                      35                388000    9.4             \n",
       "2  50  168                      38                276000    1.1             \n",
       "3  45  582                      14                166000    0.8             \n",
       "⋮  ⋮   ⋮                        ⋮                 ⋮         ⋮               \n",
       "54 70   582                     40                 51000    2.7             \n",
       "55 45   615                     55                222000    0.8             \n",
       "56 55  1820                     38                270000    1.2             \n",
       "   serum_sodium DEATH_EVENT\n",
       "1  133          Fatal      \n",
       "2  137          Fatal      \n",
       "3  127          Fatal      \n",
       "⋮  ⋮            ⋮          \n",
       "54 136          Not Fatal  \n",
       "55 141          Not Fatal  \n",
       "56 139          Not Fatal  "
      ]
     },
     "metadata": {},
     "output_type": "display_data"
    }
   ],
   "source": [
    "#!!!!!!\n",
    "heart_split <- initial_split(heart_data_train, prop = 0.75, strata = DEATH_EVENT)  \n",
    "heart_subtrain <- training(heart_split)   \n",
    "heart_validation <- testing(heart_split)\n",
    "\n",
    "heart_subtrain \n",
    "heart_validation\n",
    "#!!!!!!"
   ]
  },
  {
   "cell_type": "code",
   "execution_count": 17,
   "id": "aaf5be98-ce97-4706-a15b-1eb8b8d57b78",
   "metadata": {},
   "outputs": [
    {
     "data": {
      "text/html": [
       "<table class=\"dataframe\">\n",
       "<caption>A tibble: 168 × 5</caption>\n",
       "<thead>\n",
       "\t<tr><th scope=col>age</th><th scope=col>ejection_fraction</th><th scope=col>serum_creatinine</th><th scope=col>serum_sodium</th><th scope=col>DEATH_EVENT</th></tr>\n",
       "\t<tr><th scope=col>&lt;dbl&gt;</th><th scope=col>&lt;dbl&gt;</th><th scope=col>&lt;dbl&gt;</th><th scope=col>&lt;dbl&gt;</th><th scope=col>&lt;fct&gt;</th></tr>\n",
       "</thead>\n",
       "<tbody>\n",
       "\t<tr><td>75</td><td>20</td><td>1.9</td><td>130</td><td>Fatal</td></tr>\n",
       "\t<tr><td>55</td><td>38</td><td>1.1</td><td>136</td><td>Fatal</td></tr>\n",
       "\t<tr><td>50</td><td>20</td><td>1.9</td><td>137</td><td>Fatal</td></tr>\n",
       "\t<tr><td>⋮</td><td>⋮</td><td>⋮</td><td>⋮</td><td>⋮</td></tr>\n",
       "\t<tr><td>62</td><td>38</td><td>1.1</td><td>143</td><td>Not Fatal</td></tr>\n",
       "\t<tr><td>45</td><td>38</td><td>1.4</td><td>140</td><td>Not Fatal</td></tr>\n",
       "\t<tr><td>50</td><td>45</td><td>1.6</td><td>136</td><td>Not Fatal</td></tr>\n",
       "</tbody>\n",
       "</table>\n"
      ],
      "text/latex": [
       "A tibble: 168 × 5\n",
       "\\begin{tabular}{lllll}\n",
       " age & ejection\\_fraction & serum\\_creatinine & serum\\_sodium & DEATH\\_EVENT\\\\\n",
       " <dbl> & <dbl> & <dbl> & <dbl> & <fct>\\\\\n",
       "\\hline\n",
       "\t 75 & 20 & 1.9 & 130 & Fatal\\\\\n",
       "\t 55 & 38 & 1.1 & 136 & Fatal\\\\\n",
       "\t 50 & 20 & 1.9 & 137 & Fatal\\\\\n",
       "\t ⋮ & ⋮ & ⋮ & ⋮ & ⋮\\\\\n",
       "\t 62 & 38 & 1.1 & 143 & Not Fatal\\\\\n",
       "\t 45 & 38 & 1.4 & 140 & Not Fatal\\\\\n",
       "\t 50 & 45 & 1.6 & 136 & Not Fatal\\\\\n",
       "\\end{tabular}\n"
      ],
      "text/markdown": [
       "\n",
       "A tibble: 168 × 5\n",
       "\n",
       "| age &lt;dbl&gt; | ejection_fraction &lt;dbl&gt; | serum_creatinine &lt;dbl&gt; | serum_sodium &lt;dbl&gt; | DEATH_EVENT &lt;fct&gt; |\n",
       "|---|---|---|---|---|\n",
       "| 75 | 20 | 1.9 | 130 | Fatal |\n",
       "| 55 | 38 | 1.1 | 136 | Fatal |\n",
       "| 50 | 20 | 1.9 | 137 | Fatal |\n",
       "| ⋮ | ⋮ | ⋮ | ⋮ | ⋮ |\n",
       "| 62 | 38 | 1.1 | 143 | Not Fatal |\n",
       "| 45 | 38 | 1.4 | 140 | Not Fatal |\n",
       "| 50 | 45 | 1.6 | 136 | Not Fatal |\n",
       "\n"
      ],
      "text/plain": [
       "    age ejection_fraction serum_creatinine serum_sodium DEATH_EVENT\n",
       "1   75  20                1.9              130          Fatal      \n",
       "2   55  38                1.1              136          Fatal      \n",
       "3   50  20                1.9              137          Fatal      \n",
       "⋮   ⋮   ⋮                 ⋮                ⋮            ⋮          \n",
       "166 62  38                1.1              143          Not Fatal  \n",
       "167 45  38                1.4              140          Not Fatal  \n",
       "168 50  45                1.6              136          Not Fatal  "
      ]
     },
     "metadata": {},
     "output_type": "display_data"
    }
   ],
   "source": [
    "heart_subset <- heart_subtrain|>\n",
    "    select(age,\n",
    "           ejection_fraction,\n",
    "           serum_creatinine,\n",
    "           serum_sodium,\n",
    "           DEATH_EVENT)\n",
    "\n",
    "names <- colnames(heart_subset |> select(-DEATH_EVENT))\n",
    "\n",
    "heart_subset"
   ]
  },
  {
   "cell_type": "code",
   "execution_count": 18,
   "id": "2f0e1b90-a87c-4687-a3cc-a3ecf2e483c2",
   "metadata": {},
   "outputs": [
    {
     "data": {
      "text/html": [
       "<table class=\"dataframe\">\n",
       "<caption>A tibble: 4 × 3</caption>\n",
       "<thead>\n",
       "\t<tr><th scope=col>size</th><th scope=col>model_string</th><th scope=col>accuracy</th></tr>\n",
       "\t<tr><th scope=col>&lt;int&gt;</th><th scope=col>&lt;chr&gt;</th><th scope=col>&lt;dbl&gt;</th></tr>\n",
       "</thead>\n",
       "<tbody>\n",
       "\t<tr><td>1</td><td>DEATH_EVENT ~ serum_creatinine                                   </td><td>0.7018382</td></tr>\n",
       "\t<tr><td>2</td><td>DEATH_EVENT ~ serum_creatinine+ejection_fraction                 </td><td>0.7400735</td></tr>\n",
       "\t<tr><td>3</td><td>DEATH_EVENT ~ serum_creatinine+ejection_fraction+age             </td><td>0.7397059</td></tr>\n",
       "\t<tr><td>4</td><td>DEATH_EVENT ~ serum_creatinine+ejection_fraction+age+serum_sodium</td><td>0.7216912</td></tr>\n",
       "</tbody>\n",
       "</table>\n"
      ],
      "text/latex": [
       "A tibble: 4 × 3\n",
       "\\begin{tabular}{lll}\n",
       " size & model\\_string & accuracy\\\\\n",
       " <int> & <chr> & <dbl>\\\\\n",
       "\\hline\n",
       "\t 1 & DEATH\\_EVENT \\textasciitilde{} serum\\_creatinine                                    & 0.7018382\\\\\n",
       "\t 2 & DEATH\\_EVENT \\textasciitilde{} serum\\_creatinine+ejection\\_fraction                  & 0.7400735\\\\\n",
       "\t 3 & DEATH\\_EVENT \\textasciitilde{} serum\\_creatinine+ejection\\_fraction+age              & 0.7397059\\\\\n",
       "\t 4 & DEATH\\_EVENT \\textasciitilde{} serum\\_creatinine+ejection\\_fraction+age+serum\\_sodium & 0.7216912\\\\\n",
       "\\end{tabular}\n"
      ],
      "text/markdown": [
       "\n",
       "A tibble: 4 × 3\n",
       "\n",
       "| size &lt;int&gt; | model_string &lt;chr&gt; | accuracy &lt;dbl&gt; |\n",
       "|---|---|---|\n",
       "| 1 | DEATH_EVENT ~ serum_creatinine                                    | 0.7018382 |\n",
       "| 2 | DEATH_EVENT ~ serum_creatinine+ejection_fraction                  | 0.7400735 |\n",
       "| 3 | DEATH_EVENT ~ serum_creatinine+ejection_fraction+age              | 0.7397059 |\n",
       "| 4 | DEATH_EVENT ~ serum_creatinine+ejection_fraction+age+serum_sodium | 0.7216912 |\n",
       "\n"
      ],
      "text/plain": [
       "  size model_string                                                     \n",
       "1 1    DEATH_EVENT ~ serum_creatinine                                   \n",
       "2 2    DEATH_EVENT ~ serum_creatinine+ejection_fraction                 \n",
       "3 3    DEATH_EVENT ~ serum_creatinine+ejection_fraction+age             \n",
       "4 4    DEATH_EVENT ~ serum_creatinine+ejection_fraction+age+serum_sodium\n",
       "  accuracy \n",
       "1 0.7018382\n",
       "2 0.7400735\n",
       "3 0.7397059\n",
       "4 0.7216912"
      ]
     },
     "metadata": {},
     "output_type": "display_data"
    }
   ],
   "source": [
    "# create an empty tibble to store the results\n",
    "accuracies <- tibble(size = integer(), \n",
    "                     model_string = character(), \n",
    "                     accuracy = numeric())\n",
    "\n",
    "# create a model specification\n",
    "knn_spec <- nearest_neighbor(weight_func = \"rectangular\", \n",
    "                             neighbors = tune()) |>\n",
    "     set_engine(\"kknn\") |>\n",
    "     set_mode(\"classification\")\n",
    "\n",
    "# create a 5-fold cross-validation object\n",
    "heart_vfold <- vfold_cv(heart_subset, v = 5, strata = DEATH_EVENT)\n",
    "\n",
    "# store the total number of predictors\n",
    "n_total <- length(names)\n",
    "\n",
    "# stores selected predictors\n",
    "selected <- c()\n",
    "\n",
    "# for every size from 1 to the total number of predictors\n",
    "for (i in 1:n_total) {\n",
    "    # for every predictor still not added yet\n",
    "    accs <- list()\n",
    "    models <- list()\n",
    "    for (j in 1:length(names)) {\n",
    "        # create a model string for this combination of predictors\n",
    "        preds_new <- c(selected, names[[j]])\n",
    "        model_string <- paste(\"DEATH_EVENT\", \"~\", paste(preds_new, collapse=\"+\"))\n",
    "\n",
    "        # create a recipe from the model string\n",
    "        heart_recipe <- recipe(as.formula(model_string), \n",
    "                                data = heart_subset) |>\n",
    "                          step_scale(all_predictors()) |>\n",
    "                          step_center(all_predictors())\n",
    "\n",
    "        # tune the KNN classifier with these predictors, \n",
    "        # and collect the accuracy for the best K\n",
    "        acc <- workflow() |>\n",
    "          add_recipe(heart_recipe) |>\n",
    "          add_model(knn_spec) |>\n",
    "          tune_grid(resamples = heart_vfold, grid = 10) |>\n",
    "          collect_metrics() |>\n",
    "          filter(.metric == \"accuracy\") |>\n",
    "          summarize(mx = max(mean))\n",
    "        acc <- acc$mx |> unlist()\n",
    "\n",
    "        # add this result to the dataframe\n",
    "        accs[[j]] <- acc\n",
    "        models[[j]] <- model_string\n",
    "    }\n",
    "    jstar <- which.max(unlist(accs))\n",
    "    accuracies <- accuracies |> \n",
    "      add_row(size = i, \n",
    "              model_string = models[[jstar]], \n",
    "              accuracy = accs[[jstar]])\n",
    "    selected <- c(selected, names[[jstar]])\n",
    "    names <- names[-jstar]\n",
    "}\n",
    "accuracies"
   ]
  },
  {
   "cell_type": "markdown",
   "id": "85e5fbc3-781e-4e00-896b-946274a0a8a1",
   "metadata": {},
   "source": [
    "## Visualization"
   ]
  },
  {
   "cell_type": "markdown",
   "id": "016d2a54-78a5-4af9-aece-4e8babb09167",
   "metadata": {},
   "source": [
    "# - These visualization are in the order, topmost being the best one."
   ]
  },
  {
   "cell_type": "code",
   "execution_count": 19,
   "id": "6d4bc5e8-405e-4729-9572-46ec5a6ac13a",
   "metadata": {},
   "outputs": [
    {
     "data": {
      "image/png": "[encoded data removed]",
      "text/plain": [
       "plot without title"
      ]
     },
     "metadata": {
      "image/png": {
       "height": 480,
       "width": 600
      }
     },
     "output_type": "display_data"
    }
   ],
   "source": [
    "options(repr.plot.height = 8, repr.plot.width = 10)\n",
    "plot_1 <- heart_data_scaled |>\n",
    "    ggplot(aes(x = scaled_ejection_fraction, y = scaled_serum_creatinine, col = as_factor(DEATH_EVENT))) +\n",
    "        geom_point() +\n",
    "        labs(x = \"Scaled Ejection Fraction\", y = \"Scaled Serum Creatinine\", color = \"Fatality (0: Not fatal, 1: Fatal)\")+\n",
    "        theme(text = element_text(size = 20)) \n",
    "        \n",
    "plot_1"
   ]
  },
  {
   "cell_type": "code",
   "execution_count": 20,
   "id": "b0aad9b9-043b-4712-aca0-a68afcbbbc19",
   "metadata": {},
   "outputs": [
    {
     "data": {
      "image/png": "[encoded data removed]",
      "text/plain": [
       "plot without title"
      ]
     },
     "metadata": {
      "image/png": {
       "height": 480,
       "width": 600
      }
     },
     "output_type": "display_data"
    }
   ],
   "source": [
    "plot_2 <- heart_data_scaled |>\n",
    "    ggplot(aes(x = age, y = serum_sodium, col = as_factor(DEATH_EVENT))) +\n",
    "        geom_point() +\n",
    "        labs(x = \"Age\", y = \"Serum Sodium\", color = \"Fatality (0: Not fatal, 1: Fatal)\") +\n",
    "        theme(text = element_text(size = 20))\n",
    "    \n",
    "plot_2"
   ]
  },
  {
   "cell_type": "code",
   "execution_count": 21,
   "id": "2b3bf3fc-496b-478f-ad12-1f2d5848a383",
   "metadata": {},
   "outputs": [
    {
     "data": {
      "image/png": "[encoded data removed]",
      "text/plain": [
       "plot without title"
      ]
     },
     "metadata": {
      "image/png": {
       "height": 480,
       "width": 600
      }
     },
     "output_type": "display_data"
    }
   ],
   "source": [
    "plot_3 <- heart_data_scaled |>\n",
    "    ggplot(aes(x = ejection_fraction, y = serum_sodium, col = as_factor(DEATH_EVENT))) +\n",
    "        geom_point() +\n",
    "        labs(x = \"Ejection Fraction\", y = \"Serum Sodium\", color = \"Fatality (0: Not fatal, 1: Fatal)\") +\n",
    "        theme(text = element_text(size = 20))\n",
    "    \n",
    "plot_3"
   ]
  },
  {
   "cell_type": "markdown",
   "id": "ebd94d5c-005e-41f2-8e72-bdf6a2720331",
   "metadata": {},
   "source": [
    "## Methods"
   ]
  },
  {
   "cell_type": "markdown",
   "id": "5b88d178-901e-4554-992d-0fb1e36757f3",
   "metadata": {},
   "source": [
    "- We chose to remove all of the columns which had boolean observations and were not relevant except the death event which was the column to be predicted. We then scaled the data so that each column had equal contribution in the scatter plot.\n",
    "\n",
    "- We used the scatter plot because it was the only visualization that would give us a logical relationship . The bar was very congested and the histogram didn’t show an accurate relationship. However, going forward, we might choose to further analyze the data and try using other forms of visualizations for the final project. "
   ]
  },
  {
   "cell_type": "markdown",
   "id": "dd17d208-e593-4100-b707-6b4ae663913a",
   "metadata": {},
   "source": [
    "## Expected outcomes and significance:"
   ]
  },
  {
   "cell_type": "markdown",
   "id": "8ba14672-8d21-4f10-a3ef-96fc1ec58d80",
   "metadata": {},
   "source": [
    "- **What do you expect to find?**\n",
    "    \n",
    "    We are expected to find if our model works well enough and is successful in predicting the relationship between different factors and how they\n",
    "    affect death in the case of heart failure. For example, if a person with a high amount of ejection fraction is more or less likely to encounter \n",
    "    death upon undergoing heart failure. \n",
    "   \n",
    "- **What impact could such findings have?**\n",
    "    \n",
    "    Finding the answer to such questions will allow us to control the variables which result in death in the case of heart failure, and minimize deaths\n",
    "    which occur as a result of heart failure. This will have a huge impact as it can save numerous lives because heart failure is a leading cause of \n",
    "    death amongst adults.\n",
    "    \n",
    "- **What future questions could this lead to?**\n",
    "    \n",
    "    Some future questions which might potentially arise from this analysis are:\n",
    "     \n",
    "    1. How accurate is the analysis performed and how can the model be improved and refined in the future for results which are more \n",
    "          precise?\n",
    "    2. Can such analysis and models be applied to different diseases across the medical field and help reduce the percentage of deaths \n",
    "          occuring overall? "
   ]
  }
 ],
 "metadata": {
  "kernelspec": {
   "display_name": "R",
   "language": "R",
   "name": "ir"
  },
  "language_info": {
   "codemirror_mode": "r",
   "file_extension": ".r",
   "mimetype": "text/x-r-source",
   "name": "R",
   "pygments_lexer": "r",
   "version": "4.1.3"
  }
 },
 "nbformat": 4,
 "nbformat_minor": 5
}
